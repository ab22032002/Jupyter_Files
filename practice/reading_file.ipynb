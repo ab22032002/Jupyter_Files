{
 "cells": [
  {
   "cell_type": "code",
   "execution_count": 9,
   "id": "6e6b711a",
   "metadata": {},
   "outputs": [
    {
     "data": {
      "text/plain": [
       "'We must close the Files We opened as it overheads the SYSTEM'"
      ]
     },
     "execution_count": 9,
     "metadata": {},
     "output_type": "execute_result"
    }
   ],
   "source": [
    "f=open('file1.txt')\n",
    "f.read()\n",
    "f.close()\n",
    "f=open('file1.txt','w')\n",
    "f.write(\"We must close the Files We opened as it overheads the SYSTEM\")\n",
    "f.close()\n",
    "f=open('file1.txt')\n",
    "f.read()"
   ]
  },
  {
   "cell_type": "code",
   "execution_count": 11,
   "id": "99d70652",
   "metadata": {},
   "outputs": [
    {
     "name": "stdout",
     "output_type": "stream",
     "text": [
      "\n",
      "\n",
      "\n"
     ]
    }
   ],
   "source": [
    "with open(\"camelot.txt\") as song:\n",
    "    print(song.read(2))\n",
    "    print(song.read(8))\n",
    "    print(song.read())"
   ]
  },
  {
   "cell_type": "code",
   "execution_count": null,
   "id": "d133a363",
   "metadata": {},
   "outputs": [],
   "source": []
  }
 ],
 "metadata": {
  "kernelspec": {
   "display_name": "Python 3 (ipykernel)",
   "language": "python",
   "name": "python3"
  },
  "language_info": {
   "codemirror_mode": {
    "name": "ipython",
    "version": 3
   },
   "file_extension": ".py",
   "mimetype": "text/x-python",
   "name": "python",
   "nbconvert_exporter": "python",
   "pygments_lexer": "ipython3",
   "version": "3.9.7"
  }
 },
 "nbformat": 4,
 "nbformat_minor": 5
}
