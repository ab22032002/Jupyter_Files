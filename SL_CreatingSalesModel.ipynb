{
 "cells": [
  {
   "cell_type": "code",
   "execution_count": 5,
   "id": "f2116c4a",
   "metadata": {},
   "outputs": [],
   "source": [
    "#immport the neccesary libraries\n",
    "import pandas as pd\n",
    "import numpy as np\n",
    "from sklearn.preprocessing import LabelEncoder\n",
    "from sklearn.linear_model import LinearRegression\n",
    "from sklearn.metrics import r2_score,mean_squared_error\n",
    "import matplotlib.pyplot as plt \n",
    "%matplotlib inline "
   ]
  },
  {
   "cell_type": "code",
   "execution_count": 6,
   "id": "47f6d402",
   "metadata": {},
   "outputs": [],
   "source": [
    "# Loading the DataSets :\n",
    "# train = pd.read_csv(\"Demo_Datasets\\Lesson 4/train.csv\")\n",
    "# test= pd.read_csv(\"Demo_Datasets\\Lesson 4/test.csv\")\n",
    "train=pd.read_csv(\"Demo_Datasets\\Lesson 4/bigmart_train.csv\")\n",
    "test= pd.read_csv(\"Demo_Datasets\\Lesson 4/bigmart_test.csv\")"
   ]
  },
  {
   "cell_type": "code",
   "execution_count": 7,
   "id": "6f2b9371",
   "metadata": {},
   "outputs": [
    {
     "data": {
      "text/plain": [
       "(8523, 12)"
      ]
     },
     "execution_count": 7,
     "metadata": {},
     "output_type": "execute_result"
    }
   ],
   "source": [
    "# Checking the shape of the dataset : Train\n",
    "train.shape"
   ]
  },
  {
   "cell_type": "code",
   "execution_count": 8,
   "id": "cb6ec9e6",
   "metadata": {},
   "outputs": [
    {
     "data": {
      "text/plain": [
       "(5681, 11)"
      ]
     },
     "execution_count": 8,
     "metadata": {},
     "output_type": "execute_result"
    }
   ],
   "source": [
    "#  Checking the shape of the dataset : Test\n",
    "test.shape"
   ]
  },
  {
   "cell_type": "code",
   "execution_count": 10,
   "id": "2624d6a0",
   "metadata": {},
   "outputs": [
    {
     "data": {
      "text/plain": [
       "Index(['Item_Identifier', 'Item_Weight', 'Item_Fat_Content', 'Item_Visibility',\n",
       "       'Item_Type', 'Item_MRP', 'Outlet_Identifier',\n",
       "       'Outlet_Establishment_Year', 'Outlet_Size', 'Outlet_Location_Type',\n",
       "       'Outlet_Type', 'Item_Outlet_Sales'],\n",
       "      dtype='object')"
      ]
     },
     "execution_count": 10,
     "metadata": {},
     "output_type": "execute_result"
    }
   ],
   "source": [
    "# Printing the columns of the Train Datasets \n",
    "train.columns"
   ]
  },
  {
   "cell_type": "code",
   "execution_count": 11,
   "id": "9acae2b2",
   "metadata": {},
   "outputs": [
    {
     "data": {
      "text/plain": [
       "Index(['Item_Identifier', 'Item_Weight', 'Item_Fat_Content', 'Item_Visibility',\n",
       "       'Item_Type', 'Item_MRP', 'Outlet_Identifier',\n",
       "       'Outlet_Establishment_Year', 'Outlet_Size', 'Outlet_Location_Type',\n",
       "       'Outlet_Type'],\n",
       "      dtype='object')"
      ]
     },
     "execution_count": 11,
     "metadata": {},
     "output_type": "execute_result"
    }
   ],
   "source": [
    "# Printing the columns of the Test Datasets \n",
    "test.columns"
   ]
  },
  {
   "cell_type": "code",
   "execution_count": 13,
   "id": "fa453d82",
   "metadata": {},
   "outputs": [
    {
     "name": "stdout",
     "output_type": "stream",
     "text": [
      "(14204, 13)\n"
     ]
    }
   ],
   "source": [
    "# Combine test and the train data file into one file to perform the EDA Exploratory Data Analysis \n",
    "train[\"source\"]= \"train\"\n",
    "test[\"source\"]=\"test\"\n",
    "data= pd.concat([train,test],ignore_index=True)\n",
    "print(data.shape)"
   ]
  },
  {
   "cell_type": "code",
   "execution_count": 15,
   "id": "3cc62c8e",
   "metadata": {},
   "outputs": [
    {
     "data": {
      "text/html": [
       "<div>\n",
       "<style scoped>\n",
       "    .dataframe tbody tr th:only-of-type {\n",
       "        vertical-align: middle;\n",
       "    }\n",
       "\n",
       "    .dataframe tbody tr th {\n",
       "        vertical-align: top;\n",
       "    }\n",
       "\n",
       "    .dataframe thead th {\n",
       "        text-align: right;\n",
       "    }\n",
       "</style>\n",
       "<table border=\"1\" class=\"dataframe\">\n",
       "  <thead>\n",
       "    <tr style=\"text-align: right;\">\n",
       "      <th></th>\n",
       "      <th>Item_Identifier</th>\n",
       "      <th>Item_Weight</th>\n",
       "      <th>Item_Fat_Content</th>\n",
       "      <th>Item_Visibility</th>\n",
       "      <th>Item_Type</th>\n",
       "      <th>Item_MRP</th>\n",
       "      <th>Outlet_Identifier</th>\n",
       "      <th>Outlet_Establishment_Year</th>\n",
       "      <th>Outlet_Size</th>\n",
       "      <th>Outlet_Location_Type</th>\n",
       "      <th>Outlet_Type</th>\n",
       "      <th>Item_Outlet_Sales</th>\n",
       "      <th>source</th>\n",
       "    </tr>\n",
       "  </thead>\n",
       "  <tbody>\n",
       "    <tr>\n",
       "      <th>0</th>\n",
       "      <td>FDA15</td>\n",
       "      <td>9.30</td>\n",
       "      <td>Low Fat</td>\n",
       "      <td>0.016047</td>\n",
       "      <td>Dairy</td>\n",
       "      <td>249.8092</td>\n",
       "      <td>OUT049</td>\n",
       "      <td>1999</td>\n",
       "      <td>Medium</td>\n",
       "      <td>Tier 1</td>\n",
       "      <td>Supermarket Type1</td>\n",
       "      <td>3735.1380</td>\n",
       "      <td>train</td>\n",
       "    </tr>\n",
       "    <tr>\n",
       "      <th>1</th>\n",
       "      <td>DRC01</td>\n",
       "      <td>5.92</td>\n",
       "      <td>Regular</td>\n",
       "      <td>0.019278</td>\n",
       "      <td>Soft Drinks</td>\n",
       "      <td>48.2692</td>\n",
       "      <td>OUT018</td>\n",
       "      <td>2009</td>\n",
       "      <td>Medium</td>\n",
       "      <td>Tier 3</td>\n",
       "      <td>Supermarket Type2</td>\n",
       "      <td>443.4228</td>\n",
       "      <td>train</td>\n",
       "    </tr>\n",
       "    <tr>\n",
       "      <th>2</th>\n",
       "      <td>FDN15</td>\n",
       "      <td>17.50</td>\n",
       "      <td>Low Fat</td>\n",
       "      <td>0.016760</td>\n",
       "      <td>Meat</td>\n",
       "      <td>141.6180</td>\n",
       "      <td>OUT049</td>\n",
       "      <td>1999</td>\n",
       "      <td>Medium</td>\n",
       "      <td>Tier 1</td>\n",
       "      <td>Supermarket Type1</td>\n",
       "      <td>2097.2700</td>\n",
       "      <td>train</td>\n",
       "    </tr>\n",
       "    <tr>\n",
       "      <th>3</th>\n",
       "      <td>FDX07</td>\n",
       "      <td>19.20</td>\n",
       "      <td>Regular</td>\n",
       "      <td>0.000000</td>\n",
       "      <td>Fruits and Vegetables</td>\n",
       "      <td>182.0950</td>\n",
       "      <td>OUT010</td>\n",
       "      <td>1998</td>\n",
       "      <td>NaN</td>\n",
       "      <td>Tier 3</td>\n",
       "      <td>Grocery Store</td>\n",
       "      <td>732.3800</td>\n",
       "      <td>train</td>\n",
       "    </tr>\n",
       "    <tr>\n",
       "      <th>4</th>\n",
       "      <td>NCD19</td>\n",
       "      <td>8.93</td>\n",
       "      <td>Low Fat</td>\n",
       "      <td>0.000000</td>\n",
       "      <td>Household</td>\n",
       "      <td>53.8614</td>\n",
       "      <td>OUT013</td>\n",
       "      <td>1987</td>\n",
       "      <td>High</td>\n",
       "      <td>Tier 3</td>\n",
       "      <td>Supermarket Type1</td>\n",
       "      <td>994.7052</td>\n",
       "      <td>train</td>\n",
       "    </tr>\n",
       "  </tbody>\n",
       "</table>\n",
       "</div>"
      ],
      "text/plain": [
       "  Item_Identifier  Item_Weight Item_Fat_Content  Item_Visibility  \\\n",
       "0           FDA15         9.30          Low Fat         0.016047   \n",
       "1           DRC01         5.92          Regular         0.019278   \n",
       "2           FDN15        17.50          Low Fat         0.016760   \n",
       "3           FDX07        19.20          Regular         0.000000   \n",
       "4           NCD19         8.93          Low Fat         0.000000   \n",
       "\n",
       "               Item_Type  Item_MRP Outlet_Identifier  \\\n",
       "0                  Dairy  249.8092            OUT049   \n",
       "1            Soft Drinks   48.2692            OUT018   \n",
       "2                   Meat  141.6180            OUT049   \n",
       "3  Fruits and Vegetables  182.0950            OUT010   \n",
       "4              Household   53.8614            OUT013   \n",
       "\n",
       "   Outlet_Establishment_Year Outlet_Size Outlet_Location_Type  \\\n",
       "0                       1999      Medium               Tier 1   \n",
       "1                       2009      Medium               Tier 3   \n",
       "2                       1999      Medium               Tier 1   \n",
       "3                       1998         NaN               Tier 3   \n",
       "4                       1987        High               Tier 3   \n",
       "\n",
       "         Outlet_Type  Item_Outlet_Sales source  \n",
       "0  Supermarket Type1          3735.1380  train  \n",
       "1  Supermarket Type2           443.4228  train  \n",
       "2  Supermarket Type1          2097.2700  train  \n",
       "3      Grocery Store           732.3800  train  \n",
       "4  Supermarket Type1           994.7052  train  "
      ]
     },
     "execution_count": 15,
     "metadata": {},
     "output_type": "execute_result"
    }
   ],
   "source": [
    "data.head()"
   ]
  },
  {
   "cell_type": "code",
   "execution_count": 16,
   "id": "dad40105",
   "metadata": {},
   "outputs": [
    {
     "data": {
      "text/html": [
       "<div>\n",
       "<style scoped>\n",
       "    .dataframe tbody tr th:only-of-type {\n",
       "        vertical-align: middle;\n",
       "    }\n",
       "\n",
       "    .dataframe tbody tr th {\n",
       "        vertical-align: top;\n",
       "    }\n",
       "\n",
       "    .dataframe thead th {\n",
       "        text-align: right;\n",
       "    }\n",
       "</style>\n",
       "<table border=\"1\" class=\"dataframe\">\n",
       "  <thead>\n",
       "    <tr style=\"text-align: right;\">\n",
       "      <th></th>\n",
       "      <th>Item_Weight</th>\n",
       "      <th>Item_Visibility</th>\n",
       "      <th>Item_MRP</th>\n",
       "      <th>Outlet_Establishment_Year</th>\n",
       "      <th>Item_Outlet_Sales</th>\n",
       "    </tr>\n",
       "  </thead>\n",
       "  <tbody>\n",
       "    <tr>\n",
       "      <th>count</th>\n",
       "      <td>11765.000000</td>\n",
       "      <td>14204.000000</td>\n",
       "      <td>14204.000000</td>\n",
       "      <td>14204.000000</td>\n",
       "      <td>8523.000000</td>\n",
       "    </tr>\n",
       "    <tr>\n",
       "      <th>mean</th>\n",
       "      <td>12.792854</td>\n",
       "      <td>0.065953</td>\n",
       "      <td>141.004977</td>\n",
       "      <td>1997.830681</td>\n",
       "      <td>2181.288914</td>\n",
       "    </tr>\n",
       "    <tr>\n",
       "      <th>std</th>\n",
       "      <td>4.652502</td>\n",
       "      <td>0.051459</td>\n",
       "      <td>62.086938</td>\n",
       "      <td>8.371664</td>\n",
       "      <td>1706.499616</td>\n",
       "    </tr>\n",
       "    <tr>\n",
       "      <th>min</th>\n",
       "      <td>4.555000</td>\n",
       "      <td>0.000000</td>\n",
       "      <td>31.290000</td>\n",
       "      <td>1985.000000</td>\n",
       "      <td>33.290000</td>\n",
       "    </tr>\n",
       "    <tr>\n",
       "      <th>25%</th>\n",
       "      <td>8.710000</td>\n",
       "      <td>0.027036</td>\n",
       "      <td>94.012000</td>\n",
       "      <td>1987.000000</td>\n",
       "      <td>834.247400</td>\n",
       "    </tr>\n",
       "    <tr>\n",
       "      <th>50%</th>\n",
       "      <td>12.600000</td>\n",
       "      <td>0.054021</td>\n",
       "      <td>142.247000</td>\n",
       "      <td>1999.000000</td>\n",
       "      <td>1794.331000</td>\n",
       "    </tr>\n",
       "    <tr>\n",
       "      <th>75%</th>\n",
       "      <td>16.750000</td>\n",
       "      <td>0.094037</td>\n",
       "      <td>185.855600</td>\n",
       "      <td>2004.000000</td>\n",
       "      <td>3101.296400</td>\n",
       "    </tr>\n",
       "    <tr>\n",
       "      <th>max</th>\n",
       "      <td>21.350000</td>\n",
       "      <td>0.328391</td>\n",
       "      <td>266.888400</td>\n",
       "      <td>2009.000000</td>\n",
       "      <td>13086.964800</td>\n",
       "    </tr>\n",
       "  </tbody>\n",
       "</table>\n",
       "</div>"
      ],
      "text/plain": [
       "        Item_Weight  Item_Visibility      Item_MRP  Outlet_Establishment_Year  \\\n",
       "count  11765.000000     14204.000000  14204.000000               14204.000000   \n",
       "mean      12.792854         0.065953    141.004977                1997.830681   \n",
       "std        4.652502         0.051459     62.086938                   8.371664   \n",
       "min        4.555000         0.000000     31.290000                1985.000000   \n",
       "25%        8.710000         0.027036     94.012000                1987.000000   \n",
       "50%       12.600000         0.054021    142.247000                1999.000000   \n",
       "75%       16.750000         0.094037    185.855600                2004.000000   \n",
       "max       21.350000         0.328391    266.888400                2009.000000   \n",
       "\n",
       "       Item_Outlet_Sales  \n",
       "count        8523.000000  \n",
       "mean         2181.288914  \n",
       "std          1706.499616  \n",
       "min            33.290000  \n",
       "25%           834.247400  \n",
       "50%          1794.331000  \n",
       "75%          3101.296400  \n",
       "max         13086.964800  "
      ]
     },
     "execution_count": 16,
     "metadata": {},
     "output_type": "execute_result"
    }
   ],
   "source": [
    "# Numerical Data Summary of the DataSets \n",
    "data.describe()"
   ]
  },
  {
   "cell_type": "code",
   "execution_count": 17,
   "id": "bb7c4ebe",
   "metadata": {},
   "outputs": [
    {
     "data": {
      "text/plain": [
       "Item_Identifier                 0\n",
       "Item_Weight                  2439\n",
       "Item_Fat_Content                0\n",
       "Item_Visibility                 0\n",
       "Item_Type                       0\n",
       "Item_MRP                        0\n",
       "Outlet_Identifier               0\n",
       "Outlet_Establishment_Year       0\n",
       "Outlet_Size                  4016\n",
       "Outlet_Location_Type            0\n",
       "Outlet_Type                     0\n",
       "Item_Outlet_Sales            5681\n",
       "source                          0\n",
       "dtype: int64"
      ]
     },
     "execution_count": 17,
     "metadata": {},
     "output_type": "execute_result"
    }
   ],
   "source": [
    "# Checking Missing Values \n",
    "data.isnull().sum()"
   ]
  },
  {
   "cell_type": "code",
   "execution_count": 18,
   "id": "a762b61b",
   "metadata": {},
   "outputs": [],
   "source": [
    "# Maximum number Of Missing Values can be seen in the Item_Outlet_Sales (5681)and others can be barely seen with 4016 and 2439 "
   ]
  },
  {
   "cell_type": "code",
   "execution_count": 19,
   "id": "54fc9699",
   "metadata": {},
   "outputs": [
    {
     "data": {
      "text/plain": [
       "array(['Low Fat', 'Regular', 'low fat', 'LF', 'reg'], dtype=object)"
      ]
     },
     "execution_count": 19,
     "metadata": {},
     "output_type": "execute_result"
    }
   ],
   "source": [
    "# Printing the Unique values in the Dataset Specific in the Item_Fat_Content\n",
    "data[\"Item_Fat_Content\"].unique()"
   ]
  },
  {
   "cell_type": "code",
   "execution_count": 32,
   "id": "8b689e5f",
   "metadata": {},
   "outputs": [
    {
     "data": {
      "text/plain": [
       "array([1999, 2009, 1998, 1987, 1985, 2002, 2007, 1997, 2004], dtype=int64)"
      ]
     },
     "execution_count": 32,
     "metadata": {},
     "output_type": "execute_result"
    }
   ],
   "source": [
    "# Printing the unique values in the Outlet_eastablishment_Year\n",
    "# data[\"Outlet_Establishment_Year\"]=data[\"Outlet_Age\"]\n",
    "data[\"Outlet_Establishment_Year\"].unique()"
   ]
  },
  {
   "cell_type": "code",
   "execution_count": 30,
   "id": "18e277f3",
   "metadata": {},
   "outputs": [
    {
     "data": {
      "text/html": [
       "<div>\n",
       "<style scoped>\n",
       "    .dataframe tbody tr th:only-of-type {\n",
       "        vertical-align: middle;\n",
       "    }\n",
       "\n",
       "    .dataframe tbody tr th {\n",
       "        vertical-align: top;\n",
       "    }\n",
       "\n",
       "    .dataframe thead th {\n",
       "        text-align: right;\n",
       "    }\n",
       "</style>\n",
       "<table border=\"1\" class=\"dataframe\">\n",
       "  <thead>\n",
       "    <tr style=\"text-align: right;\">\n",
       "      <th></th>\n",
       "      <th>Item_Identifier</th>\n",
       "      <th>Item_Weight</th>\n",
       "      <th>Item_Fat_Content</th>\n",
       "      <th>Item_Visibility</th>\n",
       "      <th>Item_Type</th>\n",
       "      <th>Item_MRP</th>\n",
       "      <th>Outlet_Identifier</th>\n",
       "      <th>Outlet_Establishment_Year</th>\n",
       "      <th>Outlet_Size</th>\n",
       "      <th>Outlet_Location_Type</th>\n",
       "      <th>Outlet_Type</th>\n",
       "      <th>Item_Outlet_Sales</th>\n",
       "      <th>source</th>\n",
       "      <th>Outlet_Age</th>\n",
       "    </tr>\n",
       "  </thead>\n",
       "  <tbody>\n",
       "    <tr>\n",
       "      <th>0</th>\n",
       "      <td>FDA15</td>\n",
       "      <td>9.30</td>\n",
       "      <td>Low Fat</td>\n",
       "      <td>0.016047</td>\n",
       "      <td>Dairy</td>\n",
       "      <td>249.8092</td>\n",
       "      <td>OUT049</td>\n",
       "      <td>1999</td>\n",
       "      <td>Medium</td>\n",
       "      <td>Tier 1</td>\n",
       "      <td>Supermarket Type1</td>\n",
       "      <td>3735.1380</td>\n",
       "      <td>train</td>\n",
       "      <td>19</td>\n",
       "    </tr>\n",
       "    <tr>\n",
       "      <th>1</th>\n",
       "      <td>DRC01</td>\n",
       "      <td>5.92</td>\n",
       "      <td>Regular</td>\n",
       "      <td>0.019278</td>\n",
       "      <td>Soft Drinks</td>\n",
       "      <td>48.2692</td>\n",
       "      <td>OUT018</td>\n",
       "      <td>2009</td>\n",
       "      <td>Medium</td>\n",
       "      <td>Tier 3</td>\n",
       "      <td>Supermarket Type2</td>\n",
       "      <td>443.4228</td>\n",
       "      <td>train</td>\n",
       "      <td>9</td>\n",
       "    </tr>\n",
       "  </tbody>\n",
       "</table>\n",
       "</div>"
      ],
      "text/plain": [
       "  Item_Identifier  Item_Weight Item_Fat_Content  Item_Visibility    Item_Type  \\\n",
       "0           FDA15         9.30          Low Fat         0.016047        Dairy   \n",
       "1           DRC01         5.92          Regular         0.019278  Soft Drinks   \n",
       "\n",
       "   Item_MRP Outlet_Identifier  Outlet_Establishment_Year Outlet_Size  \\\n",
       "0  249.8092            OUT049                       1999      Medium   \n",
       "1   48.2692            OUT018                       2009      Medium   \n",
       "\n",
       "  Outlet_Location_Type        Outlet_Type  Item_Outlet_Sales source  \\\n",
       "0               Tier 1  Supermarket Type1          3735.1380  train   \n",
       "1               Tier 3  Supermarket Type2           443.4228  train   \n",
       "\n",
       "   Outlet_Age  \n",
       "0          19  \n",
       "1           9  "
      ]
     },
     "execution_count": 30,
     "metadata": {},
     "output_type": "execute_result"
    }
   ],
   "source": [
    "# Calculate the Outlet age \n",
    "data[\"Outlet_Age\"]=2018-data[\"Outlet_Establishment_Year\"]\n",
    "data.head(2)"
   ]
  },
  {
   "cell_type": "code",
   "execution_count": 34,
   "id": "127fe3bd",
   "metadata": {},
   "outputs": [
    {
     "data": {
      "text/plain": [
       "array(['Medium', nan, 'High', 'Small'], dtype=object)"
      ]
     },
     "execution_count": 34,
     "metadata": {},
     "output_type": "execute_result"
    }
   ],
   "source": [
    "# Unique Values in the Oulet_Size\n",
    "data[\"Outlet_Size\"].unique()"
   ]
  },
  {
   "cell_type": "code",
   "execution_count": 36,
   "id": "61ba43c7",
   "metadata": {},
   "outputs": [
    {
     "data": {
      "text/plain": [
       "Low Fat    8485\n",
       "Regular    4824\n",
       "LF          522\n",
       "reg         195\n",
       "low fat     178\n",
       "Name: Item_Fat_Content, dtype: int64"
      ]
     },
     "execution_count": 36,
     "metadata": {},
     "output_type": "execute_result"
    }
   ],
   "source": [
    "# nan in the above column depicts there are Misssing Values in this Colummn :::\n",
    "# Printing The Count Value of Item_Fat_Content :\n",
    "data[\"Item_Fat_Content\"].value_counts()"
   ]
  },
  {
   "cell_type": "code",
   "execution_count": 39,
   "id": "c3e12bfd",
   "metadata": {},
   "outputs": [
    {
     "data": {
      "text/plain": [
       "Medium    4655\n",
       "Small     3980\n",
       "High      1553\n",
       "Name: Outlet_Size, dtype: int64"
      ]
     },
     "execution_count": 39,
     "metadata": {},
     "output_type": "execute_result"
    }
   ],
   "source": [
    "# Printing The Count Value of Outlet Size :\n",
    "data[\"Outlet_Size\"].value_counts()"
   ]
  },
  {
   "cell_type": "code",
   "execution_count": 43,
   "id": "ad63cb9e",
   "metadata": {},
   "outputs": [
    {
     "data": {
      "text/plain": [
       "'Medium'"
      ]
     },
     "execution_count": 43,
     "metadata": {},
     "output_type": "execute_result"
    }
   ],
   "source": [
    "# Using the Mode Function to find the Most Commonly Occuring Values:\n",
    "data[\"Outlet_Size\"].mode()[0]"
   ]
  },
  {
   "cell_type": "code",
   "execution_count": 44,
   "id": "612fc949",
   "metadata": {},
   "outputs": [],
   "source": [
    "# There are 2 Columns with Missing values we're replacing it with the Mode of the respective Columns :\n",
    "# Replcing the Missing value in of Outlet size with the mode :\n",
    "data[\"Outlet_Size\"]=data[\"Outlet_Size\"].fillna(data[\"Outlet_Size\"].mode()[0])"
   ]
  },
  {
   "cell_type": "code",
   "execution_count": 45,
   "id": "b45b11ba",
   "metadata": {},
   "outputs": [],
   "source": [
    "# Replacing the missing values in the Item_weight with the mean Weight:\n",
    "data[\"Item_Weight\"]=data[\"Item_Weight\"].fillna(data[\"Item_Weight\"].mean())"
   ]
  },
  {
   "cell_type": "code",
   "execution_count": 46,
   "id": "27be5a06",
   "metadata": {},
   "outputs": [
    {
     "data": {
      "text/plain": [
       "<AxesSubplot:>"
      ]
     },
     "execution_count": 46,
     "metadata": {},
     "output_type": "execute_result"
    },
    {
     "data": {
      "image/png": "[encoded data removed]",
      "text/plain": [
       "<Figure size 432x288 with 1 Axes>"
      ]
     },
     "metadata": {
      "needs_background": "light"
     },
     "output_type": "display_data"
    }
   ],
   "source": [
    "# Plot The Histogram to reveal the Distributions of Item_Visibility Column :\n",
    "data[\"Item_Visibility\"].hist(bins=20)"
   ]
  },
  {
   "cell_type": "code",
   "execution_count": 64,
   "id": "cf3b3712",
   "metadata": {},
   "outputs": [],
   "source": [
    "# Detecting the OutLiers :\n",
    "# An Outlier is a data point that lies Outside the Overall Pattern in a Distribution.\n",
    "# A commonly Used rule states that a data point is an outlier if it is more than 1.5*IQR (Inter Quartile range)\n",
    "# above the third Quartile or Below the First Quartile \n",
    "#using this ,one can remove the outliers and output the resulting data in fill_data variable\n",
    "# Calculate the first Quartile for Item_Visibility \n",
    "Q1= data[\"Item_Visibility\"].quantile(0.25)"
   ]
  },
  {
   "cell_type": "code",
   "execution_count": 65,
   "id": "698dd7b9",
   "metadata": {},
   "outputs": [],
   "source": [
    "# Calculate the Second Quartile for Item_Visibility \n",
    "Q3= data[\"Item_Visibility\"].quantile(0.75)"
   ]
  },
  {
   "cell_type": "code",
   "execution_count": 66,
   "id": "81c48ad5",
   "metadata": {},
   "outputs": [],
   "source": [
    "# Calculate the InterQuartileRange (IQR)\n",
    "IQR = Q3-Q1"
   ]
  },
  {
   "cell_type": "code",
   "execution_count": 67,
   "id": "22474fc5",
   "metadata": {},
   "outputs": [],
   "source": [
    "# Now that the IQR range is Known, remove the Outliers from the data \n",
    "# The Resulting data is Stored in Fill_data Variable :\n",
    "fill_data=data.query('(@Q1 - 1.5 * @IQR) <= Item_Visibility <= (@Q3 + 1.5*@IQR)')"
   ]
  },
  {
   "cell_type": "code",
   "execution_count": 68,
   "id": "12a0827f",
   "metadata": {},
   "outputs": [
    {
     "data": {
      "text/html": [
       "<div>\n",
       "<style scoped>\n",
       "    .dataframe tbody tr th:only-of-type {\n",
       "        vertical-align: middle;\n",
       "    }\n",
       "\n",
       "    .dataframe tbody tr th {\n",
       "        vertical-align: top;\n",
       "    }\n",
       "\n",
       "    .dataframe thead th {\n",
       "        text-align: right;\n",
       "    }\n",
       "</style>\n",
       "<table border=\"1\" class=\"dataframe\">\n",
       "  <thead>\n",
       "    <tr style=\"text-align: right;\">\n",
       "      <th></th>\n",
       "      <th>Item_Identifier</th>\n",
       "      <th>Item_Weight</th>\n",
       "      <th>Item_Fat_Content</th>\n",
       "      <th>Item_Visibility</th>\n",
       "      <th>Item_Type</th>\n",
       "      <th>Item_MRP</th>\n",
       "      <th>Outlet_Identifier</th>\n",
       "      <th>Outlet_Establishment_Year</th>\n",
       "      <th>Outlet_Size</th>\n",
       "      <th>Outlet_Location_Type</th>\n",
       "      <th>Outlet_Type</th>\n",
       "      <th>Item_Outlet_Sales</th>\n",
       "      <th>source</th>\n",
       "      <th>Outlet_Age</th>\n",
       "    </tr>\n",
       "  </thead>\n",
       "  <tbody>\n",
       "    <tr>\n",
       "      <th>0</th>\n",
       "      <td>FDA15</td>\n",
       "      <td>9.30</td>\n",
       "      <td>Low Fat</td>\n",
       "      <td>0.016047</td>\n",
       "      <td>Dairy</td>\n",
       "      <td>249.8092</td>\n",
       "      <td>OUT049</td>\n",
       "      <td>1999</td>\n",
       "      <td>Medium</td>\n",
       "      <td>Tier 1</td>\n",
       "      <td>Supermarket Type1</td>\n",
       "      <td>3735.1380</td>\n",
       "      <td>train</td>\n",
       "      <td>19</td>\n",
       "    </tr>\n",
       "    <tr>\n",
       "      <th>1</th>\n",
       "      <td>DRC01</td>\n",
       "      <td>5.92</td>\n",
       "      <td>Regular</td>\n",
       "      <td>0.019278</td>\n",
       "      <td>Soft Drinks</td>\n",
       "      <td>48.2692</td>\n",
       "      <td>OUT018</td>\n",
       "      <td>2009</td>\n",
       "      <td>Medium</td>\n",
       "      <td>Tier 3</td>\n",
       "      <td>Supermarket Type2</td>\n",
       "      <td>443.4228</td>\n",
       "      <td>train</td>\n",
       "      <td>9</td>\n",
       "    </tr>\n",
       "  </tbody>\n",
       "</table>\n",
       "</div>"
      ],
      "text/plain": [
       "  Item_Identifier  Item_Weight Item_Fat_Content  Item_Visibility    Item_Type  \\\n",
       "0           FDA15         9.30          Low Fat         0.016047        Dairy   \n",
       "1           DRC01         5.92          Regular         0.019278  Soft Drinks   \n",
       "\n",
       "   Item_MRP Outlet_Identifier  Outlet_Establishment_Year Outlet_Size  \\\n",
       "0  249.8092            OUT049                       1999      Medium   \n",
       "1   48.2692            OUT018                       2009      Medium   \n",
       "\n",
       "  Outlet_Location_Type        Outlet_Type  Item_Outlet_Sales source  \\\n",
       "0               Tier 1  Supermarket Type1          3735.1380  train   \n",
       "1               Tier 3  Supermarket Type2           443.4228  train   \n",
       "\n",
       "   Outlet_Age  \n",
       "0          19  \n",
       "1           9  "
      ]
     },
     "execution_count": 68,
     "metadata": {},
     "output_type": "execute_result"
    }
   ],
   "source": [
    "# Display the Data \n",
    "fill_data.head(2)"
   ]
  },
  {
   "cell_type": "code",
   "execution_count": 71,
   "id": "c3435c45",
   "metadata": {},
   "outputs": [
    {
     "data": {
      "text/plain": [
       "(13943, 14)"
      ]
     },
     "execution_count": 71,
     "metadata": {},
     "output_type": "execute_result"
    }
   ],
   "source": [
    "# Data_set (fill_data) without Outliers : \n",
    "fill_data.shape"
   ]
  },
  {
   "cell_type": "code",
   "execution_count": 72,
   "id": "430ce9e1",
   "metadata": {},
   "outputs": [
    {
     "data": {
      "text/plain": [
       "(14204, 14)"
      ]
     },
     "execution_count": 72,
     "metadata": {},
     "output_type": "execute_result"
    }
   ],
   "source": [
    "# The Actual Data set along with the Outliers :\n",
    "data.shape"
   ]
  },
  {
   "cell_type": "code",
   "execution_count": 73,
   "id": "98ef6452",
   "metadata": {},
   "outputs": [],
   "source": [
    "# Assign Fill_dataset to data Data_set\n",
    "data= fill_data"
   ]
  },
  {
   "cell_type": "code",
   "execution_count": 74,
   "id": "cead3fd4",
   "metadata": {},
   "outputs": [
    {
     "data": {
      "text/plain": [
       "(13943, 14)"
      ]
     },
     "execution_count": 74,
     "metadata": {},
     "output_type": "execute_result"
    }
   ],
   "source": [
    "data.shape"
   ]
  },
  {
   "cell_type": "code",
   "execution_count": 75,
   "id": "34254b2d",
   "metadata": {},
   "outputs": [
    {
     "name": "stderr",
     "output_type": "stream",
     "text": [
      "C:\\Users\\ABHINA~1\\AppData\\Local\\Temp/ipykernel_17972/250953025.py:2: SettingWithCopyWarning: \n",
      "A value is trying to be set on a copy of a slice from a DataFrame.\n",
      "Try using .loc[row_indexer,col_indexer] = value instead\n",
      "\n",
      "See the caveats in the documentation: https://pandas.pydata.org/pandas-docs/stable/user_guide/indexing.html#returning-a-view-versus-a-copy\n",
      "  data[\"Item_Visibility_bins\"]=pd.cut(data[\"Item_Visibility\"],[0.000,0.065,0.13,0.2],labels = {'Low Viz','Viz','High Viz'})\n"
     ]
    }
   ],
   "source": [
    "# Modify the Item_Visibility by converting the Numerical values to low Visibility , visibility and High Visibility ;\n",
    "data[\"Item_Visibility_bins\"]=pd.cut(data[\"Item_Visibility\"],[0.000,0.065,0.13,0.2],labels = {'Low Viz','Viz','High Viz'})"
   ]
  },
  {
   "cell_type": "code",
   "execution_count": 76,
   "id": "9ed3b396",
   "metadata": {},
   "outputs": [
    {
     "data": {
      "text/plain": [
       "Viz         7363\n",
       "High Viz    4283\n",
       "Low Viz     1418\n",
       "Name: Item_Visibility_bins, dtype: int64"
      ]
     },
     "execution_count": 76,
     "metadata": {},
     "output_type": "execute_result"
    }
   ],
   "source": [
    "# Print the count of Item_Visibility_bins \n",
    "data[\"Item_Visibility_bins\"].value_counts()"
   ]
  },
  {
   "cell_type": "code",
   "execution_count": 77,
   "id": "aa6fd36c",
   "metadata": {},
   "outputs": [
    {
     "name": "stderr",
     "output_type": "stream",
     "text": [
      "C:\\Users\\ABHINA~1\\AppData\\Local\\Temp/ipykernel_17972/2538576859.py:2: SettingWithCopyWarning: \n",
      "A value is trying to be set on a copy of a slice from a DataFrame.\n",
      "Try using .loc[row_indexer,col_indexer] = value instead\n",
      "\n",
      "See the caveats in the documentation: https://pandas.pydata.org/pandas-docs/stable/user_guide/indexing.html#returning-a-view-versus-a-copy\n",
      "  data[\"Item_Visiility_bins\"]=data[\"Item_Visibility_bins\"].replace(np.nan,\"Low Viz\",regex=True)\n"
     ]
    }
   ],
   "source": [
    "#Replace null values with Low Visibility\n",
    "data[\"Item_Visiility_bins\"]=data[\"Item_Visibility_bins\"].replace(np.nan,\"Low Viz\",regex=True)"
   ]
  },
  {
   "cell_type": "code",
   "execution_count": 78,
   "id": "c5d3fb31",
   "metadata": {},
   "outputs": [
    {
     "name": "stderr",
     "output_type": "stream",
     "text": [
      "C:\\Users\\ABHINA~1\\AppData\\Local\\Temp/ipykernel_17972/626311565.py:3: SettingWithCopyWarning: \n",
      "A value is trying to be set on a copy of a slice from a DataFrame.\n",
      "Try using .loc[row_indexer,col_indexer] = value instead\n",
      "\n",
      "See the caveats in the documentation: https://pandas.pydata.org/pandas-docs/stable/user_guide/indexing.html#returning-a-view-versus-a-copy\n",
      "  data[\"Item_Fat_Content\"]=data[\"Item_Fat_Content\"].replace([\"low fat\",\"LF\"],\"Low Fat\")\n"
     ]
    }
   ],
   "source": [
    "# We Found types and differences in the representation in the categories of the Item_Fat_Content Variable.\n",
    "# Replace all the representation of the low fat with low fat \n",
    "data[\"Item_Fat_Content\"]=data[\"Item_Fat_Content\"].replace([\"low fat\",\"LF\"],\"Low Fat\")"
   ]
  },
  {
   "cell_type": "code",
   "execution_count": 87,
   "id": "28ce47df",
   "metadata": {},
   "outputs": [
    {
     "name": "stderr",
     "output_type": "stream",
     "text": [
      "C:\\Users\\ABHINA~1\\AppData\\Local\\Temp/ipykernel_17972/4251457393.py:2: SettingWithCopyWarning: \n",
      "A value is trying to be set on a copy of a slice from a DataFrame.\n",
      "Try using .loc[row_indexer,col_indexer] = value instead\n",
      "\n",
      "See the caveats in the documentation: https://pandas.pydata.org/pandas-docs/stable/user_guide/indexing.html#returning-a-view-versus-a-copy\n",
      "  data[\"Item_Fat_Content\"]=data[\"Item_Fat_Content\"].replace([\"reg\",\"regular\"],\"Regular\")\n"
     ]
    }
   ],
   "source": [
    "# replace all the representstion of reg with Regular\n",
    "data[\"Item_Fat_Content\"]=data[\"Item_Fat_Content\"].replace([\"reg\",\"regular\"],\"Regular\")\n",
    "# while replacint the bunch of the data we must give it as the set of attributes :: Passed as the list of such items :"
   ]
  },
  {
   "cell_type": "code",
   "execution_count": 88,
   "id": "7849cdac",
   "metadata": {},
   "outputs": [
    {
     "data": {
      "text/plain": [
       "array(['Low Fat', 'Regular'], dtype=object)"
      ]
     },
     "execution_count": 88,
     "metadata": {},
     "output_type": "execute_result"
    }
   ],
   "source": [
    "data[\"Item_Fat_Content\"].unique()"
   ]
  },
  {
   "cell_type": "code",
   "execution_count": 95,
   "id": "532fdb09",
   "metadata": {},
   "outputs": [],
   "source": [
    "# Code all Categorical Variable as numeric  using 'LabelEncoder' from Sklearn's Preprocessing module:\n",
    "# Initialize the label Encoder\n",
    "le= LabelEncoder()"
   ]
  },
  {
   "cell_type": "code",
   "execution_count": 96,
   "id": "24393263",
   "metadata": {},
   "outputs": [
    {
     "name": "stderr",
     "output_type": "stream",
     "text": [
      "C:\\Users\\ABHINA~1\\AppData\\Local\\Temp/ipykernel_17972/4276610876.py:2: SettingWithCopyWarning: \n",
      "A value is trying to be set on a copy of a slice from a DataFrame.\n",
      "Try using .loc[row_indexer,col_indexer] = value instead\n",
      "\n",
      "See the caveats in the documentation: https://pandas.pydata.org/pandas-docs/stable/user_guide/indexing.html#returning-a-view-versus-a-copy\n",
      "  data[\"Item_Fat_Content\"]= le.fit_transform(data[\"Item_Fat_Content\"])\n"
     ]
    }
   ],
   "source": [
    "# transform the Item_Fat_Content\n",
    "data[\"Item_Fat_Content\"]= le.fit_transform(data[\"Item_Fat_Content\"])"
   ]
  },
  {
   "cell_type": "code",
   "execution_count": 99,
   "id": "14680b24",
   "metadata": {},
   "outputs": [
    {
     "name": "stderr",
     "output_type": "stream",
     "text": [
      "C:\\Users\\ABHINA~1\\AppData\\Local\\Temp/ipykernel_17972/3678935338.py:2: SettingWithCopyWarning: \n",
      "A value is trying to be set on a copy of a slice from a DataFrame.\n",
      "Try using .loc[row_indexer,col_indexer] = value instead\n",
      "\n",
      "See the caveats in the documentation: https://pandas.pydata.org/pandas-docs/stable/user_guide/indexing.html#returning-a-view-versus-a-copy\n",
      "  data[\"Item_Visibility_bins\"]=le.fit_transform(data[\"Item_Visibility_bins\"])\n"
     ]
    }
   ],
   "source": [
    "# transform the Item_Visibility_Bins\n",
    "data[\"Item_Visibility_bins\"]=le.fit_transform(data[\"Item_Visibility_bins\"])"
   ]
  },
  {
   "cell_type": "code",
   "execution_count": 104,
   "id": "9d2ea4aa",
   "metadata": {},
   "outputs": [
    {
     "name": "stderr",
     "output_type": "stream",
     "text": [
      "C:\\Users\\ABHINA~1\\AppData\\Local\\Temp/ipykernel_17972/1161992797.py:2: SettingWithCopyWarning: \n",
      "A value is trying to be set on a copy of a slice from a DataFrame.\n",
      "Try using .loc[row_indexer,col_indexer] = value instead\n",
      "\n",
      "See the caveats in the documentation: https://pandas.pydata.org/pandas-docs/stable/user_guide/indexing.html#returning-a-view-versus-a-copy\n",
      "  data[\"Outlet_Size\"]=le.fit_transform(data[\"Outlet_Size\"])\n"
     ]
    }
   ],
   "source": [
    "# Transform Outlet_size\n",
    "data[\"Outlet_Size\"]=le.fit_transform(data[\"Outlet_Size\"])"
   ]
  },
  {
   "cell_type": "code",
   "execution_count": 106,
   "id": "6d68d19b",
   "metadata": {},
   "outputs": [
    {
     "name": "stderr",
     "output_type": "stream",
     "text": [
      "C:\\Users\\ABHINA~1\\AppData\\Local\\Temp/ipykernel_17972/3403108823.py:2: SettingWithCopyWarning: \n",
      "A value is trying to be set on a copy of a slice from a DataFrame.\n",
      "Try using .loc[row_indexer,col_indexer] = value instead\n",
      "\n",
      "See the caveats in the documentation: https://pandas.pydata.org/pandas-docs/stable/user_guide/indexing.html#returning-a-view-versus-a-copy\n",
      "  data[\"Outlet_Location_Type\"]=le.fit_transform(data[\"Outlet_Location_Type\"])\n"
     ]
    }
   ],
   "source": [
    "# Transform Outlet_Location_Type\n",
    "data[\"Outlet_Location_Type\"]=le.fit_transform(data[\"Outlet_Location_Type\"])"
   ]
  },
  {
   "cell_type": "code",
   "execution_count": 110,
   "id": "f7a21975",
   "metadata": {},
   "outputs": [
    {
     "data": {
      "text/plain": [
       "array(['Supermarket Type1', 'Supermarket Type2', 'Grocery Store',\n",
       "       'Supermarket Type3'], dtype=object)"
      ]
     },
     "execution_count": 110,
     "metadata": {},
     "output_type": "execute_result"
    }
   ],
   "source": [
    "# Print the Unique Values of the Outlet_Type\n",
    "data[\"Outlet_Type\"].unique()"
   ]
  },
  {
   "cell_type": "code",
   "execution_count": 112,
   "id": "2d1245f7",
   "metadata": {},
   "outputs": [
    {
     "data": {
      "text/html": [
       "<div>\n",
       "<style scoped>\n",
       "    .dataframe tbody tr th:only-of-type {\n",
       "        vertical-align: middle;\n",
       "    }\n",
       "\n",
       "    .dataframe tbody tr th {\n",
       "        vertical-align: top;\n",
       "    }\n",
       "\n",
       "    .dataframe thead th {\n",
       "        text-align: right;\n",
       "    }\n",
       "</style>\n",
       "<table border=\"1\" class=\"dataframe\">\n",
       "  <thead>\n",
       "    <tr style=\"text-align: right;\">\n",
       "      <th></th>\n",
       "      <th>Grocery Store</th>\n",
       "      <th>Supermarket Type1</th>\n",
       "      <th>Supermarket Type2</th>\n",
       "      <th>Supermarket Type3</th>\n",
       "    </tr>\n",
       "  </thead>\n",
       "  <tbody>\n",
       "    <tr>\n",
       "      <th>0</th>\n",
       "      <td>0</td>\n",
       "      <td>1</td>\n",
       "      <td>0</td>\n",
       "      <td>0</td>\n",
       "    </tr>\n",
       "    <tr>\n",
       "      <th>1</th>\n",
       "      <td>0</td>\n",
       "      <td>0</td>\n",
       "      <td>1</td>\n",
       "      <td>0</td>\n",
       "    </tr>\n",
       "    <tr>\n",
       "      <th>2</th>\n",
       "      <td>0</td>\n",
       "      <td>1</td>\n",
       "      <td>0</td>\n",
       "      <td>0</td>\n",
       "    </tr>\n",
       "    <tr>\n",
       "      <th>3</th>\n",
       "      <td>1</td>\n",
       "      <td>0</td>\n",
       "      <td>0</td>\n",
       "      <td>0</td>\n",
       "    </tr>\n",
       "    <tr>\n",
       "      <th>4</th>\n",
       "      <td>0</td>\n",
       "      <td>1</td>\n",
       "      <td>0</td>\n",
       "      <td>0</td>\n",
       "    </tr>\n",
       "  </tbody>\n",
       "</table>\n",
       "</div>"
      ],
      "text/plain": [
       "   Grocery Store  Supermarket Type1  Supermarket Type2  Supermarket Type3\n",
       "0              0                  1                  0                  0\n",
       "1              0                  0                  1                  0\n",
       "2              0                  1                  0                  0\n",
       "3              1                  0                  0                  0\n",
       "4              0                  1                  0                  0"
      ]
     },
     "execution_count": 112,
     "metadata": {},
     "output_type": "execute_result"
    }
   ],
   "source": [
    "# Create Dummies for Outlet_Types\n",
    "dummy = pd.get_dummies(data[\"Outlet_Type\"])\n",
    "dummy.head()"
   ]
  },
  {
   "cell_type": "code",
   "execution_count": 113,
   "id": "7f8cfae8",
   "metadata": {},
   "outputs": [
    {
     "data": {
      "text/plain": [
       "0        FDA15\n",
       "1        DRC01\n",
       "2        FDN15\n",
       "3        FDX07\n",
       "4        NCD19\n",
       "         ...  \n",
       "14199    FDB58\n",
       "14200    FDD47\n",
       "14201    NCO17\n",
       "14202    FDJ26\n",
       "14203    FDU37\n",
       "Name: Item_Identifier, Length: 13943, dtype: object"
      ]
     },
     "execution_count": 113,
     "metadata": {},
     "output_type": "execute_result"
    }
   ],
   "source": [
    "# Explore the column Item_Identifier\n",
    "data[\"Item_Identifier\"]"
   ]
  },
  {
   "cell_type": "code",
   "execution_count": 114,
   "id": "7240dab3",
   "metadata": {},
   "outputs": [
    {
     "data": {
      "text/plain": [
       "FDE33    10\n",
       "FDM12    10\n",
       "FDY47    10\n",
       "FDT03    10\n",
       "FDO01    10\n",
       "         ..\n",
       "FDA10     7\n",
       "FDO33     7\n",
       "FDZ60     7\n",
       "NCW54     7\n",
       "FDG21     7\n",
       "Name: Item_Identifier, Length: 1559, dtype: int64"
      ]
     },
     "execution_count": 114,
     "metadata": {},
     "output_type": "execute_result"
    }
   ],
   "source": [
    "# As there are multiple value of Food ,noncosumable items,and drinks with different numbers ,combine the item types : \n",
    "data[\"Item_Identifier\"].value_counts()"
   ]
  },
  {
   "cell_type": "code",
   "execution_count": 116,
   "id": "a2d2c25f",
   "metadata": {},
   "outputs": [
    {
     "name": "stderr",
     "output_type": "stream",
     "text": [
      "C:\\Users\\ABHINA~1\\AppData\\Local\\Temp/ipykernel_17972/3726888507.py:2: SettingWithCopyWarning: \n",
      "A value is trying to be set on a copy of a slice from a DataFrame.\n",
      "Try using .loc[row_indexer,col_indexer] = value instead\n",
      "\n",
      "See the caveats in the documentation: https://pandas.pydata.org/pandas-docs/stable/user_guide/indexing.html#returning-a-view-versus-a-copy\n",
      "  data[\"Item_Type_Combined\"]= data[\"Item_Identifier\"].apply(lambda x : x[0:2])\n",
      "C:\\Users\\ABHINA~1\\AppData\\Local\\Temp/ipykernel_17972/3726888507.py:3: SettingWithCopyWarning: \n",
      "A value is trying to be set on a copy of a slice from a DataFrame.\n",
      "Try using .loc[row_indexer,col_indexer] = value instead\n",
      "\n",
      "See the caveats in the documentation: https://pandas.pydata.org/pandas-docs/stable/user_guide/indexing.html#returning-a-view-versus-a-copy\n",
      "  data[\"Item_Type_Combined\"]= data[\"Item_Type_Combined\"].map({'FD':'Food',\n"
     ]
    }
   ],
   "source": [
    "# There are Multiple Values present the Item_Identifier , reduce this by mapping :\n",
    "data[\"Item_Type_Combined\"]= data[\"Item_Identifier\"].apply(lambda x : x[0:2])\n",
    "data[\"Item_Type_Combined\"]= data[\"Item_Type_Combined\"].map({'FD':'Food',\n",
    "                                                            'NC':'Non-Consumable',\n",
    "                                                            'DR':'Drinks'})"
   ]
  },
  {
   "cell_type": "code",
   "execution_count": 117,
   "id": "3b1a0a26",
   "metadata": {},
   "outputs": [
    {
     "data": {
      "text/plain": [
       "array(['Food', 'Drinks', 'Non-Consumable'], dtype=object)"
      ]
     },
     "execution_count": 117,
     "metadata": {},
     "output_type": "execute_result"
    }
   ],
   "source": [
    "# Only three Categories are present in an Item_Type_Combined Column:\n",
    "data[\"Item_Type_Combined\"].unique()"
   ]
  },
  {
   "cell_type": "code",
   "execution_count": 118,
   "id": "eec18330",
   "metadata": {},
   "outputs": [
    {
     "data": {
      "text/plain": [
       "Food              9991\n",
       "Non-Consumable    2652\n",
       "Drinks            1300\n",
       "Name: Item_Type_Combined, dtype: int64"
      ]
     },
     "execution_count": 118,
     "metadata": {},
     "output_type": "execute_result"
    }
   ],
   "source": [
    "data[\"Item_Type_Combined\"].value_counts()"
   ]
  },
  {
   "cell_type": "code",
   "execution_count": 120,
   "id": "e39debb5",
   "metadata": {},
   "outputs": [
    {
     "data": {
      "text/plain": [
       "(13943, 17)"
      ]
     },
     "execution_count": 120,
     "metadata": {},
     "output_type": "execute_result"
    }
   ],
   "source": [
    "data.shape"
   ]
  },
  {
   "cell_type": "code",
   "execution_count": 121,
   "id": "5df5d54a",
   "metadata": {},
   "outputs": [],
   "source": [
    "# Perform one -hot encoding for all columns as the model works on numerical values and not on categorical values :\n",
    "data= pd.get_dummies(data,columns=[\"Item_Fat_Content\",\"Outlet_Location_Type\",\"Outlet_Size\",\"Item_Type_Combined\"])"
   ]
  },
  {
   "cell_type": "code",
   "execution_count": 122,
   "id": "d9ff115a",
   "metadata": {},
   "outputs": [
    {
     "data": {
      "text/plain": [
       "Item_Identifier                        object\n",
       "Item_Weight                           float64\n",
       "Item_Visibility                       float64\n",
       "Item_Type                              object\n",
       "Item_MRP                              float64\n",
       "Outlet_Identifier                      object\n",
       "Outlet_Establishment_Year               int64\n",
       "Outlet_Type                            object\n",
       "Item_Outlet_Sales                     float64\n",
       "source                                 object\n",
       "Outlet_Age                              int64\n",
       "Item_Visibility_bins                    int32\n",
       "Item_Visiility_bins                  category\n",
       "Item_Fat_Content_0                      uint8\n",
       "Item_Fat_Content_1                      uint8\n",
       "Outlet_Location_Type_0                  uint8\n",
       "Outlet_Location_Type_1                  uint8\n",
       "Outlet_Location_Type_2                  uint8\n",
       "Outlet_Size_0                           uint8\n",
       "Outlet_Size_1                           uint8\n",
       "Outlet_Size_2                           uint8\n",
       "Item_Type_Combined_Drinks               uint8\n",
       "Item_Type_Combined_Food                 uint8\n",
       "Item_Type_Combined_Non-Consumable       uint8\n",
       "dtype: object"
      ]
     },
     "execution_count": 122,
     "metadata": {},
     "output_type": "execute_result"
    }
   ],
   "source": [
    "data.dtypes"
   ]
  },
  {
   "cell_type": "code",
   "execution_count": 123,
   "id": "d6142f85",
   "metadata": {},
   "outputs": [],
   "source": [
    "import warnings \n",
    "warnings.filterwarnings('ignore')\n",
    "\n",
    "# Drop the columns which have been Converted to Different Types:\n",
    "data.drop([\"Item_Type\",\"Outlet_Establishment_Year\"],axis=1,inplace=True)\n",
    "# Divide the Dataset Created earlier into train and test dataSets \n",
    "train= data.loc[data[\"source\"]==\"train\"]\n",
    "test= data.loc[data[\"source\"]==\"test\"]\n",
    "# Drop Unneecessary Columns \n",
    "test.drop([\"Item_Outlet_Sales\",\"source\"],axis=1,inplace=True)\n",
    "train.drop([\"source\"],axis=1,inplace=True)\n",
    "# Export modified version of the files :\n",
    "train.to_csv(\"train_modified.csv\",index=False)\n",
    "train.to_csv(\"test_modified.csv\",index=False)"
   ]
  },
  {
   "cell_type": "code",
   "execution_count": 124,
   "id": "725ef3b6",
   "metadata": {},
   "outputs": [],
   "source": [
    "# Read the train_modified.csv and test_modified.csv \n",
    "train2= pd.read_csv(\"train_modified.csv\")\n",
    "test2= pd.read_csv(\"test_modified.csv\")"
   ]
  },
  {
   "cell_type": "code",
   "execution_count": 125,
   "id": "00dbd0bf",
   "metadata": {},
   "outputs": [
    {
     "data": {
      "text/plain": [
       "Item_Identifier                       object\n",
       "Item_Weight                          float64\n",
       "Item_Visibility                      float64\n",
       "Item_MRP                             float64\n",
       "Outlet_Identifier                     object\n",
       "Outlet_Type                           object\n",
       "Item_Outlet_Sales                    float64\n",
       "Outlet_Age                             int64\n",
       "Item_Visibility_bins                   int64\n",
       "Item_Visiility_bins                   object\n",
       "Item_Fat_Content_0                     int64\n",
       "Item_Fat_Content_1                     int64\n",
       "Outlet_Location_Type_0                 int64\n",
       "Outlet_Location_Type_1                 int64\n",
       "Outlet_Location_Type_2                 int64\n",
       "Outlet_Size_0                          int64\n",
       "Outlet_Size_1                          int64\n",
       "Outlet_Size_2                          int64\n",
       "Item_Type_Combined_Drinks              int64\n",
       "Item_Type_Combined_Food                int64\n",
       "Item_Type_Combined_Non-Consumable      int64\n",
       "dtype: object"
      ]
     },
     "execution_count": 125,
     "metadata": {},
     "output_type": "execute_result"
    }
   ],
   "source": [
    "train2.dtypes"
   ]
  },
  {
   "cell_type": "code",
   "execution_count": 126,
   "id": "b710c1ad",
   "metadata": {},
   "outputs": [
    {
     "data": {
      "text/plain": [
       "Item_Identifier                        object\n",
       "Item_Weight                           float64\n",
       "Item_Visibility                       float64\n",
       "Item_MRP                              float64\n",
       "Outlet_Identifier                      object\n",
       "Outlet_Type                            object\n",
       "Outlet_Age                              int64\n",
       "Item_Visibility_bins                    int32\n",
       "Item_Visiility_bins                  category\n",
       "Item_Fat_Content_0                      uint8\n",
       "Item_Fat_Content_1                      uint8\n",
       "Outlet_Location_Type_0                  uint8\n",
       "Outlet_Location_Type_1                  uint8\n",
       "Outlet_Location_Type_2                  uint8\n",
       "Outlet_Size_0                           uint8\n",
       "Outlet_Size_1                           uint8\n",
       "Outlet_Size_2                           uint8\n",
       "Item_Type_Combined_Drinks               uint8\n",
       "Item_Type_Combined_Food                 uint8\n",
       "Item_Type_Combined_Non-Consumable       uint8\n",
       "dtype: object"
      ]
     },
     "execution_count": 126,
     "metadata": {},
     "output_type": "execute_result"
    }
   ],
   "source": [
    "test.dtypes"
   ]
  },
  {
   "cell_type": "code",
   "execution_count": 163,
   "id": "8ec0e83e",
   "metadata": {},
   "outputs": [],
   "source": [
    "# Drop the Irrelevent variables from train2 dataset\n",
    "# Create the indepandent Variable X_train and dependent vaariable y_train\n",
    "X_train = train2.drop([\"Item_Outlet_Sales\",\"Outlet_Type\",\"Outlet_Identifier\",\"Item_Identifier\",\"Item_Visiility_bins\"],axis=1)\n",
    "Y_train = train2.Item_Outlet_Sales"
   ]
  },
  {
   "cell_type": "code",
   "execution_count": 164,
   "id": "72072bba",
   "metadata": {},
   "outputs": [],
   "source": [
    "X_test = test2.drop([\"Outlet_Type\",\"Outlet_Identifier\",\"Item_Identifier\",\"Item_Visiility_bins\"],axis=1)"
   ]
  },
  {
   "cell_type": "code",
   "execution_count": 156,
   "id": "a13f63e8",
   "metadata": {},
   "outputs": [
    {
     "data": {
      "text/html": [
       "<div>\n",
       "<style scoped>\n",
       "    .dataframe tbody tr th:only-of-type {\n",
       "        vertical-align: middle;\n",
       "    }\n",
       "\n",
       "    .dataframe tbody tr th {\n",
       "        vertical-align: top;\n",
       "    }\n",
       "\n",
       "    .dataframe thead th {\n",
       "        text-align: right;\n",
       "    }\n",
       "</style>\n",
       "<table border=\"1\" class=\"dataframe\">\n",
       "  <thead>\n",
       "    <tr style=\"text-align: right;\">\n",
       "      <th></th>\n",
       "      <th>Item_Weight</th>\n",
       "      <th>Item_Visibility</th>\n",
       "      <th>Item_MRP</th>\n",
       "      <th>Item_Outlet_Sales</th>\n",
       "      <th>Outlet_Age</th>\n",
       "      <th>Item_Visibility_bins</th>\n",
       "      <th>Item_Fat_Content_0</th>\n",
       "      <th>Item_Fat_Content_1</th>\n",
       "      <th>Outlet_Location_Type_0</th>\n",
       "      <th>Outlet_Location_Type_1</th>\n",
       "      <th>Outlet_Location_Type_2</th>\n",
       "      <th>Outlet_Size_0</th>\n",
       "      <th>Outlet_Size_1</th>\n",
       "      <th>Outlet_Size_2</th>\n",
       "      <th>Item_Type_Combined_Drinks</th>\n",
       "      <th>Item_Type_Combined_Food</th>\n",
       "      <th>Item_Type_Combined_Non-Consumable</th>\n",
       "    </tr>\n",
       "  </thead>\n",
       "  <tbody>\n",
       "    <tr>\n",
       "      <th>0</th>\n",
       "      <td>9.300</td>\n",
       "      <td>0.016047</td>\n",
       "      <td>249.8092</td>\n",
       "      <td>3735.1380</td>\n",
       "      <td>19</td>\n",
       "      <td>2</td>\n",
       "      <td>1</td>\n",
       "      <td>0</td>\n",
       "      <td>1</td>\n",
       "      <td>0</td>\n",
       "      <td>0</td>\n",
       "      <td>0</td>\n",
       "      <td>1</td>\n",
       "      <td>0</td>\n",
       "      <td>0</td>\n",
       "      <td>1</td>\n",
       "      <td>0</td>\n",
       "    </tr>\n",
       "    <tr>\n",
       "      <th>1</th>\n",
       "      <td>5.920</td>\n",
       "      <td>0.019278</td>\n",
       "      <td>48.2692</td>\n",
       "      <td>443.4228</td>\n",
       "      <td>9</td>\n",
       "      <td>2</td>\n",
       "      <td>0</td>\n",
       "      <td>1</td>\n",
       "      <td>0</td>\n",
       "      <td>0</td>\n",
       "      <td>1</td>\n",
       "      <td>0</td>\n",
       "      <td>1</td>\n",
       "      <td>0</td>\n",
       "      <td>1</td>\n",
       "      <td>0</td>\n",
       "      <td>0</td>\n",
       "    </tr>\n",
       "    <tr>\n",
       "      <th>2</th>\n",
       "      <td>17.500</td>\n",
       "      <td>0.016760</td>\n",
       "      <td>141.6180</td>\n",
       "      <td>2097.2700</td>\n",
       "      <td>19</td>\n",
       "      <td>2</td>\n",
       "      <td>1</td>\n",
       "      <td>0</td>\n",
       "      <td>1</td>\n",
       "      <td>0</td>\n",
       "      <td>0</td>\n",
       "      <td>0</td>\n",
       "      <td>1</td>\n",
       "      <td>0</td>\n",
       "      <td>0</td>\n",
       "      <td>1</td>\n",
       "      <td>0</td>\n",
       "    </tr>\n",
       "    <tr>\n",
       "      <th>3</th>\n",
       "      <td>19.200</td>\n",
       "      <td>0.000000</td>\n",
       "      <td>182.0950</td>\n",
       "      <td>732.3800</td>\n",
       "      <td>20</td>\n",
       "      <td>3</td>\n",
       "      <td>0</td>\n",
       "      <td>1</td>\n",
       "      <td>0</td>\n",
       "      <td>0</td>\n",
       "      <td>1</td>\n",
       "      <td>0</td>\n",
       "      <td>1</td>\n",
       "      <td>0</td>\n",
       "      <td>0</td>\n",
       "      <td>1</td>\n",
       "      <td>0</td>\n",
       "    </tr>\n",
       "    <tr>\n",
       "      <th>4</th>\n",
       "      <td>8.930</td>\n",
       "      <td>0.000000</td>\n",
       "      <td>53.8614</td>\n",
       "      <td>994.7052</td>\n",
       "      <td>31</td>\n",
       "      <td>3</td>\n",
       "      <td>1</td>\n",
       "      <td>0</td>\n",
       "      <td>0</td>\n",
       "      <td>0</td>\n",
       "      <td>1</td>\n",
       "      <td>1</td>\n",
       "      <td>0</td>\n",
       "      <td>0</td>\n",
       "      <td>0</td>\n",
       "      <td>0</td>\n",
       "      <td>1</td>\n",
       "    </tr>\n",
       "    <tr>\n",
       "      <th>...</th>\n",
       "      <td>...</td>\n",
       "      <td>...</td>\n",
       "      <td>...</td>\n",
       "      <td>...</td>\n",
       "      <td>...</td>\n",
       "      <td>...</td>\n",
       "      <td>...</td>\n",
       "      <td>...</td>\n",
       "      <td>...</td>\n",
       "      <td>...</td>\n",
       "      <td>...</td>\n",
       "      <td>...</td>\n",
       "      <td>...</td>\n",
       "      <td>...</td>\n",
       "      <td>...</td>\n",
       "      <td>...</td>\n",
       "      <td>...</td>\n",
       "    </tr>\n",
       "    <tr>\n",
       "      <th>8370</th>\n",
       "      <td>6.865</td>\n",
       "      <td>0.056783</td>\n",
       "      <td>214.5218</td>\n",
       "      <td>2778.3834</td>\n",
       "      <td>31</td>\n",
       "      <td>2</td>\n",
       "      <td>1</td>\n",
       "      <td>0</td>\n",
       "      <td>0</td>\n",
       "      <td>0</td>\n",
       "      <td>1</td>\n",
       "      <td>1</td>\n",
       "      <td>0</td>\n",
       "      <td>0</td>\n",
       "      <td>0</td>\n",
       "      <td>1</td>\n",
       "      <td>0</td>\n",
       "    </tr>\n",
       "    <tr>\n",
       "      <th>8371</th>\n",
       "      <td>8.380</td>\n",
       "      <td>0.046982</td>\n",
       "      <td>108.1570</td>\n",
       "      <td>549.2850</td>\n",
       "      <td>16</td>\n",
       "      <td>2</td>\n",
       "      <td>0</td>\n",
       "      <td>1</td>\n",
       "      <td>0</td>\n",
       "      <td>1</td>\n",
       "      <td>0</td>\n",
       "      <td>0</td>\n",
       "      <td>1</td>\n",
       "      <td>0</td>\n",
       "      <td>0</td>\n",
       "      <td>1</td>\n",
       "      <td>0</td>\n",
       "    </tr>\n",
       "    <tr>\n",
       "      <th>8372</th>\n",
       "      <td>10.600</td>\n",
       "      <td>0.035186</td>\n",
       "      <td>85.1224</td>\n",
       "      <td>1193.1136</td>\n",
       "      <td>14</td>\n",
       "      <td>2</td>\n",
       "      <td>1</td>\n",
       "      <td>0</td>\n",
       "      <td>0</td>\n",
       "      <td>1</td>\n",
       "      <td>0</td>\n",
       "      <td>0</td>\n",
       "      <td>0</td>\n",
       "      <td>1</td>\n",
       "      <td>0</td>\n",
       "      <td>0</td>\n",
       "      <td>1</td>\n",
       "    </tr>\n",
       "    <tr>\n",
       "      <th>8373</th>\n",
       "      <td>7.210</td>\n",
       "      <td>0.145221</td>\n",
       "      <td>103.1332</td>\n",
       "      <td>1845.5976</td>\n",
       "      <td>9</td>\n",
       "      <td>1</td>\n",
       "      <td>0</td>\n",
       "      <td>1</td>\n",
       "      <td>0</td>\n",
       "      <td>0</td>\n",
       "      <td>1</td>\n",
       "      <td>0</td>\n",
       "      <td>1</td>\n",
       "      <td>0</td>\n",
       "      <td>0</td>\n",
       "      <td>1</td>\n",
       "      <td>0</td>\n",
       "    </tr>\n",
       "    <tr>\n",
       "      <th>8374</th>\n",
       "      <td>14.800</td>\n",
       "      <td>0.044878</td>\n",
       "      <td>75.4670</td>\n",
       "      <td>765.6700</td>\n",
       "      <td>21</td>\n",
       "      <td>2</td>\n",
       "      <td>1</td>\n",
       "      <td>0</td>\n",
       "      <td>1</td>\n",
       "      <td>0</td>\n",
       "      <td>0</td>\n",
       "      <td>0</td>\n",
       "      <td>0</td>\n",
       "      <td>1</td>\n",
       "      <td>1</td>\n",
       "      <td>0</td>\n",
       "      <td>0</td>\n",
       "    </tr>\n",
       "  </tbody>\n",
       "</table>\n",
       "<p>8375 rows × 17 columns</p>\n",
       "</div>"
      ],
      "text/plain": [
       "      Item_Weight  Item_Visibility  Item_MRP  Item_Outlet_Sales  Outlet_Age  \\\n",
       "0           9.300         0.016047  249.8092          3735.1380          19   \n",
       "1           5.920         0.019278   48.2692           443.4228           9   \n",
       "2          17.500         0.016760  141.6180          2097.2700          19   \n",
       "3          19.200         0.000000  182.0950           732.3800          20   \n",
       "4           8.930         0.000000   53.8614           994.7052          31   \n",
       "...           ...              ...       ...                ...         ...   \n",
       "8370        6.865         0.056783  214.5218          2778.3834          31   \n",
       "8371        8.380         0.046982  108.1570           549.2850          16   \n",
       "8372       10.600         0.035186   85.1224          1193.1136          14   \n",
       "8373        7.210         0.145221  103.1332          1845.5976           9   \n",
       "8374       14.800         0.044878   75.4670           765.6700          21   \n",
       "\n",
       "      Item_Visibility_bins  Item_Fat_Content_0  Item_Fat_Content_1  \\\n",
       "0                        2                   1                   0   \n",
       "1                        2                   0                   1   \n",
       "2                        2                   1                   0   \n",
       "3                        3                   0                   1   \n",
       "4                        3                   1                   0   \n",
       "...                    ...                 ...                 ...   \n",
       "8370                     2                   1                   0   \n",
       "8371                     2                   0                   1   \n",
       "8372                     2                   1                   0   \n",
       "8373                     1                   0                   1   \n",
       "8374                     2                   1                   0   \n",
       "\n",
       "      Outlet_Location_Type_0  Outlet_Location_Type_1  Outlet_Location_Type_2  \\\n",
       "0                          1                       0                       0   \n",
       "1                          0                       0                       1   \n",
       "2                          1                       0                       0   \n",
       "3                          0                       0                       1   \n",
       "4                          0                       0                       1   \n",
       "...                      ...                     ...                     ...   \n",
       "8370                       0                       0                       1   \n",
       "8371                       0                       1                       0   \n",
       "8372                       0                       1                       0   \n",
       "8373                       0                       0                       1   \n",
       "8374                       1                       0                       0   \n",
       "\n",
       "      Outlet_Size_0  Outlet_Size_1  Outlet_Size_2  Item_Type_Combined_Drinks  \\\n",
       "0                 0              1              0                          0   \n",
       "1                 0              1              0                          1   \n",
       "2                 0              1              0                          0   \n",
       "3                 0              1              0                          0   \n",
       "4                 1              0              0                          0   \n",
       "...             ...            ...            ...                        ...   \n",
       "8370              1              0              0                          0   \n",
       "8371              0              1              0                          0   \n",
       "8372              0              0              1                          0   \n",
       "8373              0              1              0                          0   \n",
       "8374              0              0              1                          1   \n",
       "\n",
       "      Item_Type_Combined_Food  Item_Type_Combined_Non-Consumable  \n",
       "0                           1                                  0  \n",
       "1                           0                                  0  \n",
       "2                           1                                  0  \n",
       "3                           1                                  0  \n",
       "4                           0                                  1  \n",
       "...                       ...                                ...  \n",
       "8370                        1                                  0  \n",
       "8371                        1                                  0  \n",
       "8372                        0                                  1  \n",
       "8373                        1                                  0  \n",
       "8374                        0                                  0  \n",
       "\n",
       "[8375 rows x 17 columns]"
      ]
     },
     "execution_count": 156,
     "metadata": {},
     "output_type": "execute_result"
    }
   ],
   "source": [
    "X_test"
   ]
  },
  {
   "cell_type": "code",
   "execution_count": 165,
   "id": "9d3ff604",
   "metadata": {},
   "outputs": [
    {
     "data": {
      "text/html": [
       "<div>\n",
       "<style scoped>\n",
       "    .dataframe tbody tr th:only-of-type {\n",
       "        vertical-align: middle;\n",
       "    }\n",
       "\n",
       "    .dataframe tbody tr th {\n",
       "        vertical-align: top;\n",
       "    }\n",
       "\n",
       "    .dataframe thead th {\n",
       "        text-align: right;\n",
       "    }\n",
       "</style>\n",
       "<table border=\"1\" class=\"dataframe\">\n",
       "  <thead>\n",
       "    <tr style=\"text-align: right;\">\n",
       "      <th></th>\n",
       "      <th>Item_Weight</th>\n",
       "      <th>Item_Visibility</th>\n",
       "      <th>Item_MRP</th>\n",
       "      <th>Outlet_Age</th>\n",
       "      <th>Item_Visibility_bins</th>\n",
       "      <th>Item_Fat_Content_0</th>\n",
       "      <th>Item_Fat_Content_1</th>\n",
       "      <th>Outlet_Location_Type_0</th>\n",
       "      <th>Outlet_Location_Type_1</th>\n",
       "      <th>Outlet_Location_Type_2</th>\n",
       "      <th>Outlet_Size_0</th>\n",
       "      <th>Outlet_Size_1</th>\n",
       "      <th>Outlet_Size_2</th>\n",
       "      <th>Item_Type_Combined_Drinks</th>\n",
       "      <th>Item_Type_Combined_Food</th>\n",
       "      <th>Item_Type_Combined_Non-Consumable</th>\n",
       "    </tr>\n",
       "  </thead>\n",
       "  <tbody>\n",
       "    <tr>\n",
       "      <th>0</th>\n",
       "      <td>9.30</td>\n",
       "      <td>0.016047</td>\n",
       "      <td>249.8092</td>\n",
       "      <td>19</td>\n",
       "      <td>2</td>\n",
       "      <td>1</td>\n",
       "      <td>0</td>\n",
       "      <td>1</td>\n",
       "      <td>0</td>\n",
       "      <td>0</td>\n",
       "      <td>0</td>\n",
       "      <td>1</td>\n",
       "      <td>0</td>\n",
       "      <td>0</td>\n",
       "      <td>1</td>\n",
       "      <td>0</td>\n",
       "    </tr>\n",
       "    <tr>\n",
       "      <th>1</th>\n",
       "      <td>5.92</td>\n",
       "      <td>0.019278</td>\n",
       "      <td>48.2692</td>\n",
       "      <td>9</td>\n",
       "      <td>2</td>\n",
       "      <td>0</td>\n",
       "      <td>1</td>\n",
       "      <td>0</td>\n",
       "      <td>0</td>\n",
       "      <td>1</td>\n",
       "      <td>0</td>\n",
       "      <td>1</td>\n",
       "      <td>0</td>\n",
       "      <td>1</td>\n",
       "      <td>0</td>\n",
       "      <td>0</td>\n",
       "    </tr>\n",
       "    <tr>\n",
       "      <th>2</th>\n",
       "      <td>17.50</td>\n",
       "      <td>0.016760</td>\n",
       "      <td>141.6180</td>\n",
       "      <td>19</td>\n",
       "      <td>2</td>\n",
       "      <td>1</td>\n",
       "      <td>0</td>\n",
       "      <td>1</td>\n",
       "      <td>0</td>\n",
       "      <td>0</td>\n",
       "      <td>0</td>\n",
       "      <td>1</td>\n",
       "      <td>0</td>\n",
       "      <td>0</td>\n",
       "      <td>1</td>\n",
       "      <td>0</td>\n",
       "    </tr>\n",
       "    <tr>\n",
       "      <th>3</th>\n",
       "      <td>19.20</td>\n",
       "      <td>0.000000</td>\n",
       "      <td>182.0950</td>\n",
       "      <td>20</td>\n",
       "      <td>3</td>\n",
       "      <td>0</td>\n",
       "      <td>1</td>\n",
       "      <td>0</td>\n",
       "      <td>0</td>\n",
       "      <td>1</td>\n",
       "      <td>0</td>\n",
       "      <td>1</td>\n",
       "      <td>0</td>\n",
       "      <td>0</td>\n",
       "      <td>1</td>\n",
       "      <td>0</td>\n",
       "    </tr>\n",
       "    <tr>\n",
       "      <th>4</th>\n",
       "      <td>8.93</td>\n",
       "      <td>0.000000</td>\n",
       "      <td>53.8614</td>\n",
       "      <td>31</td>\n",
       "      <td>3</td>\n",
       "      <td>1</td>\n",
       "      <td>0</td>\n",
       "      <td>0</td>\n",
       "      <td>0</td>\n",
       "      <td>1</td>\n",
       "      <td>1</td>\n",
       "      <td>0</td>\n",
       "      <td>0</td>\n",
       "      <td>0</td>\n",
       "      <td>0</td>\n",
       "      <td>1</td>\n",
       "    </tr>\n",
       "  </tbody>\n",
       "</table>\n",
       "</div>"
      ],
      "text/plain": [
       "   Item_Weight  Item_Visibility  Item_MRP  Outlet_Age  Item_Visibility_bins  \\\n",
       "0         9.30         0.016047  249.8092          19                     2   \n",
       "1         5.92         0.019278   48.2692           9                     2   \n",
       "2        17.50         0.016760  141.6180          19                     2   \n",
       "3        19.20         0.000000  182.0950          20                     3   \n",
       "4         8.93         0.000000   53.8614          31                     3   \n",
       "\n",
       "   Item_Fat_Content_0  Item_Fat_Content_1  Outlet_Location_Type_0  \\\n",
       "0                   1                   0                       1   \n",
       "1                   0                   1                       0   \n",
       "2                   1                   0                       1   \n",
       "3                   0                   1                       0   \n",
       "4                   1                   0                       0   \n",
       "\n",
       "   Outlet_Location_Type_1  Outlet_Location_Type_2  Outlet_Size_0  \\\n",
       "0                       0                       0              0   \n",
       "1                       0                       1              0   \n",
       "2                       0                       0              0   \n",
       "3                       0                       1              0   \n",
       "4                       0                       1              1   \n",
       "\n",
       "   Outlet_Size_1  Outlet_Size_2  Item_Type_Combined_Drinks  \\\n",
       "0              1              0                          0   \n",
       "1              1              0                          1   \n",
       "2              1              0                          0   \n",
       "3              1              0                          0   \n",
       "4              0              0                          0   \n",
       "\n",
       "   Item_Type_Combined_Food  Item_Type_Combined_Non-Consumable  \n",
       "0                        1                                  0  \n",
       "1                        0                                  0  \n",
       "2                        1                                  0  \n",
       "3                        1                                  0  \n",
       "4                        0                                  1  "
      ]
     },
     "execution_count": 165,
     "metadata": {},
     "output_type": "execute_result"
    }
   ],
   "source": [
    "X_train.head()"
   ]
  },
  {
   "cell_type": "code",
   "execution_count": 166,
   "id": "80bc1fec",
   "metadata": {},
   "outputs": [
    {
     "data": {
      "text/plain": [
       "0    3735.1380\n",
       "1     443.4228\n",
       "Name: Item_Outlet_Sales, dtype: float64"
      ]
     },
     "execution_count": 166,
     "metadata": {},
     "output_type": "execute_result"
    }
   ],
   "source": [
    "Y_train.head(2)"
   ]
  },
  {
   "cell_type": "code",
   "execution_count": 167,
   "id": "fb6fa31b",
   "metadata": {},
   "outputs": [],
   "source": [
    "# Import the Libraries for the model Selection:\n",
    "from sklearn import model_selection\n",
    "from sklearn.linear_model import LinearRegression"
   ]
  },
  {
   "cell_type": "code",
   "execution_count": 168,
   "id": "3af66fcf",
   "metadata": {},
   "outputs": [],
   "source": [
    "# Create the train and test split\n",
    "xtrain,xtest,ytrain,ytest=model_selection.train_test_split(X_train,Y_train,test_size=0.3,random_state=42)"
   ]
  },
  {
   "cell_type": "code",
   "execution_count": 169,
   "id": "163ae5e1",
   "metadata": {},
   "outputs": [],
   "source": [
    "# Fit the regression to the Dataset \n",
    "lin = LinearRegression()"
   ]
  },
  {
   "cell_type": "code",
   "execution_count": 170,
   "id": "dae78d3c",
   "metadata": {},
   "outputs": [
    {
     "data": {
      "text/plain": [
       "LinearRegression()"
      ]
     },
     "execution_count": 170,
     "metadata": {},
     "output_type": "execute_result"
    }
   ],
   "source": [
    "lin.fit(xtrain, ytrain)"
   ]
  },
  {
   "cell_type": "code",
   "execution_count": 172,
   "id": "1a8786dd",
   "metadata": {},
   "outputs": [
    {
     "name": "stdout",
     "output_type": "stream",
     "text": [
      "[ 6.96720557e-01 -3.56698678e+03  1.59007483e+01  3.52916330e+01\n",
      " -6.88164978e+01 -9.68830425e+00  9.68830425e+00 -2.67501221e+02\n",
      "  3.45452572e+02 -7.79513510e+01 -9.65646490e+01  2.18318792e+02\n",
      " -1.21754143e+02  1.22893629e+01  5.42202063e+01 -6.65095692e+01]\n"
     ]
    },
    {
     "data": {
      "text/plain": [
       "-546.6218919209323"
      ]
     },
     "execution_count": 172,
     "metadata": {},
     "output_type": "execute_result"
    }
   ],
   "source": [
    "print(lin.coef_)\n",
    "lin.intercept_"
   ]
  },
  {
   "cell_type": "code",
   "execution_count": 173,
   "id": "fbf97f21",
   "metadata": {},
   "outputs": [
    {
     "data": {
      "text/plain": [
       "array([2090.36889199, 2849.29300805, 2996.89279671, ..., 3080.47734645,\n",
       "       3199.05551184,  995.58453244])"
      ]
     },
     "execution_count": 173,
     "metadata": {},
     "output_type": "execute_result"
    }
   ],
   "source": [
    "# Predict the test set results of training data\n",
    "predictions = lin.predict(xtest)\n",
    "predictions"
   ]
  },
  {
   "cell_type": "code",
   "execution_count": 174,
   "id": "59234c56",
   "metadata": {},
   "outputs": [],
   "source": [
    "import math"
   ]
  },
  {
   "cell_type": "code",
   "execution_count": 175,
   "id": "61541049",
   "metadata": {},
   "outputs": [
    {
     "name": "stdout",
     "output_type": "stream",
     "text": [
      "1363.0722667978057\n"
     ]
    }
   ],
   "source": [
    "# Find the RMSE for the Model \n",
    "print(math.sqrt(mean_squared_error(ytest,predictions)))"
   ]
  },
  {
   "cell_type": "code",
   "execution_count": 177,
   "id": "e913b9ad",
   "metadata": {},
   "outputs": [],
   "source": [
    "# A good RMSE for this is 1130 which somehow not achieved here and yeah it gives all the positive vibes although it fetched a whole lot of errors it \n",
    "# Improve the RMSE using algos like Descion trees,random forests and XGboost:\n",
    "#  Next we will predict the sales of each product at a particular store in test data:"
   ]
  },
  {
   "cell_type": "code",
   "execution_count": 187,
   "id": "1afb8b83",
   "metadata": {},
   "outputs": [
    {
     "data": {
      "text/plain": [
       "array([2090.36889199, 2849.29300805, 2996.89279671, ..., 3080.47734645,\n",
       "       3199.05551184,  995.58453244])"
      ]
     },
     "execution_count": 187,
     "metadata": {},
     "output_type": "execute_result"
    }
   ],
   "source": [
    "# Predict the Column Item_Outlet_Sales of the Dataset\n",
    "y_sales_pred = lin.predict(xtest)\n",
    "y_sales_pred"
   ]
  },
  {
   "cell_type": "code",
   "execution_count": 188,
   "id": "05daed56",
   "metadata": {},
   "outputs": [
    {
     "ename": "ValueError",
     "evalue": "array length 2513 does not match index length 8375",
     "output_type": "error",
     "traceback": [
      "\u001b[1;31m---------------------------------------------------------------------------\u001b[0m",
      "\u001b[1;31mValueError\u001b[0m                                Traceback (most recent call last)",
      "\u001b[1;32mC:\\Users\\ABHINA~1\\AppData\\Local\\Temp/ipykernel_17972/1843434025.py\u001b[0m in \u001b[0;36m<module>\u001b[1;34m\u001b[0m\n\u001b[1;32m----> 1\u001b[1;33m test_predictions= pd.DataFrame({\n\u001b[0m\u001b[0;32m      2\u001b[0m     \u001b[1;34m'Item_Identifier'\u001b[0m\u001b[1;33m:\u001b[0m\u001b[0mtest2\u001b[0m\u001b[1;33m[\u001b[0m\u001b[1;34m'Item_Identifier'\u001b[0m\u001b[1;33m]\u001b[0m\u001b[1;33m,\u001b[0m\u001b[1;33m\u001b[0m\u001b[1;33m\u001b[0m\u001b[0m\n\u001b[0;32m      3\u001b[0m     \u001b[1;34m'Outlet_Identifier'\u001b[0m\u001b[1;33m:\u001b[0m\u001b[0mtest2\u001b[0m\u001b[1;33m[\u001b[0m\u001b[1;34m'Outlet_Identifier'\u001b[0m\u001b[1;33m]\u001b[0m\u001b[1;33m,\u001b[0m\u001b[1;33m\u001b[0m\u001b[1;33m\u001b[0m\u001b[0m\n\u001b[0;32m      4\u001b[0m     \u001b[1;34m'Item_Outlet_Sales'\u001b[0m\u001b[1;33m:\u001b[0m\u001b[0my_sales_pred\u001b[0m\u001b[1;33m\u001b[0m\u001b[1;33m\u001b[0m\u001b[0m\n\u001b[0;32m      5\u001b[0m },columns=['Item_Identifier','Outlet_Identifier','Item_Outlet_Sales'])\n",
      "\u001b[1;32mC:\\Users\\Public\\anaconda3\\lib\\site-packages\\pandas\\core\\frame.py\u001b[0m in \u001b[0;36m__init__\u001b[1;34m(self, data, index, columns, dtype, copy)\u001b[0m\n\u001b[0;32m    612\u001b[0m         \u001b[1;32melif\u001b[0m \u001b[0misinstance\u001b[0m\u001b[1;33m(\u001b[0m\u001b[0mdata\u001b[0m\u001b[1;33m,\u001b[0m \u001b[0mdict\u001b[0m\u001b[1;33m)\u001b[0m\u001b[1;33m:\u001b[0m\u001b[1;33m\u001b[0m\u001b[1;33m\u001b[0m\u001b[0m\n\u001b[0;32m    613\u001b[0m             \u001b[1;31m# GH#38939 de facto copy defaults to False only in non-dict cases\u001b[0m\u001b[1;33m\u001b[0m\u001b[1;33m\u001b[0m\u001b[0m\n\u001b[1;32m--> 614\u001b[1;33m             \u001b[0mmgr\u001b[0m \u001b[1;33m=\u001b[0m \u001b[0mdict_to_mgr\u001b[0m\u001b[1;33m(\u001b[0m\u001b[0mdata\u001b[0m\u001b[1;33m,\u001b[0m \u001b[0mindex\u001b[0m\u001b[1;33m,\u001b[0m \u001b[0mcolumns\u001b[0m\u001b[1;33m,\u001b[0m \u001b[0mdtype\u001b[0m\u001b[1;33m=\u001b[0m\u001b[0mdtype\u001b[0m\u001b[1;33m,\u001b[0m \u001b[0mcopy\u001b[0m\u001b[1;33m=\u001b[0m\u001b[0mcopy\u001b[0m\u001b[1;33m,\u001b[0m \u001b[0mtyp\u001b[0m\u001b[1;33m=\u001b[0m\u001b[0mmanager\u001b[0m\u001b[1;33m)\u001b[0m\u001b[1;33m\u001b[0m\u001b[1;33m\u001b[0m\u001b[0m\n\u001b[0m\u001b[0;32m    615\u001b[0m         \u001b[1;32melif\u001b[0m \u001b[0misinstance\u001b[0m\u001b[1;33m(\u001b[0m\u001b[0mdata\u001b[0m\u001b[1;33m,\u001b[0m \u001b[0mma\u001b[0m\u001b[1;33m.\u001b[0m\u001b[0mMaskedArray\u001b[0m\u001b[1;33m)\u001b[0m\u001b[1;33m:\u001b[0m\u001b[1;33m\u001b[0m\u001b[1;33m\u001b[0m\u001b[0m\n\u001b[0;32m    616\u001b[0m             \u001b[1;32mimport\u001b[0m \u001b[0mnumpy\u001b[0m\u001b[1;33m.\u001b[0m\u001b[0mma\u001b[0m\u001b[1;33m.\u001b[0m\u001b[0mmrecords\u001b[0m \u001b[1;32mas\u001b[0m \u001b[0mmrecords\u001b[0m\u001b[1;33m\u001b[0m\u001b[1;33m\u001b[0m\u001b[0m\n",
      "\u001b[1;32mC:\\Users\\Public\\anaconda3\\lib\\site-packages\\pandas\\core\\internals\\construction.py\u001b[0m in \u001b[0;36mdict_to_mgr\u001b[1;34m(data, index, columns, dtype, typ, copy)\u001b[0m\n\u001b[0;32m    420\u001b[0m             \u001b[1;31m# GH10856\u001b[0m\u001b[1;33m\u001b[0m\u001b[1;33m\u001b[0m\u001b[0m\n\u001b[0;32m    421\u001b[0m             \u001b[1;31m# raise ValueError if only scalars in dict\u001b[0m\u001b[1;33m\u001b[0m\u001b[1;33m\u001b[0m\u001b[0m\n\u001b[1;32m--> 422\u001b[1;33m             \u001b[0mindex\u001b[0m \u001b[1;33m=\u001b[0m \u001b[0m_extract_index\u001b[0m\u001b[1;33m(\u001b[0m\u001b[0marrays\u001b[0m\u001b[1;33m[\u001b[0m\u001b[1;33m~\u001b[0m\u001b[0mmissing\u001b[0m\u001b[1;33m]\u001b[0m\u001b[1;33m)\u001b[0m\u001b[1;33m\u001b[0m\u001b[1;33m\u001b[0m\u001b[0m\n\u001b[0m\u001b[0;32m    423\u001b[0m         \u001b[1;32melse\u001b[0m\u001b[1;33m:\u001b[0m\u001b[1;33m\u001b[0m\u001b[1;33m\u001b[0m\u001b[0m\n\u001b[0;32m    424\u001b[0m             \u001b[0mindex\u001b[0m \u001b[1;33m=\u001b[0m \u001b[0mensure_index\u001b[0m\u001b[1;33m(\u001b[0m\u001b[0mindex\u001b[0m\u001b[1;33m)\u001b[0m\u001b[1;33m\u001b[0m\u001b[1;33m\u001b[0m\u001b[0m\n",
      "\u001b[1;32mC:\\Users\\Public\\anaconda3\\lib\\site-packages\\pandas\\core\\internals\\construction.py\u001b[0m in \u001b[0;36m_extract_index\u001b[1;34m(data)\u001b[0m\n\u001b[0;32m    647\u001b[0m                         \u001b[1;34mf\"length {len(index)}\"\u001b[0m\u001b[1;33m\u001b[0m\u001b[1;33m\u001b[0m\u001b[0m\n\u001b[0;32m    648\u001b[0m                     )\n\u001b[1;32m--> 649\u001b[1;33m                     \u001b[1;32mraise\u001b[0m \u001b[0mValueError\u001b[0m\u001b[1;33m(\u001b[0m\u001b[0mmsg\u001b[0m\u001b[1;33m)\u001b[0m\u001b[1;33m\u001b[0m\u001b[1;33m\u001b[0m\u001b[0m\n\u001b[0m\u001b[0;32m    650\u001b[0m             \u001b[1;32melse\u001b[0m\u001b[1;33m:\u001b[0m\u001b[1;33m\u001b[0m\u001b[1;33m\u001b[0m\u001b[0m\n\u001b[0;32m    651\u001b[0m                 \u001b[0mindex\u001b[0m \u001b[1;33m=\u001b[0m \u001b[0mibase\u001b[0m\u001b[1;33m.\u001b[0m\u001b[0mdefault_index\u001b[0m\u001b[1;33m(\u001b[0m\u001b[0mlengths\u001b[0m\u001b[1;33m[\u001b[0m\u001b[1;36m0\u001b[0m\u001b[1;33m]\u001b[0m\u001b[1;33m)\u001b[0m\u001b[1;33m\u001b[0m\u001b[1;33m\u001b[0m\u001b[0m\n",
      "\u001b[1;31mValueError\u001b[0m: array length 2513 does not match index length 8375"
     ]
    }
   ],
   "source": [
    "test_predictions= pd.DataFrame({\n",
    "    'Item_Identifier':test2['Item_Identifier'],\n",
    "    'Outlet_Identifier':test2['Outlet_Identifier'],\n",
    "    'Item_Outlet_Sales':y_sales_pred\n",
    "},columns=['Item_Identifier','Outlet_Identifier','Item_Outlet_Sales'])"
   ]
  },
  {
   "cell_type": "code",
   "execution_count": 189,
   "id": "a5483e31",
   "metadata": {},
   "outputs": [
    {
     "ename": "NameError",
     "evalue": "name 'test_predictions' is not defined",
     "output_type": "error",
     "traceback": [
      "\u001b[1;31m---------------------------------------------------------------------------\u001b[0m",
      "\u001b[1;31mNameError\u001b[0m                                 Traceback (most recent call last)",
      "\u001b[1;32mC:\\Users\\ABHINA~1\\AppData\\Local\\Temp/ipykernel_17972/2584847199.py\u001b[0m in \u001b[0;36m<module>\u001b[1;34m\u001b[0m\n\u001b[1;32m----> 1\u001b[1;33m \u001b[0mtest_predictions\u001b[0m\u001b[1;33m\u001b[0m\u001b[1;33m\u001b[0m\u001b[0m\n\u001b[0m",
      "\u001b[1;31mNameError\u001b[0m: name 'test_predictions' is not defined"
     ]
    }
   ],
   "source": [
    "test_predictions"
   ]
  },
  {
   "cell_type": "code",
   "execution_count": null,
   "id": "1abb908e",
   "metadata": {},
   "outputs": [],
   "source": []
  }
 ],
 "metadata": {
  "kernelspec": {
   "display_name": "Python 3 (ipykernel)",
   "language": "python",
   "name": "python3"
  },
  "language_info": {
   "codemirror_mode": {
    "name": "ipython",
    "version": 3
   },
   "file_extension": ".py",
   "mimetype": "text/x-python",
   "name": "python",
   "nbconvert_exporter": "python",
   "pygments_lexer": "ipython3",
   "version": "3.9.7"
  }
 },
 "nbformat": 4,
 "nbformat_minor": 5
}
