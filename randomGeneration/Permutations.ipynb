{
 "cells": [
  {
   "cell_type": "code",
   "execution_count": 5,
   "id": "55e105dc",
   "metadata": {},
   "outputs": [
    {
     "name": "stdout",
     "output_type": "stream",
     "text": [
      "('A', 'B', 'c')\n",
      "('A', 'c', 'B')\n",
      "('B', 'A', 'c')\n",
      "('B', 'c', 'A')\n",
      "('c', 'A', 'B')\n",
      "('c', 'B', 'A')\n"
     ]
    }
   ],
   "source": [
    "from itertools import permutations\n",
    " \n",
    "def allPermutations(str):\n",
    "      \n",
    "     # Get all permutations of string 'ABC'\n",
    "     permList = permutations(str)\n",
    " \n",
    "     # print all permutations\n",
    "     for perm in list(permList):\n",
    "         print(perm)\n",
    "       \n",
    "# Driver program\n",
    "if __name__ == \"__main__\":\n",
    "    str = ['A','B','c']\n",
    "    allPermutations(str)"
   ]
  },
  {
   "cell_type": "code",
   "execution_count": null,
   "id": "b4e2b698",
   "metadata": {},
   "outputs": [],
   "source": []
  }
 ],
 "metadata": {
  "kernelspec": {
   "display_name": "Python 3 (ipykernel)",
   "language": "python",
   "name": "python3"
  },
  "language_info": {
   "codemirror_mode": {
    "name": "ipython",
    "version": 3
   },
   "file_extension": ".py",
   "mimetype": "text/x-python",
   "name": "python",
   "nbconvert_exporter": "python",
   "pygments_lexer": "ipython3",
   "version": "3.9.7"
  }
 },
 "nbformat": 4,
 "nbformat_minor": 5
}
