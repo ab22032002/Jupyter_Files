{
 "cells": [
  {
   "cell_type": "code",
   "execution_count": 1,
   "id": "b4c6dc55",
   "metadata": {},
   "outputs": [
    {
     "name": "stdout",
     "output_type": "stream",
     "text": [
      "The original string is : Geeks\n",
      "All substrings of string are : ['G', 'Ge', 'Gee', 'Geek', 'Geeks', 'e', 'ee', 'eek', 'eeks', 'e', 'ek', 'eks', 'k', 'ks', 's']\n"
     ]
    }
   ],
   "source": [
    "# Python3 code to demonstrate working of\n",
    "# Get all substrings of string\n",
    "# Using itertools.combinations()\n",
    "from itertools import combinations\n",
    "\n",
    "# initializing string\n",
    "test_str = \"Geeks\"\n",
    "\n",
    "# printing original string\n",
    "print(\"The original string is : \" + str(test_str))\n",
    "\n",
    "# Get all substrings of string\n",
    "# Using itertools.combinations()\n",
    "res = [test_str[x:y] for x, y in combinations(\n",
    "\t\t\trange(len(test_str) + 1), r = 2)]\n",
    "\n",
    "# printing result\n",
    "print(\"All substrings of string are : \" + str(res))"
   ]
  },
  {
   "cell_type": "code",
   "execution_count": 30,
   "id": "1c4d65eb",
   "metadata": {},
   "outputs": [],
   "source": [
    "# x=['G', 'Ge', 'Gee', 'Geek', 'Geeks', 'e', 'ee', 'eek', 'eeks', 'e', 'ek', 'eks', 'k', 'ks', 's']\n",
    "# x.sort"
   ]
  },
  {
   "cell_type": "code",
   "execution_count": 14,
   "id": "58eefa79",
   "metadata": {},
   "outputs": [],
   "source": [
    "# y=['e', 'ee', 'eek', 'eeks', 'e', 'ek', 'eks', 'k', 'ks', 's']\n",
    "# y.sort()"
   ]
  },
  {
   "cell_type": "code",
   "execution_count": 29,
   "id": "3c47017d",
   "metadata": {},
   "outputs": [],
   "source": [
    "# cars = ['Ford', 'BMW', 'Volvo','Ford','34','100','43.45','53']\n",
    "# cars.sort()\n",
    "# cars"
   ]
  },
  {
   "cell_type": "code",
   "execution_count": null,
   "id": "b14cfd60",
   "metadata": {},
   "outputs": [],
   "source": []
  },
  {
   "cell_type": "code",
   "execution_count": null,
   "id": "705574d0",
   "metadata": {},
   "outputs": [],
   "source": []
  }
 ],
 "metadata": {
  "kernelspec": {
   "display_name": "Python 3 (ipykernel)",
   "language": "python",
   "name": "python3"
  },
  "language_info": {
   "codemirror_mode": {
    "name": "ipython",
    "version": 3
   },
   "file_extension": ".py",
   "mimetype": "text/x-python",
   "name": "python",
   "nbconvert_exporter": "python",
   "pygments_lexer": "ipython3",
   "version": "3.9.7"
  }
 },
 "nbformat": 4,
 "nbformat_minor": 5
}
