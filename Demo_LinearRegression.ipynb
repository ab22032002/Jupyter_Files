{
 "cells": [
  {
   "cell_type": "raw",
   "id": "f1d693df",
   "metadata": {},
   "source": [
    "Survival Of Titanic Passengers:\n",
    "The Titanic Dataset provides information on the fate of the passengers on the Titanic,\n",
    "summarized according to economic status ,sex, age, and survival \n",
    "\n",
    "Our Task is to predict the Survival of The Titanic passengers:\n"
   ]
  },
  {
   "cell_type": "code",
   "execution_count": 2,
   "id": "6774ec61",
   "metadata": {},
   "outputs": [],
   "source": [
    "#  Importing Libraries:\n",
    "import pandas as pd\n",
    "import numpy as np \n",
    "\n",
    "import matplotlib\n",
    "import matplotlib.pyplot as plt \n",
    "from pandas.plotting import scatter_matrix\n",
    "%matplotlib inline \n",
    "\n",
    "import seaborn as sns\n",
    "sns.set(style=\"white\",color_codes=True)\n",
    "\n",
    "from sklearn.linear_model import LogisticRegression \n",
    "from sklearn.model_selection import train_test_split\n",
    "\n",
    "from sklearn.metrics import confusion_matrix \n",
    "from sklearn.metrics import classification_report\n",
    "from sklearn.metrics import accuracy_score\n",
    "from sklearn.metrics import precision_score\n",
    "from sklearn.metrics import recall_score\n",
    "from sklearn.metrics import f1_score\n",
    "from sklearn import metrics\n",
    "#  The ABove Library is imported to Avoid the error Messages : "
   ]
  },
  {
   "cell_type": "code",
   "execution_count": 3,
   "id": "f88f6500",
   "metadata": {},
   "outputs": [],
   "source": [
    "df_train = pd.read_csv(\"Demo_Datasets\\Lesson 4/train.csv\")"
   ]
  },
  {
   "cell_type": "code",
   "execution_count": 4,
   "id": "bf104e38",
   "metadata": {},
   "outputs": [
    {
     "data": {
      "text/plain": [
       "(891, 12)"
      ]
     },
     "execution_count": 4,
     "metadata": {},
     "output_type": "execute_result"
    }
   ],
   "source": [
    "df_train.shape"
   ]
  },
  {
   "cell_type": "code",
   "execution_count": 5,
   "id": "3b7189dc",
   "metadata": {},
   "outputs": [
    {
     "data": {
      "text/html": [
       "<div>\n",
       "<style scoped>\n",
       "    .dataframe tbody tr th:only-of-type {\n",
       "        vertical-align: middle;\n",
       "    }\n",
       "\n",
       "    .dataframe tbody tr th {\n",
       "        vertical-align: top;\n",
       "    }\n",
       "\n",
       "    .dataframe thead th {\n",
       "        text-align: right;\n",
       "    }\n",
       "</style>\n",
       "<table border=\"1\" class=\"dataframe\">\n",
       "  <thead>\n",
       "    <tr style=\"text-align: right;\">\n",
       "      <th></th>\n",
       "      <th>PassengerId</th>\n",
       "      <th>Survived</th>\n",
       "      <th>Pclass</th>\n",
       "      <th>Name</th>\n",
       "      <th>Sex</th>\n",
       "      <th>Age</th>\n",
       "      <th>SibSp</th>\n",
       "      <th>Parch</th>\n",
       "      <th>Ticket</th>\n",
       "      <th>Fare</th>\n",
       "      <th>Cabin</th>\n",
       "      <th>Embarked</th>\n",
       "    </tr>\n",
       "  </thead>\n",
       "  <tbody>\n",
       "    <tr>\n",
       "      <th>0</th>\n",
       "      <td>1</td>\n",
       "      <td>0</td>\n",
       "      <td>3</td>\n",
       "      <td>Braund, Mr. Owen Harris</td>\n",
       "      <td>male</td>\n",
       "      <td>22.0</td>\n",
       "      <td>1</td>\n",
       "      <td>0</td>\n",
       "      <td>A/5 21171</td>\n",
       "      <td>7.2500</td>\n",
       "      <td>NaN</td>\n",
       "      <td>S</td>\n",
       "    </tr>\n",
       "    <tr>\n",
       "      <th>1</th>\n",
       "      <td>2</td>\n",
       "      <td>1</td>\n",
       "      <td>1</td>\n",
       "      <td>Cumings, Mrs. John Bradley (Florence Briggs Th...</td>\n",
       "      <td>female</td>\n",
       "      <td>38.0</td>\n",
       "      <td>1</td>\n",
       "      <td>0</td>\n",
       "      <td>PC 17599</td>\n",
       "      <td>71.2833</td>\n",
       "      <td>C85</td>\n",
       "      <td>C</td>\n",
       "    </tr>\n",
       "    <tr>\n",
       "      <th>2</th>\n",
       "      <td>3</td>\n",
       "      <td>1</td>\n",
       "      <td>3</td>\n",
       "      <td>Heikkinen, Miss. Laina</td>\n",
       "      <td>female</td>\n",
       "      <td>26.0</td>\n",
       "      <td>0</td>\n",
       "      <td>0</td>\n",
       "      <td>STON/O2. 3101282</td>\n",
       "      <td>7.9250</td>\n",
       "      <td>NaN</td>\n",
       "      <td>S</td>\n",
       "    </tr>\n",
       "    <tr>\n",
       "      <th>3</th>\n",
       "      <td>4</td>\n",
       "      <td>1</td>\n",
       "      <td>1</td>\n",
       "      <td>Futrelle, Mrs. Jacques Heath (Lily May Peel)</td>\n",
       "      <td>female</td>\n",
       "      <td>35.0</td>\n",
       "      <td>1</td>\n",
       "      <td>0</td>\n",
       "      <td>113803</td>\n",
       "      <td>53.1000</td>\n",
       "      <td>C123</td>\n",
       "      <td>S</td>\n",
       "    </tr>\n",
       "    <tr>\n",
       "      <th>4</th>\n",
       "      <td>5</td>\n",
       "      <td>0</td>\n",
       "      <td>3</td>\n",
       "      <td>Allen, Mr. William Henry</td>\n",
       "      <td>male</td>\n",
       "      <td>35.0</td>\n",
       "      <td>0</td>\n",
       "      <td>0</td>\n",
       "      <td>373450</td>\n",
       "      <td>8.0500</td>\n",
       "      <td>NaN</td>\n",
       "      <td>S</td>\n",
       "    </tr>\n",
       "  </tbody>\n",
       "</table>\n",
       "</div>"
      ],
      "text/plain": [
       "   PassengerId  Survived  Pclass  \\\n",
       "0            1         0       3   \n",
       "1            2         1       1   \n",
       "2            3         1       3   \n",
       "3            4         1       1   \n",
       "4            5         0       3   \n",
       "\n",
       "                                                Name     Sex   Age  SibSp  \\\n",
       "0                            Braund, Mr. Owen Harris    male  22.0      1   \n",
       "1  Cumings, Mrs. John Bradley (Florence Briggs Th...  female  38.0      1   \n",
       "2                             Heikkinen, Miss. Laina  female  26.0      0   \n",
       "3       Futrelle, Mrs. Jacques Heath (Lily May Peel)  female  35.0      1   \n",
       "4                           Allen, Mr. William Henry    male  35.0      0   \n",
       "\n",
       "   Parch            Ticket     Fare Cabin Embarked  \n",
       "0      0         A/5 21171   7.2500   NaN        S  \n",
       "1      0          PC 17599  71.2833   C85        C  \n",
       "2      0  STON/O2. 3101282   7.9250   NaN        S  \n",
       "3      0            113803  53.1000  C123        S  \n",
       "4      0            373450   8.0500   NaN        S  "
      ]
     },
     "execution_count": 5,
     "metadata": {},
     "output_type": "execute_result"
    }
   ],
   "source": [
    "df_train.head()"
   ]
  },
  {
   "cell_type": "code",
   "execution_count": 6,
   "id": "37d60948",
   "metadata": {},
   "outputs": [
    {
     "data": {
      "text/plain": [
       "0    549\n",
       "1    342\n",
       "Name: Survived, dtype: int64"
      ]
     },
     "execution_count": 6,
     "metadata": {},
     "output_type": "execute_result"
    }
   ],
   "source": [
    "df_train.Survived.value_counts()"
   ]
  },
  {
   "cell_type": "code",
   "execution_count": 7,
   "id": "7ec0154f",
   "metadata": {},
   "outputs": [
    {
     "data": {
      "text/plain": [
       "male      577\n",
       "female    314\n",
       "Name: Sex, dtype: int64"
      ]
     },
     "execution_count": 7,
     "metadata": {},
     "output_type": "execute_result"
    }
   ],
   "source": [
    "df_train.Sex.value_counts()"
   ]
  },
  {
   "cell_type": "code",
   "execution_count": 8,
   "id": "51109a65",
   "metadata": {},
   "outputs": [
    {
     "data": {
      "text/plain": [
       "S    644\n",
       "C    168\n",
       "Q     77\n",
       "Name: Embarked, dtype: int64"
      ]
     },
     "execution_count": 8,
     "metadata": {},
     "output_type": "execute_result"
    }
   ],
   "source": [
    "df_train.Embarked.value_counts()"
   ]
  },
  {
   "cell_type": "code",
   "execution_count": 9,
   "id": "aa1cd597",
   "metadata": {},
   "outputs": [
    {
     "data": {
      "text/plain": [
       "PassengerId      0\n",
       "Survived         0\n",
       "Pclass           0\n",
       "Name             0\n",
       "Sex              0\n",
       "Age            177\n",
       "SibSp            0\n",
       "Parch            0\n",
       "Ticket           0\n",
       "Fare             0\n",
       "Cabin          687\n",
       "Embarked         2\n",
       "dtype: int64"
      ]
     },
     "execution_count": 9,
     "metadata": {},
     "output_type": "execute_result"
    }
   ],
   "source": [
    "df_train.isnull().sum()"
   ]
  },
  {
   "cell_type": "code",
   "execution_count": 12,
   "id": "9720531b",
   "metadata": {},
   "outputs": [],
   "source": [
    "# Drop Cabin \n",
    "# Age is relevent predictor for Survival : so we must keep it :\n",
    "# Dropping Irrelevent columns from the Dataset:\n",
    "df_train=df_train.drop(['PassengerId','Name','Ticket','Cabin'],axis=1)"
   ]
  },
  {
   "cell_type": "code",
   "execution_count": 13,
   "id": "125ea0c3",
   "metadata": {},
   "outputs": [
    {
     "data": {
      "text/html": [
       "<div>\n",
       "<style scoped>\n",
       "    .dataframe tbody tr th:only-of-type {\n",
       "        vertical-align: middle;\n",
       "    }\n",
       "\n",
       "    .dataframe tbody tr th {\n",
       "        vertical-align: top;\n",
       "    }\n",
       "\n",
       "    .dataframe thead th {\n",
       "        text-align: right;\n",
       "    }\n",
       "</style>\n",
       "<table border=\"1\" class=\"dataframe\">\n",
       "  <thead>\n",
       "    <tr style=\"text-align: right;\">\n",
       "      <th></th>\n",
       "      <th>Survived</th>\n",
       "      <th>Pclass</th>\n",
       "      <th>Sex</th>\n",
       "      <th>Age</th>\n",
       "      <th>SibSp</th>\n",
       "      <th>Parch</th>\n",
       "      <th>Fare</th>\n",
       "      <th>Embarked</th>\n",
       "    </tr>\n",
       "  </thead>\n",
       "  <tbody>\n",
       "    <tr>\n",
       "      <th>0</th>\n",
       "      <td>0</td>\n",
       "      <td>3</td>\n",
       "      <td>male</td>\n",
       "      <td>22.0</td>\n",
       "      <td>1</td>\n",
       "      <td>0</td>\n",
       "      <td>7.2500</td>\n",
       "      <td>S</td>\n",
       "    </tr>\n",
       "    <tr>\n",
       "      <th>1</th>\n",
       "      <td>1</td>\n",
       "      <td>1</td>\n",
       "      <td>female</td>\n",
       "      <td>38.0</td>\n",
       "      <td>1</td>\n",
       "      <td>0</td>\n",
       "      <td>71.2833</td>\n",
       "      <td>C</td>\n",
       "    </tr>\n",
       "    <tr>\n",
       "      <th>2</th>\n",
       "      <td>1</td>\n",
       "      <td>3</td>\n",
       "      <td>female</td>\n",
       "      <td>26.0</td>\n",
       "      <td>0</td>\n",
       "      <td>0</td>\n",
       "      <td>7.9250</td>\n",
       "      <td>S</td>\n",
       "    </tr>\n",
       "    <tr>\n",
       "      <th>3</th>\n",
       "      <td>1</td>\n",
       "      <td>1</td>\n",
       "      <td>female</td>\n",
       "      <td>35.0</td>\n",
       "      <td>1</td>\n",
       "      <td>0</td>\n",
       "      <td>53.1000</td>\n",
       "      <td>S</td>\n",
       "    </tr>\n",
       "    <tr>\n",
       "      <th>4</th>\n",
       "      <td>0</td>\n",
       "      <td>3</td>\n",
       "      <td>male</td>\n",
       "      <td>35.0</td>\n",
       "      <td>0</td>\n",
       "      <td>0</td>\n",
       "      <td>8.0500</td>\n",
       "      <td>S</td>\n",
       "    </tr>\n",
       "  </tbody>\n",
       "</table>\n",
       "</div>"
      ],
      "text/plain": [
       "   Survived  Pclass     Sex   Age  SibSp  Parch     Fare Embarked\n",
       "0         0       3    male  22.0      1      0   7.2500        S\n",
       "1         1       1  female  38.0      1      0  71.2833        C\n",
       "2         1       3  female  26.0      0      0   7.9250        S\n",
       "3         1       1  female  35.0      1      0  53.1000        S\n",
       "4         0       3    male  35.0      0      0   8.0500        S"
      ]
     },
     "execution_count": 13,
     "metadata": {},
     "output_type": "execute_result"
    }
   ],
   "source": [
    "df_train.head()"
   ]
  },
  {
   "cell_type": "code",
   "execution_count": 23,
   "id": "84e24f2b",
   "metadata": {},
   "outputs": [],
   "source": [
    "def age_approx(cols):\n",
    "    Age=cols[0]\n",
    "    Pclass=cols[1]\n",
    "    \n",
    "    if pd.isnull(Age):\n",
    "        if Pclass ==1:\n",
    "            return 37\n",
    "        elif Pclass==2:\n",
    "            return 29\n",
    "        else:\n",
    "            return 24\n",
    "    else:\n",
    "        return Age"
   ]
  },
  {
   "cell_type": "code",
   "execution_count": 24,
   "id": "4ede2df6",
   "metadata": {},
   "outputs": [
    {
     "data": {
      "text/html": [
       "<div>\n",
       "<style scoped>\n",
       "    .dataframe tbody tr th:only-of-type {\n",
       "        vertical-align: middle;\n",
       "    }\n",
       "\n",
       "    .dataframe tbody tr th {\n",
       "        vertical-align: top;\n",
       "    }\n",
       "\n",
       "    .dataframe thead th {\n",
       "        text-align: right;\n",
       "    }\n",
       "</style>\n",
       "<table border=\"1\" class=\"dataframe\">\n",
       "  <thead>\n",
       "    <tr style=\"text-align: right;\">\n",
       "      <th></th>\n",
       "      <th>Survived</th>\n",
       "      <th>Age</th>\n",
       "      <th>SibSp</th>\n",
       "      <th>Parch</th>\n",
       "      <th>Fare</th>\n",
       "    </tr>\n",
       "    <tr>\n",
       "      <th>Pclass</th>\n",
       "      <th></th>\n",
       "      <th></th>\n",
       "      <th></th>\n",
       "      <th></th>\n",
       "      <th></th>\n",
       "    </tr>\n",
       "  </thead>\n",
       "  <tbody>\n",
       "    <tr>\n",
       "      <th>1</th>\n",
       "      <td>0.629630</td>\n",
       "      <td>38.233441</td>\n",
       "      <td>0.416667</td>\n",
       "      <td>0.356481</td>\n",
       "      <td>84.154687</td>\n",
       "    </tr>\n",
       "    <tr>\n",
       "      <th>2</th>\n",
       "      <td>0.472826</td>\n",
       "      <td>29.877630</td>\n",
       "      <td>0.402174</td>\n",
       "      <td>0.380435</td>\n",
       "      <td>20.662183</td>\n",
       "    </tr>\n",
       "    <tr>\n",
       "      <th>3</th>\n",
       "      <td>0.242363</td>\n",
       "      <td>25.140620</td>\n",
       "      <td>0.615071</td>\n",
       "      <td>0.393075</td>\n",
       "      <td>13.675550</td>\n",
       "    </tr>\n",
       "  </tbody>\n",
       "</table>\n",
       "</div>"
      ],
      "text/plain": [
       "        Survived        Age     SibSp     Parch       Fare\n",
       "Pclass                                                    \n",
       "1       0.629630  38.233441  0.416667  0.356481  84.154687\n",
       "2       0.472826  29.877630  0.402174  0.380435  20.662183\n",
       "3       0.242363  25.140620  0.615071  0.393075  13.675550"
      ]
     },
     "execution_count": 24,
     "metadata": {},
     "output_type": "execute_result"
    }
   ],
   "source": [
    "df_train.groupby(['Pclass']).mean()"
   ]
  },
  {
   "cell_type": "code",
   "execution_count": 25,
   "id": "94dadbef",
   "metadata": {},
   "outputs": [],
   "source": [
    "df_train['Age']= df_train[['Age','Pclass']].apply(age_approx, axis=1)"
   ]
  },
  {
   "cell_type": "code",
   "execution_count": 26,
   "id": "457481b2",
   "metadata": {},
   "outputs": [
    {
     "data": {
      "text/plain": [
       "Survived    0\n",
       "Pclass      0\n",
       "Sex         0\n",
       "Age         0\n",
       "SibSp       0\n",
       "Parch       0\n",
       "Fare        0\n",
       "Embarked    2\n",
       "dtype: int64"
      ]
     },
     "execution_count": 26,
     "metadata": {},
     "output_type": "execute_result"
    }
   ],
   "source": [
    "df_train.isnull().sum()"
   ]
  },
  {
   "cell_type": "code",
   "execution_count": 27,
   "id": "dc3e3519",
   "metadata": {},
   "outputs": [
    {
     "data": {
      "text/html": [
       "<div>\n",
       "<style scoped>\n",
       "    .dataframe tbody tr th:only-of-type {\n",
       "        vertical-align: middle;\n",
       "    }\n",
       "\n",
       "    .dataframe tbody tr th {\n",
       "        vertical-align: top;\n",
       "    }\n",
       "\n",
       "    .dataframe thead th {\n",
       "        text-align: right;\n",
       "    }\n",
       "</style>\n",
       "<table border=\"1\" class=\"dataframe\">\n",
       "  <thead>\n",
       "    <tr style=\"text-align: right;\">\n",
       "      <th></th>\n",
       "      <th>Survived</th>\n",
       "      <th>Pclass</th>\n",
       "      <th>Sex</th>\n",
       "      <th>Age</th>\n",
       "      <th>SibSp</th>\n",
       "      <th>Parch</th>\n",
       "      <th>Fare</th>\n",
       "      <th>Embarked</th>\n",
       "    </tr>\n",
       "  </thead>\n",
       "  <tbody>\n",
       "    <tr>\n",
       "      <th>0</th>\n",
       "      <td>False</td>\n",
       "      <td>False</td>\n",
       "      <td>False</td>\n",
       "      <td>False</td>\n",
       "      <td>False</td>\n",
       "      <td>False</td>\n",
       "      <td>False</td>\n",
       "      <td>False</td>\n",
       "    </tr>\n",
       "    <tr>\n",
       "      <th>1</th>\n",
       "      <td>False</td>\n",
       "      <td>False</td>\n",
       "      <td>False</td>\n",
       "      <td>False</td>\n",
       "      <td>False</td>\n",
       "      <td>False</td>\n",
       "      <td>False</td>\n",
       "      <td>False</td>\n",
       "    </tr>\n",
       "    <tr>\n",
       "      <th>2</th>\n",
       "      <td>False</td>\n",
       "      <td>False</td>\n",
       "      <td>False</td>\n",
       "      <td>False</td>\n",
       "      <td>False</td>\n",
       "      <td>False</td>\n",
       "      <td>False</td>\n",
       "      <td>False</td>\n",
       "    </tr>\n",
       "    <tr>\n",
       "      <th>3</th>\n",
       "      <td>False</td>\n",
       "      <td>False</td>\n",
       "      <td>False</td>\n",
       "      <td>False</td>\n",
       "      <td>False</td>\n",
       "      <td>False</td>\n",
       "      <td>False</td>\n",
       "      <td>False</td>\n",
       "    </tr>\n",
       "    <tr>\n",
       "      <th>4</th>\n",
       "      <td>False</td>\n",
       "      <td>False</td>\n",
       "      <td>False</td>\n",
       "      <td>False</td>\n",
       "      <td>False</td>\n",
       "      <td>False</td>\n",
       "      <td>False</td>\n",
       "      <td>False</td>\n",
       "    </tr>\n",
       "    <tr>\n",
       "      <th>...</th>\n",
       "      <td>...</td>\n",
       "      <td>...</td>\n",
       "      <td>...</td>\n",
       "      <td>...</td>\n",
       "      <td>...</td>\n",
       "      <td>...</td>\n",
       "      <td>...</td>\n",
       "      <td>...</td>\n",
       "    </tr>\n",
       "    <tr>\n",
       "      <th>886</th>\n",
       "      <td>False</td>\n",
       "      <td>False</td>\n",
       "      <td>False</td>\n",
       "      <td>False</td>\n",
       "      <td>False</td>\n",
       "      <td>False</td>\n",
       "      <td>False</td>\n",
       "      <td>False</td>\n",
       "    </tr>\n",
       "    <tr>\n",
       "      <th>887</th>\n",
       "      <td>False</td>\n",
       "      <td>False</td>\n",
       "      <td>False</td>\n",
       "      <td>False</td>\n",
       "      <td>False</td>\n",
       "      <td>False</td>\n",
       "      <td>False</td>\n",
       "      <td>False</td>\n",
       "    </tr>\n",
       "    <tr>\n",
       "      <th>888</th>\n",
       "      <td>False</td>\n",
       "      <td>False</td>\n",
       "      <td>False</td>\n",
       "      <td>False</td>\n",
       "      <td>False</td>\n",
       "      <td>False</td>\n",
       "      <td>False</td>\n",
       "      <td>False</td>\n",
       "    </tr>\n",
       "    <tr>\n",
       "      <th>889</th>\n",
       "      <td>False</td>\n",
       "      <td>False</td>\n",
       "      <td>False</td>\n",
       "      <td>False</td>\n",
       "      <td>False</td>\n",
       "      <td>False</td>\n",
       "      <td>False</td>\n",
       "      <td>False</td>\n",
       "    </tr>\n",
       "    <tr>\n",
       "      <th>890</th>\n",
       "      <td>False</td>\n",
       "      <td>False</td>\n",
       "      <td>False</td>\n",
       "      <td>False</td>\n",
       "      <td>False</td>\n",
       "      <td>False</td>\n",
       "      <td>False</td>\n",
       "      <td>False</td>\n",
       "    </tr>\n",
       "  </tbody>\n",
       "</table>\n",
       "<p>889 rows × 8 columns</p>\n",
       "</div>"
      ],
      "text/plain": [
       "     Survived  Pclass    Sex    Age  SibSp  Parch   Fare  Embarked\n",
       "0       False   False  False  False  False  False  False     False\n",
       "1       False   False  False  False  False  False  False     False\n",
       "2       False   False  False  False  False  False  False     False\n",
       "3       False   False  False  False  False  False  False     False\n",
       "4       False   False  False  False  False  False  False     False\n",
       "..        ...     ...    ...    ...    ...    ...    ...       ...\n",
       "886     False   False  False  False  False  False  False     False\n",
       "887     False   False  False  False  False  False  False     False\n",
       "888     False   False  False  False  False  False  False     False\n",
       "889     False   False  False  False  False  False  False     False\n",
       "890     False   False  False  False  False  False  False     False\n",
       "\n",
       "[889 rows x 8 columns]"
      ]
     },
     "execution_count": 27,
     "metadata": {},
     "output_type": "execute_result"
    }
   ],
   "source": [
    "df_train.dropna(inplace=True)\n",
    "df_train.isnull()"
   ]
  },
  {
   "cell_type": "code",
   "execution_count": 28,
   "id": "660299aa",
   "metadata": {},
   "outputs": [
    {
     "data": {
      "text/plain": [
       "Survived    0\n",
       "Pclass      0\n",
       "Sex         0\n",
       "Age         0\n",
       "SibSp       0\n",
       "Parch       0\n",
       "Fare        0\n",
       "Embarked    0\n",
       "dtype: int64"
      ]
     },
     "execution_count": 28,
     "metadata": {},
     "output_type": "execute_result"
    }
   ],
   "source": [
    "df_train.isnull().sum()"
   ]
  },
  {
   "cell_type": "code",
   "execution_count": 30,
   "id": "f1c5d5a0",
   "metadata": {},
   "outputs": [
    {
     "data": {
      "text/plain": [
       "Survived      int64\n",
       "Pclass        int64\n",
       "Sex          object\n",
       "Age         float64\n",
       "SibSp         int64\n",
       "Parch         int64\n",
       "Fare        float64\n",
       "Embarked     object\n",
       "dtype: object"
      ]
     },
     "execution_count": 30,
     "metadata": {},
     "output_type": "execute_result"
    }
   ],
   "source": [
    "df_train.dtypes"
   ]
  },
  {
   "cell_type": "code",
   "execution_count": 40,
   "id": "5f401cd9",
   "metadata": {},
   "outputs": [],
   "source": [
    "# Converting the Data Types into Categorical TO integers:\n",
    "df_train_dummied = pd.get_dummies(df_train,columns=['Sex'])"
   ]
  },
  {
   "cell_type": "code",
   "execution_count": 41,
   "id": "56139e7d",
   "metadata": {},
   "outputs": [],
   "source": [
    "df_train_dummied = pd.get_dummies(df_train_dummied,columns=[\"Embarked\"])"
   ]
  },
  {
   "cell_type": "code",
   "execution_count": 42,
   "id": "7bb21e9d",
   "metadata": {},
   "outputs": [
    {
     "data": {
      "text/html": [
       "<div>\n",
       "<style scoped>\n",
       "    .dataframe tbody tr th:only-of-type {\n",
       "        vertical-align: middle;\n",
       "    }\n",
       "\n",
       "    .dataframe tbody tr th {\n",
       "        vertical-align: top;\n",
       "    }\n",
       "\n",
       "    .dataframe thead th {\n",
       "        text-align: right;\n",
       "    }\n",
       "</style>\n",
       "<table border=\"1\" class=\"dataframe\">\n",
       "  <thead>\n",
       "    <tr style=\"text-align: right;\">\n",
       "      <th></th>\n",
       "      <th>Survived</th>\n",
       "      <th>Pclass</th>\n",
       "      <th>Age</th>\n",
       "      <th>SibSp</th>\n",
       "      <th>Parch</th>\n",
       "      <th>Fare</th>\n",
       "      <th>Sex_female</th>\n",
       "      <th>Sex_male</th>\n",
       "      <th>Embarked_C</th>\n",
       "      <th>Embarked_Q</th>\n",
       "      <th>Embarked_S</th>\n",
       "    </tr>\n",
       "  </thead>\n",
       "  <tbody>\n",
       "    <tr>\n",
       "      <th>0</th>\n",
       "      <td>0</td>\n",
       "      <td>3</td>\n",
       "      <td>22.0</td>\n",
       "      <td>1</td>\n",
       "      <td>0</td>\n",
       "      <td>7.2500</td>\n",
       "      <td>0</td>\n",
       "      <td>1</td>\n",
       "      <td>0</td>\n",
       "      <td>0</td>\n",
       "      <td>1</td>\n",
       "    </tr>\n",
       "    <tr>\n",
       "      <th>1</th>\n",
       "      <td>1</td>\n",
       "      <td>1</td>\n",
       "      <td>38.0</td>\n",
       "      <td>1</td>\n",
       "      <td>0</td>\n",
       "      <td>71.2833</td>\n",
       "      <td>1</td>\n",
       "      <td>0</td>\n",
       "      <td>1</td>\n",
       "      <td>0</td>\n",
       "      <td>0</td>\n",
       "    </tr>\n",
       "    <tr>\n",
       "      <th>2</th>\n",
       "      <td>1</td>\n",
       "      <td>3</td>\n",
       "      <td>26.0</td>\n",
       "      <td>0</td>\n",
       "      <td>0</td>\n",
       "      <td>7.9250</td>\n",
       "      <td>1</td>\n",
       "      <td>0</td>\n",
       "      <td>0</td>\n",
       "      <td>0</td>\n",
       "      <td>1</td>\n",
       "    </tr>\n",
       "    <tr>\n",
       "      <th>3</th>\n",
       "      <td>1</td>\n",
       "      <td>1</td>\n",
       "      <td>35.0</td>\n",
       "      <td>1</td>\n",
       "      <td>0</td>\n",
       "      <td>53.1000</td>\n",
       "      <td>1</td>\n",
       "      <td>0</td>\n",
       "      <td>0</td>\n",
       "      <td>0</td>\n",
       "      <td>1</td>\n",
       "    </tr>\n",
       "    <tr>\n",
       "      <th>4</th>\n",
       "      <td>0</td>\n",
       "      <td>3</td>\n",
       "      <td>35.0</td>\n",
       "      <td>0</td>\n",
       "      <td>0</td>\n",
       "      <td>8.0500</td>\n",
       "      <td>0</td>\n",
       "      <td>1</td>\n",
       "      <td>0</td>\n",
       "      <td>0</td>\n",
       "      <td>1</td>\n",
       "    </tr>\n",
       "  </tbody>\n",
       "</table>\n",
       "</div>"
      ],
      "text/plain": [
       "   Survived  Pclass   Age  SibSp  Parch     Fare  Sex_female  Sex_male  \\\n",
       "0         0       3  22.0      1      0   7.2500           0         1   \n",
       "1         1       1  38.0      1      0  71.2833           1         0   \n",
       "2         1       3  26.0      0      0   7.9250           1         0   \n",
       "3         1       1  35.0      1      0  53.1000           1         0   \n",
       "4         0       3  35.0      0      0   8.0500           0         1   \n",
       "\n",
       "   Embarked_C  Embarked_Q  Embarked_S  \n",
       "0           0           0           1  \n",
       "1           1           0           0  \n",
       "2           0           0           1  \n",
       "3           0           0           1  \n",
       "4           0           0           1  "
      ]
     },
     "execution_count": 42,
     "metadata": {},
     "output_type": "execute_result"
    }
   ],
   "source": [
    "df_train_dummied.head()"
   ]
  },
  {
   "cell_type": "code",
   "execution_count": 43,
   "id": "edf0c168",
   "metadata": {},
   "outputs": [
    {
     "data": {
      "text/plain": [
       "<AxesSubplot:>"
      ]
     },
     "execution_count": 43,
     "metadata": {},
     "output_type": "execute_result"
    },
    {
     "data": {
      "image/png": "[encoded data removed]",
      "text/plain": [
       "<Figure size 432x288 with 2 Axes>"
      ]
     },
     "metadata": {},
     "output_type": "display_data"
    }
   ],
   "source": [
    "plt.figure(figsize=(6,4))\n",
    "sns.heatmap(df_train_dummied.corr())"
   ]
  },
  {
   "cell_type": "code",
   "execution_count": 45,
   "id": "2229519b",
   "metadata": {},
   "outputs": [],
   "source": [
    "used_feature= [\"Pclass\",\"Age\",\"SibSp\",\"Parch\",\"Sex_female\",\"Sex_male\",\"Embarked_C\",\"Embarked_Q\",\"Embarked_S\"]\n",
    "\n",
    "X = df_train_dummied[used_feature].values\n",
    "y = df_train_dummied['Survived']"
   ]
  },
  {
   "cell_type": "code",
   "execution_count": 54,
   "id": "f31f95a3",
   "metadata": {},
   "outputs": [],
   "source": [
    "X_train,X_test,y_train,y_test = train_test_split(X,y,test_size=0.3,random_state=1)"
   ]
  },
  {
   "cell_type": "code",
   "execution_count": 55,
   "id": "3838a0b3",
   "metadata": {},
   "outputs": [
    {
     "name": "stdout",
     "output_type": "stream",
     "text": [
      "(622, 9)\n",
      "(267, 9)\n",
      "(622,)\n",
      "(267,)\n"
     ]
    }
   ],
   "source": [
    "print(X_train.shape)\n",
    "print(X_test.shape)\n",
    "print(y_train.shape)\n",
    "print(y_test.shape)"
   ]
  },
  {
   "cell_type": "code",
   "execution_count": 56,
   "id": "35802dd5",
   "metadata": {},
   "outputs": [],
   "source": [
    "LogReg = LogisticRegression()"
   ]
  },
  {
   "cell_type": "code",
   "execution_count": 57,
   "id": "fc3bc8ab",
   "metadata": {},
   "outputs": [
    {
     "name": "stderr",
     "output_type": "stream",
     "text": [
      "C:\\Users\\Public\\anaconda3\\lib\\site-packages\\sklearn\\linear_model\\_logistic.py:763: ConvergenceWarning: lbfgs failed to converge (status=1):\n",
      "STOP: TOTAL NO. of ITERATIONS REACHED LIMIT.\n",
      "\n",
      "Increase the number of iterations (max_iter) or scale the data as shown in:\n",
      "    https://scikit-learn.org/stable/modules/preprocessing.html\n",
      "Please also refer to the documentation for alternative solver options:\n",
      "    https://scikit-learn.org/stable/modules/linear_model.html#logistic-regression\n",
      "  n_iter_i = _check_optimize_result(\n"
     ]
    },
    {
     "data": {
      "text/plain": [
       "LogisticRegression()"
      ]
     },
     "execution_count": 57,
     "metadata": {},
     "output_type": "execute_result"
    }
   ],
   "source": [
    "LogReg.fit(X_train,y_train)"
   ]
  },
  {
   "cell_type": "code",
   "execution_count": 58,
   "id": "ed5df9c2",
   "metadata": {},
   "outputs": [],
   "source": [
    "y_pred = LogReg.predict(X_test)"
   ]
  },
  {
   "cell_type": "code",
   "execution_count": 59,
   "id": "370f8183",
   "metadata": {},
   "outputs": [
    {
     "data": {
      "text/plain": [
       "array([[143,  23],\n",
       "       [ 22,  79]], dtype=int64)"
      ]
     },
     "execution_count": 59,
     "metadata": {},
     "output_type": "execute_result"
    }
   ],
   "source": [
    "metrics.confusion_matrix(y_test,y_pred)"
   ]
  },
  {
   "cell_type": "code",
   "execution_count": 61,
   "id": "8565b66d",
   "metadata": {},
   "outputs": [
    {
     "data": {
      "text/plain": [
       "0.8314606741573034"
      ]
     },
     "execution_count": 61,
     "metadata": {},
     "output_type": "execute_result"
    }
   ],
   "source": [
    "metrics.accuracy_score(y_test,y_pred)"
   ]
  },
  {
   "cell_type": "code",
   "execution_count": 62,
   "id": "14c619e7",
   "metadata": {},
   "outputs": [
    {
     "data": {
      "text/plain": [
       "267"
      ]
     },
     "execution_count": 62,
     "metadata": {},
     "output_type": "execute_result"
    }
   ],
   "source": [
    "len(X_test)"
   ]
  },
  {
   "cell_type": "code",
   "execution_count": 63,
   "id": "bb4e7801",
   "metadata": {},
   "outputs": [
    {
     "name": "stdout",
     "output_type": "stream",
     "text": [
      "              precision    recall  f1-score   support\n",
      "\n",
      "           0       0.87      0.86      0.86       166\n",
      "           1       0.77      0.78      0.78       101\n",
      "\n",
      "    accuracy                           0.83       267\n",
      "   macro avg       0.82      0.82      0.82       267\n",
      "weighted avg       0.83      0.83      0.83       267\n",
      "\n"
     ]
    }
   ],
   "source": [
    "print(classification_report(y_test,y_pred))"
   ]
  },
  {
   "cell_type": "code",
   "execution_count": 64,
   "id": "6f62f90a",
   "metadata": {},
   "outputs": [
    {
     "data": {
      "text/plain": [
       "array([[-1.04314192, -0.03993457, -0.24324446, -0.04008103,  1.19387943,\n",
       "        -1.19533661,  0.34944138, -0.03635018, -0.31454837]])"
      ]
     },
     "execution_count": 64,
     "metadata": {},
     "output_type": "execute_result"
    }
   ],
   "source": [
    "LogReg.coef_"
   ]
  },
  {
   "cell_type": "code",
   "execution_count": 65,
   "id": "c9e19729",
   "metadata": {},
   "outputs": [
    {
     "data": {
      "text/plain": [
       "array([3.66253934])"
      ]
     },
     "execution_count": 65,
     "metadata": {},
     "output_type": "execute_result"
    }
   ],
   "source": [
    "LogReg.intercept_"
   ]
  },
  {
   "cell_type": "code",
   "execution_count": 66,
   "id": "54c349aa",
   "metadata": {},
   "outputs": [
    {
     "data": {
      "text/plain": [
       "Index(['Pclass', 'Age', 'SibSp', 'Parch', 'Sex_female', 'Sex_male',\n",
       "       'Embarked_C', 'Embarked_Q', 'Embarked_S'],\n",
       "      dtype='object')"
      ]
     },
     "execution_count": 66,
     "metadata": {},
     "output_type": "execute_result"
    }
   ],
   "source": [
    "df_train_dummied[used_feature].columns"
   ]
  },
  {
   "cell_type": "code",
   "execution_count": 68,
   "id": "98d86ef3",
   "metadata": {},
   "outputs": [
    {
     "data": {
      "text/plain": [
       "array([[0.26542844, 0.73457156],\n",
       "       [0.39680939, 0.60319061],\n",
       "       [0.94753068, 0.05246932],\n",
       "       [0.25890075, 0.74109925],\n",
       "       [0.94439334, 0.05560666],\n",
       "       [0.1349627 , 0.8650373 ],\n",
       "       [0.33322773, 0.66677227],\n",
       "       [0.51998322, 0.48001678],\n",
       "       [0.78159657, 0.21840343],\n",
       "       [0.40753961, 0.59246039],\n",
       "       [0.74018959, 0.25981041],\n",
       "       [0.21122934, 0.78877066],\n",
       "       [0.74870771, 0.25129229],\n",
       "       [0.1456321 , 0.8543679 ],\n",
       "       [0.86475191, 0.13524809],\n",
       "       [0.36961142, 0.63038858],\n",
       "       [0.89376644, 0.10623356],\n",
       "       [0.29771474, 0.70228526],\n",
       "       [0.1762542 , 0.8237458 ],\n",
       "       [0.39841112, 0.60158888],\n",
       "       [0.90505325, 0.09494675],\n",
       "       [0.55279381, 0.44720619],\n",
       "       [0.86461079, 0.13538921],\n",
       "       [0.93775649, 0.06224351],\n",
       "       [0.51586664, 0.48413336],\n",
       "       [0.51627783, 0.48372217],\n",
       "       [0.03900465, 0.96099535],\n",
       "       [0.86935484, 0.13064516],\n",
       "       [0.89829714, 0.10170286],\n",
       "       [0.32470924, 0.67529076],\n",
       "       [0.38840658, 0.61159342],\n",
       "       [0.40714213, 0.59285787],\n",
       "       [0.15487977, 0.84512023],\n",
       "       [0.41415239, 0.58584761],\n",
       "       [0.5909917 , 0.4090083 ],\n",
       "       [0.16562446, 0.83437554],\n",
       "       [0.65729109, 0.34270891],\n",
       "       [0.87382398, 0.12617602],\n",
       "       [0.24343061, 0.75656939],\n",
       "       [0.5752348 , 0.4247652 ],\n",
       "       [0.43682709, 0.56317291],\n",
       "       [0.9116009 , 0.0883991 ],\n",
       "       [0.31540032, 0.68459968],\n",
       "       [0.87382398, 0.12617602],\n",
       "       [0.79680287, 0.20319713],\n",
       "       [0.23546952, 0.76453048],\n",
       "       [0.17053091, 0.82946909],\n",
       "       [0.81623996, 0.18376004],\n",
       "       [0.06065552, 0.93934448],\n",
       "       [0.9237402 , 0.0762598 ],\n",
       "       [0.87382398, 0.12617602],\n",
       "       [0.42655439, 0.57344561],\n",
       "       [0.88402479, 0.11597521],\n",
       "       [0.09106571, 0.90893429],\n",
       "       [0.74870771, 0.25129229],\n",
       "       [0.07043104, 0.92956896],\n",
       "       [0.77755425, 0.22244575],\n",
       "       [0.95156425, 0.04843575],\n",
       "       [0.70101262, 0.29898738],\n",
       "       [0.93732194, 0.06267806],\n",
       "       [0.8155124 , 0.1844876 ],\n",
       "       [0.86001292, 0.13998708],\n",
       "       [0.5909917 , 0.4090083 ],\n",
       "       [0.87382398, 0.12617602],\n",
       "       [0.42655439, 0.57344561],\n",
       "       [0.23615132, 0.76384868],\n",
       "       [0.87382398, 0.12617602],\n",
       "       [0.91169805, 0.08830195],\n",
       "       [0.84483869, 0.15516131],\n",
       "       [0.05418571, 0.94581429],\n",
       "       [0.86411165, 0.13588835],\n",
       "       [0.05626916, 0.94373084],\n",
       "       [0.65365164, 0.34634836],\n",
       "       [0.86001292, 0.13998708],\n",
       "       [0.3146789 , 0.6853211 ],\n",
       "       [0.1349627 , 0.8650373 ],\n",
       "       [0.83983525, 0.16016475],\n",
       "       [0.92399602, 0.07600398],\n",
       "       [0.82556801, 0.17443199],\n",
       "       [0.83353371, 0.16646629],\n",
       "       [0.83983525, 0.16016475],\n",
       "       [0.86475191, 0.13524809],\n",
       "       [0.03900465, 0.96099535],\n",
       "       [0.05966776, 0.94033224],\n",
       "       [0.76343429, 0.23656571],\n",
       "       [0.61960458, 0.38039542],\n",
       "       [0.43887617, 0.56112383],\n",
       "       [0.42659021, 0.57340979],\n",
       "       [0.87382398, 0.12617602],\n",
       "       [0.36961142, 0.63038858],\n",
       "       [0.89796438, 0.10203562],\n",
       "       [0.32470924, 0.67529076],\n",
       "       [0.93448156, 0.06551844],\n",
       "       [0.78095002, 0.21904998],\n",
       "       [0.24638156, 0.75361844],\n",
       "       [0.83949197, 0.16050803],\n",
       "       [0.22921098, 0.77078902],\n",
       "       [0.27476352, 0.72523648],\n",
       "       [0.24638156, 0.75361844],\n",
       "       [0.21458874, 0.78541126],\n",
       "       [0.85011817, 0.14988183],\n",
       "       [0.34219193, 0.65780807],\n",
       "       [0.60533439, 0.39466561],\n",
       "       [0.8551357 , 0.1448643 ],\n",
       "       [0.8551357 , 0.1448643 ],\n",
       "       [0.9063085 , 0.0936915 ],\n",
       "       [0.13628279, 0.86371721],\n",
       "       [0.85011817, 0.14988183],\n",
       "       [0.76698101, 0.23301899],\n",
       "       [0.81623996, 0.18376004],\n",
       "       [0.63908072, 0.36091928],\n",
       "       [0.74870771, 0.25129229],\n",
       "       [0.78095002, 0.21904998],\n",
       "       [0.18581805, 0.81418195],\n",
       "       [0.36011192, 0.63988808],\n",
       "       [0.08584033, 0.91415967],\n",
       "       [0.91600945, 0.08399055],\n",
       "       [0.40753961, 0.59246039],\n",
       "       [0.06385597, 0.93614403],\n",
       "       [0.79106209, 0.20893791],\n",
       "       [0.87816165, 0.12183835],\n",
       "       [0.20583905, 0.79416095],\n",
       "       [0.32470924, 0.67529076],\n",
       "       [0.50216384, 0.49783616],\n",
       "       [0.20776041, 0.79223959],\n",
       "       [0.8923436 , 0.1076564 ],\n",
       "       [0.44255342, 0.55744658],\n",
       "       [0.90995539, 0.09004461],\n",
       "       [0.88237029, 0.11762971],\n",
       "       [0.57830019, 0.42169981],\n",
       "       [0.44750156, 0.55249844],\n",
       "       [0.60533439, 0.39466561],\n",
       "       [0.87859714, 0.12140286],\n",
       "       [0.5909917 , 0.4090083 ],\n",
       "       [0.36961142, 0.63038858],\n",
       "       [0.07065991, 0.92934009],\n",
       "       [0.86001292, 0.13998708],\n",
       "       [0.92650619, 0.07349381],\n",
       "       [0.87382398, 0.12617602],\n",
       "       [0.89041033, 0.10958967],\n",
       "       [0.85942883, 0.14057117],\n",
       "       [0.31546378, 0.68453622],\n",
       "       [0.9237402 , 0.0762598 ],\n",
       "       [0.3892709 , 0.6107291 ],\n",
       "       [0.5909917 , 0.4090083 ],\n",
       "       [0.69227092, 0.30772908],\n",
       "       [0.17947426, 0.82052574],\n",
       "       [0.106604  , 0.893396  ],\n",
       "       [0.07867918, 0.92132082],\n",
       "       [0.9295162 , 0.0704838 ],\n",
       "       [0.85711123, 0.14288877],\n",
       "       [0.93666916, 0.06333084],\n",
       "       [0.14208269, 0.85791731],\n",
       "       [0.85011817, 0.14988183],\n",
       "       [0.37857617, 0.62142383],\n",
       "       [0.36961142, 0.63038858],\n",
       "       [0.79026046, 0.20973954],\n",
       "       [0.37222576, 0.62777424],\n",
       "       [0.89041033, 0.10958967],\n",
       "       [0.87382398, 0.12617602],\n",
       "       [0.50216384, 0.49783616],\n",
       "       [0.77057055, 0.22942945],\n",
       "       [0.57830019, 0.42169981],\n",
       "       [0.86991951, 0.13008049],\n",
       "       [0.87328902, 0.12671098],\n",
       "       [0.83420464, 0.16579536],\n",
       "       [0.13671147, 0.86328853],\n",
       "       [0.05924461, 0.94075539],\n",
       "       [0.77880987, 0.22119013],\n",
       "       [0.23617774, 0.76382226],\n",
       "       [0.85011817, 0.14988183],\n",
       "       [0.89931618, 0.10068382],\n",
       "       [0.83983525, 0.16016475],\n",
       "       [0.87382398, 0.12617602],\n",
       "       [0.67962781, 0.32037219],\n",
       "       [0.29009108, 0.70990892],\n",
       "       [0.86475191, 0.13524809],\n",
       "       [0.70931491, 0.29068509],\n",
       "       [0.87382398, 0.12617602],\n",
       "       [0.85011817, 0.14988183],\n",
       "       [0.83983525, 0.16016475],\n",
       "       [0.87382398, 0.12617602],\n",
       "       [0.65086981, 0.34913019],\n",
       "       [0.93269121, 0.06730879],\n",
       "       [0.32470924, 0.67529076],\n",
       "       [0.82808316, 0.17191684],\n",
       "       [0.38013653, 0.61986347],\n",
       "       [0.58130479, 0.41869521],\n",
       "       [0.22814398, 0.77185602],\n",
       "       [0.90505325, 0.09494675],\n",
       "       [0.75592385, 0.24407615],\n",
       "       [0.71723503, 0.28276497],\n",
       "       [0.86475191, 0.13524809],\n",
       "       [0.76409052, 0.23590948],\n",
       "       [0.93689323, 0.06310677],\n",
       "       [0.7477954 , 0.2522046 ],\n",
       "       [0.89898638, 0.10101362],\n",
       "       [0.2899334 , 0.7100666 ],\n",
       "       [0.5909917 , 0.4090083 ],\n",
       "       [0.06538696, 0.93461304],\n",
       "       [0.70180317, 0.29819683],\n",
       "       [0.18284994, 0.81715006],\n",
       "       [0.77841608, 0.22158392],\n",
       "       [0.54689545, 0.45310455],\n",
       "       [0.04738168, 0.95261832],\n",
       "       [0.89041033, 0.10958967],\n",
       "       [0.8760091 , 0.1239909 ],\n",
       "       [0.32309024, 0.67690976],\n",
       "       [0.81013949, 0.18986051],\n",
       "       [0.08781375, 0.91218625],\n",
       "       [0.83983525, 0.16016475],\n",
       "       [0.74111989, 0.25888011],\n",
       "       [0.78095002, 0.21904998],\n",
       "       [0.76698101, 0.23301899],\n",
       "       [0.30758468, 0.69241532],\n",
       "       [0.19492078, 0.80507922],\n",
       "       [0.75614631, 0.24385369],\n",
       "       [0.19252318, 0.80747682],\n",
       "       [0.91486056, 0.08513944],\n",
       "       [0.69231911, 0.30768089],\n",
       "       [0.86991951, 0.13008049],\n",
       "       [0.49820807, 0.50179193],\n",
       "       [0.66980077, 0.33019923],\n",
       "       [0.22139601, 0.77860399],\n",
       "       [0.24340364, 0.75659636],\n",
       "       [0.86475191, 0.13524809],\n",
       "       [0.57366596, 0.42633404],\n",
       "       [0.83983525, 0.16016475],\n",
       "       [0.78770483, 0.21229517],\n",
       "       [0.74873527, 0.25126473],\n",
       "       [0.38013653, 0.61986347],\n",
       "       [0.29426474, 0.70573526],\n",
       "       [0.46739421, 0.53260579],\n",
       "       [0.83983525, 0.16016475],\n",
       "       [0.89796438, 0.10203562],\n",
       "       [0.89076473, 0.10923527],\n",
       "       [0.87382398, 0.12617602],\n",
       "       [0.79878124, 0.20121876],\n",
       "       [0.35199906, 0.64800094],\n",
       "       [0.87816165, 0.12183835],\n",
       "       [0.29771474, 0.70228526],\n",
       "       [0.83983525, 0.16016475],\n",
       "       [0.85011817, 0.14988183],\n",
       "       [0.67060468, 0.32939532],\n",
       "       [0.51722265, 0.48277735],\n",
       "       [0.09833691, 0.90166309],\n",
       "       [0.13277815, 0.86722185],\n",
       "       [0.79797806, 0.20202194],\n",
       "       [0.69154383, 0.30845617],\n",
       "       [0.87422444, 0.12577556],\n",
       "       [0.24187218, 0.75812782],\n",
       "       [0.32470924, 0.67529076],\n",
       "       [0.39793411, 0.60206589],\n",
       "       [0.94125308, 0.05874692],\n",
       "       [0.10899785, 0.89100215],\n",
       "       [0.22545216, 0.77454784],\n",
       "       [0.88237029, 0.11762971],\n",
       "       [0.90505325, 0.09494675],\n",
       "       [0.03901563, 0.96098437],\n",
       "       [0.78095002, 0.21904998],\n",
       "       [0.20143442, 0.79856558],\n",
       "       [0.87397206, 0.12602794],\n",
       "       [0.65732408, 0.34267592],\n",
       "       [0.87382398, 0.12617602],\n",
       "       [0.29426474, 0.70573526],\n",
       "       [0.83983525, 0.16016475],\n",
       "       [0.91201392, 0.08798608]])"
      ]
     },
     "execution_count": 68,
     "metadata": {},
     "output_type": "execute_result"
    }
   ],
   "source": [
    "LogReg.predict_proba(X_test)"
   ]
  },
  {
   "cell_type": "code",
   "execution_count": null,
   "id": "d0c36916",
   "metadata": {},
   "outputs": [],
   "source": []
  }
 ],
 "metadata": {
  "kernelspec": {
   "display_name": "Python 3 (ipykernel)",
   "language": "python",
   "name": "python3"
  },
  "language_info": {
   "codemirror_mode": {
    "name": "ipython",
    "version": 3
   },
   "file_extension": ".py",
   "mimetype": "text/x-python",
   "name": "python",
   "nbconvert_exporter": "python",
   "pygments_lexer": "ipython3",
   "version": "3.9.7"
  }
 },
 "nbformat": 4,
 "nbformat_minor": 5
}
