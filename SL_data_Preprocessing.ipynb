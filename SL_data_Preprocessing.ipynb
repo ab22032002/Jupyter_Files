{
 "cells": [
  {
   "cell_type": "code",
   "execution_count": 2,
   "id": "fcbe0138",
   "metadata": {},
   "outputs": [
    {
     "data": {
      "text/html": [
       "<div>\n",
       "<style scoped>\n",
       "    .dataframe tbody tr th:only-of-type {\n",
       "        vertical-align: middle;\n",
       "    }\n",
       "\n",
       "    .dataframe tbody tr th {\n",
       "        vertical-align: top;\n",
       "    }\n",
       "\n",
       "    .dataframe thead th {\n",
       "        text-align: right;\n",
       "    }\n",
       "</style>\n",
       "<table border=\"1\" class=\"dataframe\">\n",
       "  <thead>\n",
       "    <tr style=\"text-align: right;\">\n",
       "      <th></th>\n",
       "      <th>land_area</th>\n",
       "      <th>percent_city</th>\n",
       "      <th>percent_senior</th>\n",
       "      <th>physicians</th>\n",
       "      <th>hospital_beds</th>\n",
       "      <th>graduates</th>\n",
       "      <th>work_force</th>\n",
       "      <th>income</th>\n",
       "      <th>region</th>\n",
       "      <th>crime_rate</th>\n",
       "    </tr>\n",
       "  </thead>\n",
       "  <tbody>\n",
       "    <tr>\n",
       "      <th>0</th>\n",
       "      <td>1384</td>\n",
       "      <td>78.1</td>\n",
       "      <td>12.3</td>\n",
       "      <td>25627</td>\n",
       "      <td>69678</td>\n",
       "      <td>50.1</td>\n",
       "      <td>4083.9</td>\n",
       "      <td>72100</td>\n",
       "      <td>1</td>\n",
       "      <td>75.55</td>\n",
       "    </tr>\n",
       "    <tr>\n",
       "      <th>1</th>\n",
       "      <td>3719</td>\n",
       "      <td>43.9</td>\n",
       "      <td>9.4</td>\n",
       "      <td>13326</td>\n",
       "      <td>43292</td>\n",
       "      <td>53.9</td>\n",
       "      <td>3305.9</td>\n",
       "      <td>54542</td>\n",
       "      <td>2</td>\n",
       "      <td>56.03</td>\n",
       "    </tr>\n",
       "    <tr>\n",
       "      <th>2</th>\n",
       "      <td>3553</td>\n",
       "      <td>37.4</td>\n",
       "      <td>10.7</td>\n",
       "      <td>9724</td>\n",
       "      <td>33731</td>\n",
       "      <td>50.6</td>\n",
       "      <td>2066.3</td>\n",
       "      <td>33216</td>\n",
       "      <td>1</td>\n",
       "      <td>41.32</td>\n",
       "    </tr>\n",
       "    <tr>\n",
       "      <th>3</th>\n",
       "      <td>3916</td>\n",
       "      <td>29.9</td>\n",
       "      <td>8.8</td>\n",
       "      <td>6402</td>\n",
       "      <td>24167</td>\n",
       "      <td>52.2</td>\n",
       "      <td>1966.7</td>\n",
       "      <td>32906</td>\n",
       "      <td>2</td>\n",
       "      <td>67.38</td>\n",
       "    </tr>\n",
       "    <tr>\n",
       "      <th>4</th>\n",
       "      <td>2480</td>\n",
       "      <td>31.5</td>\n",
       "      <td>10.5</td>\n",
       "      <td>8502</td>\n",
       "      <td>16751</td>\n",
       "      <td>66.1</td>\n",
       "      <td>1514.5</td>\n",
       "      <td>26573</td>\n",
       "      <td>4</td>\n",
       "      <td>80.19</td>\n",
       "    </tr>\n",
       "  </tbody>\n",
       "</table>\n",
       "</div>"
      ],
      "text/plain": [
       "   land_area  percent_city  percent_senior  physicians  hospital_beds  \\\n",
       "0       1384          78.1            12.3       25627          69678   \n",
       "1       3719          43.9             9.4       13326          43292   \n",
       "2       3553          37.4            10.7        9724          33731   \n",
       "3       3916          29.9             8.8        6402          24167   \n",
       "4       2480          31.5            10.5        8502          16751   \n",
       "\n",
       "   graduates  work_force  income  region  crime_rate  \n",
       "0       50.1      4083.9   72100       1       75.55  \n",
       "1       53.9      3305.9   54542       2       56.03  \n",
       "2       50.6      2066.3   33216       1       41.32  \n",
       "3       52.2      1966.7   32906       2       67.38  \n",
       "4       66.1      1514.5   26573       4       80.19  "
      ]
     },
     "execution_count": 2,
     "metadata": {},
     "output_type": "execute_result"
    }
   ],
   "source": [
    "import pandas as pd\n",
    "import numpy as np\n",
    "import matplotlib.pyplot as plt\n",
    "x = pd.read_csv(\"https://raw.githubusercontent.com/dphi-official/Datasets/master/Standard_Metropolitan_Areas_Data-data.csv\")\n",
    "x.head()"
   ]
  },
  {
   "cell_type": "code",
   "execution_count": 4,
   "id": "87c0b7fe",
   "metadata": {},
   "outputs": [
    {
     "data": {
      "text/plain": [
       "(99, 10)"
      ]
     },
     "execution_count": 4,
     "metadata": {},
     "output_type": "execute_result"
    }
   ],
   "source": [
    "x.shape"
   ]
  },
  {
   "cell_type": "code",
   "execution_count": 5,
   "id": "14a7c38a",
   "metadata": {},
   "outputs": [
    {
     "data": {
      "text/plain": [
       "pandas.core.frame.DataFrame"
      ]
     },
     "execution_count": 5,
     "metadata": {},
     "output_type": "execute_result"
    }
   ],
   "source": [
    "type(x)\n",
    "# This will enhance our Knowledge about the Data Type : better Understanding;"
   ]
  },
  {
   "cell_type": "code",
   "execution_count": 7,
   "id": "b586fc20",
   "metadata": {},
   "outputs": [
    {
     "data": {
      "text/plain": [
       "dtype('int64')"
      ]
     },
     "execution_count": 7,
     "metadata": {},
     "output_type": "execute_result"
    }
   ],
   "source": [
    "#type of particular attribute\n",
    "x['land_area'].dtype"
   ]
  },
  {
   "cell_type": "code",
   "execution_count": 10,
   "id": "b55c09b4",
   "metadata": {},
   "outputs": [
    {
     "data": {
      "text/plain": [
       "array([12.3,  9.4, 10.7,  8.8, 10.5,  6.7,  8.2,  6.3, 12.1,  9.2, 10.3,\n",
       "        7.3,  7.8,  9.8, 10.4, 21.4, 10.6, 10.1, 11.1,  9.3,  8.4,  8.3,\n",
       "       11.3, 12.2, 10.2,  9.7,  9.9,  6. ,  8.7,  9.6,  7.4, 14.5, 11.9,\n",
       "        7.5,  9.5,  9.1,  8.6,  8. , 21.8,  7.7, 10.8,  6.1, 11. ,  6.8,\n",
       "        6.6, 11.5, 13.4, 11.6,  8.9,  6.2, 12.6, 10. ,  7.2, 12.5, 12. ,\n",
       "        8.1, 10.9,  3.9])"
      ]
     },
     "execution_count": 10,
     "metadata": {},
     "output_type": "execute_result"
    }
   ],
   "source": [
    "x['percent_senior'].unique()"
   ]
  },
  {
   "cell_type": "code",
   "execution_count": 16,
   "id": "033fa211",
   "metadata": {},
   "outputs": [
    {
     "data": {
      "text/plain": [
       "land_area         2615.727273\n",
       "percent_city        42.518182\n",
       "percent_senior       9.781818\n",
       "physicians        1828.333333\n",
       "hospital_beds     6345.868687\n",
       "graduates           54.463636\n",
       "work_force         449.366667\n",
       "income            6762.505051\n",
       "region               2.494949\n",
       "crime_rate          55.643030\n",
       "dtype: float64"
      ]
     },
     "execution_count": 16,
     "metadata": {},
     "output_type": "execute_result"
    }
   ],
   "source": [
    "x.mean()"
   ]
  },
  {
   "cell_type": "code",
   "execution_count": 17,
   "id": "7fd28b0d",
   "metadata": {},
   "outputs": [
    {
     "data": {
      "text/plain": [
       "land_area         1951.00\n",
       "percent_city        39.50\n",
       "percent_senior       9.70\n",
       "physicians         774.00\n",
       "hospital_beds     3472.00\n",
       "graduates           54.00\n",
       "work_force         257.20\n",
       "income            3510.00\n",
       "region               3.00\n",
       "crime_rate          56.06\n",
       "dtype: float64"
      ]
     },
     "execution_count": 17,
     "metadata": {},
     "output_type": "execute_result"
    }
   ],
   "source": [
    "x.median()"
   ]
  },
  {
   "cell_type": "code",
   "execution_count": 19,
   "id": "32f58504",
   "metadata": {},
   "outputs": [
    {
     "data": {
      "text/html": [
       "<div>\n",
       "<style scoped>\n",
       "    .dataframe tbody tr th:only-of-type {\n",
       "        vertical-align: middle;\n",
       "    }\n",
       "\n",
       "    .dataframe tbody tr th {\n",
       "        vertical-align: top;\n",
       "    }\n",
       "\n",
       "    .dataframe thead th {\n",
       "        text-align: right;\n",
       "    }\n",
       "</style>\n",
       "<table border=\"1\" class=\"dataframe\">\n",
       "  <thead>\n",
       "    <tr style=\"text-align: right;\">\n",
       "      <th></th>\n",
       "      <th>land_area</th>\n",
       "      <th>percent_city</th>\n",
       "      <th>percent_senior</th>\n",
       "      <th>physicians</th>\n",
       "      <th>hospital_beds</th>\n",
       "      <th>graduates</th>\n",
       "      <th>work_force</th>\n",
       "      <th>income</th>\n",
       "      <th>region</th>\n",
       "      <th>crime_rate</th>\n",
       "    </tr>\n",
       "  </thead>\n",
       "  <tbody>\n",
       "    <tr>\n",
       "      <th>0</th>\n",
       "      <td>813.0</td>\n",
       "      <td>13.4</td>\n",
       "      <td>10.5</td>\n",
       "      <td>405.0</td>\n",
       "      <td>481</td>\n",
       "      <td>56.2</td>\n",
       "      <td>136.9</td>\n",
       "      <td>769</td>\n",
       "      <td>3.0</td>\n",
       "      <td>70.66</td>\n",
       "    </tr>\n",
       "    <tr>\n",
       "      <th>1</th>\n",
       "      <td>1758.0</td>\n",
       "      <td>19.5</td>\n",
       "      <td>NaN</td>\n",
       "      <td>565.0</td>\n",
       "      <td>719</td>\n",
       "      <td>NaN</td>\n",
       "      <td>NaN</td>\n",
       "      <td>1148</td>\n",
       "      <td>NaN</td>\n",
       "      <td>NaN</td>\n",
       "    </tr>\n",
       "    <tr>\n",
       "      <th>2</th>\n",
       "      <td>NaN</td>\n",
       "      <td>19.9</td>\n",
       "      <td>NaN</td>\n",
       "      <td>NaN</td>\n",
       "      <td>964</td>\n",
       "      <td>NaN</td>\n",
       "      <td>NaN</td>\n",
       "      <td>1337</td>\n",
       "      <td>NaN</td>\n",
       "      <td>NaN</td>\n",
       "    </tr>\n",
       "    <tr>\n",
       "      <th>3</th>\n",
       "      <td>NaN</td>\n",
       "      <td>28.4</td>\n",
       "      <td>NaN</td>\n",
       "      <td>NaN</td>\n",
       "      <td>1093</td>\n",
       "      <td>NaN</td>\n",
       "      <td>NaN</td>\n",
       "      <td>1354</td>\n",
       "      <td>NaN</td>\n",
       "      <td>NaN</td>\n",
       "    </tr>\n",
       "    <tr>\n",
       "      <th>4</th>\n",
       "      <td>NaN</td>\n",
       "      <td>31.5</td>\n",
       "      <td>NaN</td>\n",
       "      <td>NaN</td>\n",
       "      <td>1128</td>\n",
       "      <td>NaN</td>\n",
       "      <td>NaN</td>\n",
       "      <td>1386</td>\n",
       "      <td>NaN</td>\n",
       "      <td>NaN</td>\n",
       "    </tr>\n",
       "    <tr>\n",
       "      <th>...</th>\n",
       "      <td>...</td>\n",
       "      <td>...</td>\n",
       "      <td>...</td>\n",
       "      <td>...</td>\n",
       "      <td>...</td>\n",
       "      <td>...</td>\n",
       "      <td>...</td>\n",
       "      <td>...</td>\n",
       "      <td>...</td>\n",
       "      <td>...</td>\n",
       "    </tr>\n",
       "    <tr>\n",
       "      <th>94</th>\n",
       "      <td>NaN</td>\n",
       "      <td>NaN</td>\n",
       "      <td>NaN</td>\n",
       "      <td>NaN</td>\n",
       "      <td>21149</td>\n",
       "      <td>NaN</td>\n",
       "      <td>NaN</td>\n",
       "      <td>26573</td>\n",
       "      <td>NaN</td>\n",
       "      <td>NaN</td>\n",
       "    </tr>\n",
       "    <tr>\n",
       "      <th>95</th>\n",
       "      <td>NaN</td>\n",
       "      <td>NaN</td>\n",
       "      <td>NaN</td>\n",
       "      <td>NaN</td>\n",
       "      <td>24167</td>\n",
       "      <td>NaN</td>\n",
       "      <td>NaN</td>\n",
       "      <td>32906</td>\n",
       "      <td>NaN</td>\n",
       "      <td>NaN</td>\n",
       "    </tr>\n",
       "    <tr>\n",
       "      <th>96</th>\n",
       "      <td>NaN</td>\n",
       "      <td>NaN</td>\n",
       "      <td>NaN</td>\n",
       "      <td>NaN</td>\n",
       "      <td>33731</td>\n",
       "      <td>NaN</td>\n",
       "      <td>NaN</td>\n",
       "      <td>33216</td>\n",
       "      <td>NaN</td>\n",
       "      <td>NaN</td>\n",
       "    </tr>\n",
       "    <tr>\n",
       "      <th>97</th>\n",
       "      <td>NaN</td>\n",
       "      <td>NaN</td>\n",
       "      <td>NaN</td>\n",
       "      <td>NaN</td>\n",
       "      <td>43292</td>\n",
       "      <td>NaN</td>\n",
       "      <td>NaN</td>\n",
       "      <td>54542</td>\n",
       "      <td>NaN</td>\n",
       "      <td>NaN</td>\n",
       "    </tr>\n",
       "    <tr>\n",
       "      <th>98</th>\n",
       "      <td>NaN</td>\n",
       "      <td>NaN</td>\n",
       "      <td>NaN</td>\n",
       "      <td>NaN</td>\n",
       "      <td>69678</td>\n",
       "      <td>NaN</td>\n",
       "      <td>NaN</td>\n",
       "      <td>72100</td>\n",
       "      <td>NaN</td>\n",
       "      <td>NaN</td>\n",
       "    </tr>\n",
       "  </tbody>\n",
       "</table>\n",
       "<p>99 rows × 10 columns</p>\n",
       "</div>"
      ],
      "text/plain": [
       "    land_area  percent_city  percent_senior  physicians  hospital_beds  \\\n",
       "0       813.0          13.4            10.5       405.0            481   \n",
       "1      1758.0          19.5             NaN       565.0            719   \n",
       "2         NaN          19.9             NaN         NaN            964   \n",
       "3         NaN          28.4             NaN         NaN           1093   \n",
       "4         NaN          31.5             NaN         NaN           1128   \n",
       "..        ...           ...             ...         ...            ...   \n",
       "94        NaN           NaN             NaN         NaN          21149   \n",
       "95        NaN           NaN             NaN         NaN          24167   \n",
       "96        NaN           NaN             NaN         NaN          33731   \n",
       "97        NaN           NaN             NaN         NaN          43292   \n",
       "98        NaN           NaN             NaN         NaN          69678   \n",
       "\n",
       "    graduates  work_force  income  region  crime_rate  \n",
       "0        56.2       136.9     769     3.0       70.66  \n",
       "1         NaN         NaN    1148     NaN         NaN  \n",
       "2         NaN         NaN    1337     NaN         NaN  \n",
       "3         NaN         NaN    1354     NaN         NaN  \n",
       "4         NaN         NaN    1386     NaN         NaN  \n",
       "..        ...         ...     ...     ...         ...  \n",
       "94        NaN         NaN   26573     NaN         NaN  \n",
       "95        NaN         NaN   32906     NaN         NaN  \n",
       "96        NaN         NaN   33216     NaN         NaN  \n",
       "97        NaN         NaN   54542     NaN         NaN  \n",
       "98        NaN         NaN   72100     NaN         NaN  \n",
       "\n",
       "[99 rows x 10 columns]"
      ]
     },
     "execution_count": 19,
     "metadata": {},
     "output_type": "execute_result"
    }
   ],
   "source": [
    "# Mode the Powerfull Tool as it can resolve the NaN Problem to Bears the Mode of NaN \n",
    "x.mode(axis=0)"
   ]
  },
  {
   "cell_type": "code",
   "execution_count": 20,
   "id": "768e37e3",
   "metadata": {},
   "outputs": [
    {
     "data": {
      "text/html": [
       "<div>\n",
       "<style scoped>\n",
       "    .dataframe tbody tr th:only-of-type {\n",
       "        vertical-align: middle;\n",
       "    }\n",
       "\n",
       "    .dataframe tbody tr th {\n",
       "        vertical-align: top;\n",
       "    }\n",
       "\n",
       "    .dataframe thead th {\n",
       "        text-align: right;\n",
       "    }\n",
       "</style>\n",
       "<table border=\"1\" class=\"dataframe\">\n",
       "  <thead>\n",
       "    <tr style=\"text-align: right;\">\n",
       "      <th></th>\n",
       "      <th>0</th>\n",
       "      <th>1</th>\n",
       "      <th>2</th>\n",
       "      <th>3</th>\n",
       "      <th>4</th>\n",
       "      <th>5</th>\n",
       "      <th>6</th>\n",
       "      <th>7</th>\n",
       "      <th>8</th>\n",
       "      <th>9</th>\n",
       "    </tr>\n",
       "  </thead>\n",
       "  <tbody>\n",
       "    <tr>\n",
       "      <th>0</th>\n",
       "      <td>1.0</td>\n",
       "      <td>12.3</td>\n",
       "      <td>50.1</td>\n",
       "      <td>75.55</td>\n",
       "      <td>78.10</td>\n",
       "      <td>1384.00</td>\n",
       "      <td>4083.9</td>\n",
       "      <td>25627.0</td>\n",
       "      <td>69678.0</td>\n",
       "      <td>72100.0</td>\n",
       "    </tr>\n",
       "    <tr>\n",
       "      <th>1</th>\n",
       "      <td>2.0</td>\n",
       "      <td>9.4</td>\n",
       "      <td>43.9</td>\n",
       "      <td>53.90</td>\n",
       "      <td>56.03</td>\n",
       "      <td>3305.90</td>\n",
       "      <td>3719.0</td>\n",
       "      <td>13326.0</td>\n",
       "      <td>43292.0</td>\n",
       "      <td>54542.0</td>\n",
       "    </tr>\n",
       "    <tr>\n",
       "      <th>2</th>\n",
       "      <td>1.0</td>\n",
       "      <td>10.7</td>\n",
       "      <td>37.4</td>\n",
       "      <td>41.32</td>\n",
       "      <td>50.60</td>\n",
       "      <td>2066.30</td>\n",
       "      <td>3553.0</td>\n",
       "      <td>9724.0</td>\n",
       "      <td>33216.0</td>\n",
       "      <td>33731.0</td>\n",
       "    </tr>\n",
       "    <tr>\n",
       "      <th>3</th>\n",
       "      <td>2.0</td>\n",
       "      <td>8.8</td>\n",
       "      <td>29.9</td>\n",
       "      <td>52.20</td>\n",
       "      <td>67.38</td>\n",
       "      <td>1966.70</td>\n",
       "      <td>3916.0</td>\n",
       "      <td>6402.0</td>\n",
       "      <td>24167.0</td>\n",
       "      <td>32906.0</td>\n",
       "    </tr>\n",
       "    <tr>\n",
       "      <th>4</th>\n",
       "      <td>4.0</td>\n",
       "      <td>10.5</td>\n",
       "      <td>31.5</td>\n",
       "      <td>66.10</td>\n",
       "      <td>80.19</td>\n",
       "      <td>1514.50</td>\n",
       "      <td>2480.0</td>\n",
       "      <td>8502.0</td>\n",
       "      <td>16751.0</td>\n",
       "      <td>26573.0</td>\n",
       "    </tr>\n",
       "    <tr>\n",
       "      <th>...</th>\n",
       "      <td>...</td>\n",
       "      <td>...</td>\n",
       "      <td>...</td>\n",
       "      <td>...</td>\n",
       "      <td>...</td>\n",
       "      <td>...</td>\n",
       "      <td>...</td>\n",
       "      <td>...</td>\n",
       "      <td>...</td>\n",
       "      <td>...</td>\n",
       "    </tr>\n",
       "    <tr>\n",
       "      <th>94</th>\n",
       "      <td>4.0</td>\n",
       "      <td>10.7</td>\n",
       "      <td>38.7</td>\n",
       "      <td>50.40</td>\n",
       "      <td>70.66</td>\n",
       "      <td>127.20</td>\n",
       "      <td>348.0</td>\n",
       "      <td>1093.0</td>\n",
       "      <td>1452.0</td>\n",
       "      <td>1511.0</td>\n",
       "    </tr>\n",
       "    <tr>\n",
       "      <th>95</th>\n",
       "      <td>3.0</td>\n",
       "      <td>8.1</td>\n",
       "      <td>30.3</td>\n",
       "      <td>36.36</td>\n",
       "      <td>39.60</td>\n",
       "      <td>80.60</td>\n",
       "      <td>159.0</td>\n",
       "      <td>481.0</td>\n",
       "      <td>769.0</td>\n",
       "      <td>1543.0</td>\n",
       "    </tr>\n",
       "    <tr>\n",
       "      <th>96</th>\n",
       "      <td>3.0</td>\n",
       "      <td>10.5</td>\n",
       "      <td>37.8</td>\n",
       "      <td>60.16</td>\n",
       "      <td>70.70</td>\n",
       "      <td>93.20</td>\n",
       "      <td>264.0</td>\n",
       "      <td>964.0</td>\n",
       "      <td>1011.0</td>\n",
       "      <td>1337.0</td>\n",
       "    </tr>\n",
       "    <tr>\n",
       "      <th>97</th>\n",
       "      <td>1.0</td>\n",
       "      <td>10.9</td>\n",
       "      <td>13.4</td>\n",
       "      <td>36.33</td>\n",
       "      <td>58.00</td>\n",
       "      <td>97.00</td>\n",
       "      <td>371.0</td>\n",
       "      <td>813.0</td>\n",
       "      <td>1589.0</td>\n",
       "      <td>4355.0</td>\n",
       "    </tr>\n",
       "    <tr>\n",
       "      <th>98</th>\n",
       "      <td>3.0</td>\n",
       "      <td>3.9</td>\n",
       "      <td>28.8</td>\n",
       "      <td>55.10</td>\n",
       "      <td>66.90</td>\n",
       "      <td>68.76</td>\n",
       "      <td>140.0</td>\n",
       "      <td>654.0</td>\n",
       "      <td>1148.0</td>\n",
       "      <td>1296.0</td>\n",
       "    </tr>\n",
       "  </tbody>\n",
       "</table>\n",
       "<p>99 rows × 10 columns</p>\n",
       "</div>"
      ],
      "text/plain": [
       "      0     1     2      3      4        5       6        7        8        9\n",
       "0   1.0  12.3  50.1  75.55  78.10  1384.00  4083.9  25627.0  69678.0  72100.0\n",
       "1   2.0   9.4  43.9  53.90  56.03  3305.90  3719.0  13326.0  43292.0  54542.0\n",
       "2   1.0  10.7  37.4  41.32  50.60  2066.30  3553.0   9724.0  33216.0  33731.0\n",
       "3   2.0   8.8  29.9  52.20  67.38  1966.70  3916.0   6402.0  24167.0  32906.0\n",
       "4   4.0  10.5  31.5  66.10  80.19  1514.50  2480.0   8502.0  16751.0  26573.0\n",
       "..  ...   ...   ...    ...    ...      ...     ...      ...      ...      ...\n",
       "94  4.0  10.7  38.7  50.40  70.66   127.20   348.0   1093.0   1452.0   1511.0\n",
       "95  3.0   8.1  30.3  36.36  39.60    80.60   159.0    481.0    769.0   1543.0\n",
       "96  3.0  10.5  37.8  60.16  70.70    93.20   264.0    964.0   1011.0   1337.0\n",
       "97  1.0  10.9  13.4  36.33  58.00    97.00   371.0    813.0   1589.0   4355.0\n",
       "98  3.0   3.9  28.8  55.10  66.90    68.76   140.0    654.0   1148.0   1296.0\n",
       "\n",
       "[99 rows x 10 columns]"
      ]
     },
     "execution_count": 20,
     "metadata": {},
     "output_type": "execute_result"
    }
   ],
   "source": [
    "x.mode(axis=1)"
   ]
  },
  {
   "cell_type": "code",
   "execution_count": 24,
   "id": "0e27529c",
   "metadata": {},
   "outputs": [
    {
     "data": {
      "text/plain": [
       "(array([0.5, 1.5, 2.5, 3.5, 4.5, 5.5, 6.5, 7.5, 8.5, 9.5]),\n",
       " [Text(0.5, 0, 'land_area'),\n",
       "  Text(1.5, 0, 'percent_city'),\n",
       "  Text(2.5, 0, 'percent_senior'),\n",
       "  Text(3.5, 0, 'physicians'),\n",
       "  Text(4.5, 0, 'hospital_beds'),\n",
       "  Text(5.5, 0, 'graduates'),\n",
       "  Text(6.5, 0, 'work_force'),\n",
       "  Text(7.5, 0, 'income'),\n",
       "  Text(8.5, 0, 'region'),\n",
       "  Text(9.5, 0, 'crime_rate')])"
      ]
     },
     "execution_count": 24,
     "metadata": {},
     "output_type": "execute_result"
    },
    {
     "data": {
      "image/png": "[encoded data removed]",
      "text/plain": [
       "<Figure size 432x288 with 2 Axes>"
      ]
     },
     "metadata": {
      "needs_background": "light"
     },
     "output_type": "display_data"
    }
   ],
   "source": [
    "#heat MaP\n",
    "import seaborn as sns\n",
    "correlation = x.corr()\n",
    "sns.heatmap(data=correlation,square=True,cmap=\"bwr\")\n",
    "plt.yticks(rotation=0)\n",
    "plt.xticks(rotation=90)"
   ]
  },
  {
   "cell_type": "code",
   "execution_count": 28,
   "id": "d0966cef",
   "metadata": {},
   "outputs": [
    {
     "ename": "SyntaxError",
     "evalue": "invalid syntax (Temp/ipykernel_15776/1272496806.py, line 1)",
     "output_type": "error",
     "traceback": [
      "\u001b[1;36m  File \u001b[1;32m\"C:\\Users\\ABHINA~1\\AppData\\Local\\Temp/ipykernel_15776/1272496806.py\"\u001b[1;36m, line \u001b[1;32m1\u001b[0m\n\u001b[1;33m    x.['land_area','percent_senior'].groupby(['percent_senior']).describe().unstack()\u001b[0m\n\u001b[1;37m      ^\u001b[0m\n\u001b[1;31mSyntaxError\u001b[0m\u001b[1;31m:\u001b[0m invalid syntax\n"
     ]
    }
   ],
   "source": [
    "x.['land_area','percent_senior'].groupby(['percent_senior']).describe().unstack()"
   ]
  },
  {
   "cell_type": "code",
   "execution_count": 29,
   "id": "5509dbe1",
   "metadata": {},
   "outputs": [
    {
     "data": {
      "text/plain": [
       "land_area         False\n",
       "percent_city      False\n",
       "percent_senior    False\n",
       "physicians        False\n",
       "hospital_beds     False\n",
       "graduates         False\n",
       "work_force        False\n",
       "income            False\n",
       "region            False\n",
       "crime_rate        False\n",
       "dtype: bool"
      ]
     },
     "execution_count": 29,
     "metadata": {},
     "output_type": "execute_result"
    }
   ],
   "source": [
    "x.isna().any()"
   ]
  },
  {
   "cell_type": "code",
   "execution_count": 32,
   "id": "0e5ef991",
   "metadata": {},
   "outputs": [
    {
     "ename": "ImportError",
     "evalue": "cannot import name 'Imputer' from 'sklearn.preprocessing' (C:\\Users\\Public\\anaconda3\\lib\\site-packages\\sklearn\\preprocessing\\__init__.py)",
     "output_type": "error",
     "traceback": [
      "\u001b[1;31m---------------------------------------------------------------------------\u001b[0m",
      "\u001b[1;31mImportError\u001b[0m                               Traceback (most recent call last)",
      "\u001b[1;32mC:\\Users\\ABHINA~1\\AppData\\Local\\Temp/ipykernel_15776/647658123.py\u001b[0m in \u001b[0;36m<module>\u001b[1;34m\u001b[0m\n\u001b[0;32m      1\u001b[0m \u001b[1;31m#if there were the issues like MISSING Values\u001b[0m\u001b[1;33m\u001b[0m\u001b[1;33m\u001b[0m\u001b[0m\n\u001b[0;32m      2\u001b[0m \u001b[1;31m# Mean_imputation\u001b[0m\u001b[1;33m\u001b[0m\u001b[1;33m\u001b[0m\u001b[0m\n\u001b[1;32m----> 3\u001b[1;33m \u001b[1;32mfrom\u001b[0m \u001b[0msklearn\u001b[0m\u001b[1;33m.\u001b[0m\u001b[0mpreprocessing\u001b[0m \u001b[1;32mimport\u001b[0m \u001b[0mImputer\u001b[0m\u001b[1;33m\u001b[0m\u001b[1;33m\u001b[0m\u001b[0m\n\u001b[0m\u001b[0;32m      4\u001b[0m \u001b[0mmean_imputer\u001b[0m \u001b[1;33m=\u001b[0m \u001b[0mimputer\u001b[0m\u001b[1;33m(\u001b[0m\u001b[0mmissing_values\u001b[0m\u001b[1;33m=\u001b[0m\u001b[0mnp\u001b[0m\u001b[1;33m.\u001b[0m\u001b[0mNaN\u001b[0m\u001b[1;33m,\u001b[0m\u001b[0mstrategy\u001b[0m\u001b[1;33m=\u001b[0m\u001b[1;34m'mean'\u001b[0m\u001b[1;33m,\u001b[0m\u001b[0maxis\u001b[0m\u001b[1;33m=\u001b[0m\u001b[1;36m1\u001b[0m\u001b[1;33m)\u001b[0m\u001b[1;33m\u001b[0m\u001b[1;33m\u001b[0m\u001b[0m\n\u001b[0;32m      5\u001b[0m \u001b[0mmean_imputer\u001b[0m \u001b[1;33m=\u001b[0m \u001b[0mmean_imputer\u001b[0m\u001b[1;33m.\u001b[0m\u001b[0mfit\u001b[0m\u001b[1;33m(\u001b[0m\u001b[0mx\u001b[0m\u001b[1;33m)\u001b[0m\u001b[1;33m\u001b[0m\u001b[1;33m\u001b[0m\u001b[0m\n",
      "\u001b[1;31mImportError\u001b[0m: cannot import name 'Imputer' from 'sklearn.preprocessing' (C:\\Users\\Public\\anaconda3\\lib\\site-packages\\sklearn\\preprocessing\\__init__.py)"
     ]
    }
   ],
   "source": [
    "#if there were the issues like MISSING Values\n",
    "# Mean_imputation\n",
    "from sklearn.preprocessing import Imputer\n",
    "mean_imputer = imputer(missing_values=np.NaN,strategy='mean',axis=1)\n",
    "mean_imputer = mean_imputer.fit(x)\n",
    "imputed_x = mean_imputer.transform(x.values)\n",
    "x=pd.DataFrame(data=imputed_x,columns=cols)\n",
    "x"
   ]
  },
  {
   "cell_type": "code",
   "execution_count": null,
   "id": "12b8b20b",
   "metadata": {},
   "outputs": [],
   "source": []
  }
 ],
 "metadata": {
  "kernelspec": {
   "display_name": "Python 3 (ipykernel)",
   "language": "python",
   "name": "python3"
  },
  "language_info": {
   "codemirror_mode": {
    "name": "ipython",
    "version": 3
   },
   "file_extension": ".py",
   "mimetype": "text/x-python",
   "name": "python",
   "nbconvert_exporter": "python",
   "pygments_lexer": "ipython3",
   "version": "3.9.7"
  }
 },
 "nbformat": 4,
 "nbformat_minor": 5
}
