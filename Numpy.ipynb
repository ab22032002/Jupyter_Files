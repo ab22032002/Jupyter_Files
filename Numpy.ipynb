{
 "cells": [
  {
   "cell_type": "code",
   "execution_count": 1,
   "id": "d52a04cc",
   "metadata": {},
   "outputs": [
    {
     "data": {
      "text/plain": [
       "[10, 23, 32, 32, 3, 32, 3, 22323, 23]"
      ]
     },
     "execution_count": 1,
     "metadata": {},
     "output_type": "execute_result"
    }
   ],
   "source": [
    "array = [10,23,32,32,3,32,3,22323,23]\n",
    "array\n"
   ]
  },
  {
   "cell_type": "code",
   "execution_count": 4,
   "id": "64e82aef",
   "metadata": {},
   "outputs": [
    {
     "data": {
      "text/plain": [
       "array([   10,    23,    32,    32,     3,    32,     3, 22323,    23])"
      ]
     },
     "execution_count": 4,
     "metadata": {},
     "output_type": "execute_result"
    }
   ],
   "source": [
    "import numpy as np\n",
    "# converting a list as numpy array \n",
    "numpy_array1 = np.array(array)\n",
    "numpy_array1 \n",
    "# this can be  extracted from the o/p"
   ]
  },
  {
   "cell_type": "code",
   "execution_count": 6,
   "id": "3aa15539",
   "metadata": {},
   "outputs": [],
   "source": [
    "# numpy array can contain only one type of the element while the list in the python consists of the different types of data types ::::: "
   ]
  },
  {
   "cell_type": "code",
   "execution_count": 12,
   "id": "cba90415",
   "metadata": {},
   "outputs": [],
   "source": [
    "list_x = list(range(1000000))\n",
    "list_y = list(range(1000000))\n",
    "array_x= np.array(list_x)\n",
    "array_y= np.array(list_y)\n",
    "def list_sum():\n",
    "    z=[] # a list to store the sum of list 1 and 2 \n",
    "    for i in range(len(list_x)):\n",
    "        z.append(list_x[i]+list_y[i])\n",
    "    return z\n"
   ]
  },
  {
   "cell_type": "code",
   "execution_count": 16,
   "id": "14b001e8",
   "metadata": {},
   "outputs": [],
   "source": [
    "def numpy_array_sum():\n",
    "    z= array_x+ array_y\n",
    "# print(z)\n",
    "numpy_array_sum()"
   ]
  },
  {
   "cell_type": "code",
   "execution_count": 23,
   "id": "2efd1375",
   "metadata": {},
   "outputs": [
    {
     "data": {
      "text/plain": [
       "[0, 2, 4, 6, 8, 10]"
      ]
     },
     "execution_count": 23,
     "metadata": {},
     "output_type": "execute_result"
    }
   ],
   "source": [
    "x=[]\n",
    "for i in range(11):\n",
    "    if i%2==0:\n",
    "        x.append(i)\n",
    "x\n",
    "# putting it to the np.array \n",
    "x_array= np.array(x)\n",
    "x_array"
   ]
  },
  {
   "cell_type": "code",
   "execution_count": 27,
   "id": "0e2636b0",
   "metadata": {},
   "outputs": [
    {
     "data": {
      "text/plain": [
       "array([0, 2, 4, 6, 8])"
      ]
     },
     "execution_count": 27,
     "metadata": {},
     "output_type": "execute_result"
    }
   ],
   "source": [
    "#  making directly form the numpy \n",
    "x12=np.arange(0,10,2)\n",
    "x12"
   ]
  },
  {
   "cell_type": "code",
   "execution_count": 29,
   "id": "337592a9",
   "metadata": {},
   "outputs": [
    {
     "data": {
      "text/plain": [
       "array([1, 3, 5, 7, 9])"
      ]
     },
     "execution_count": 29,
     "metadata": {},
     "output_type": "execute_result"
    }
   ],
   "source": [
    "# selecting all the odds is to easy \n",
    "x11= np.arange(1,10,2)\n",
    "x11"
   ]
  },
  {
   "cell_type": "code",
   "execution_count": 30,
   "id": "d3e249a6",
   "metadata": {},
   "outputs": [
    {
     "data": {
      "text/plain": [
       "array([[1, 2, 3],\n",
       "       [4, 5, 6],\n",
       "       [7, 8, 9]])"
      ]
     },
     "execution_count": 30,
     "metadata": {},
     "output_type": "execute_result"
    }
   ],
   "source": [
    "arr= np.array([[1,2,3],[4,5,6],[7,8,9]])\n",
    "arr"
   ]
  },
  {
   "cell_type": "code",
   "execution_count": 31,
   "id": "65c9c6b3",
   "metadata": {},
   "outputs": [
    {
     "data": {
      "text/plain": [
       "9"
      ]
     },
     "execution_count": 31,
     "metadata": {},
     "output_type": "execute_result"
    }
   ],
   "source": [
    "arr.size"
   ]
  },
  {
   "cell_type": "code",
   "execution_count": 32,
   "id": "7419be9d",
   "metadata": {},
   "outputs": [
    {
     "data": {
      "text/plain": [
       "dtype('int32')"
      ]
     },
     "execution_count": 32,
     "metadata": {},
     "output_type": "execute_result"
    }
   ],
   "source": [
    "arr.dtype"
   ]
  },
  {
   "cell_type": "code",
   "execution_count": 33,
   "id": "355cf652",
   "metadata": {},
   "outputs": [
    {
     "data": {
      "text/plain": [
       "(3, 3)"
      ]
     },
     "execution_count": 33,
     "metadata": {},
     "output_type": "execute_result"
    }
   ],
   "source": [
    "arr.shape"
   ]
  },
  {
   "cell_type": "code",
   "execution_count": 34,
   "id": "d880dc0e",
   "metadata": {},
   "outputs": [
    {
     "data": {
      "text/plain": [
       "2"
      ]
     },
     "execution_count": 34,
     "metadata": {},
     "output_type": "execute_result"
    }
   ],
   "source": [
    "# arr.ndim for the number of dimensions \n",
    "arr.ndim"
   ]
  },
  {
   "cell_type": "code",
   "execution_count": 35,
   "id": "8f3424dc",
   "metadata": {},
   "outputs": [
    {
     "data": {
      "text/plain": [
       "numpy.ndarray"
      ]
     },
     "execution_count": 35,
     "metadata": {},
     "output_type": "execute_result"
    }
   ],
   "source": [
    "type(arr)"
   ]
  },
  {
   "cell_type": "code",
   "execution_count": 37,
   "id": "dfcc24fe",
   "metadata": {},
   "outputs": [
    {
     "data": {
      "text/plain": [
       "array([0, 1, 2, 3, 4, 5, 6, 7, 8, 9])"
      ]
     },
     "execution_count": 37,
     "metadata": {},
     "output_type": "execute_result"
    }
   ],
   "source": [
    "# dtype method is not supported by the lists in the python \n",
    "x1=np.arange(10)\n",
    "x1"
   ]
  },
  {
   "cell_type": "code",
   "execution_count": 39,
   "id": "45cd8c61",
   "metadata": {},
   "outputs": [
    {
     "data": {
      "text/plain": [
       "array([5, 6, 7, 8, 9])"
      ]
     },
     "execution_count": 39,
     "metadata": {},
     "output_type": "execute_result"
    }
   ],
   "source": [
    "# the higher limit is excluded out of the array\n",
    "x1=np.arange(5,10)\n",
    "x1"
   ]
  },
  {
   "cell_type": "code",
   "execution_count": 40,
   "id": "41bcf901",
   "metadata": {},
   "outputs": [
    {
     "data": {
      "text/plain": [
       "array([10, 13, 16, 19])"
      ]
     },
     "execution_count": 40,
     "metadata": {},
     "output_type": "execute_result"
    }
   ],
   "source": [
    "x1=np.arange(10,20,3)\n",
    "x1"
   ]
  },
  {
   "cell_type": "code",
   "execution_count": 42,
   "id": "b87002d2",
   "metadata": {},
   "outputs": [
    {
     "data": {
      "text/plain": [
       "array([0., 0., 0., 0., 0.])"
      ]
     },
     "execution_count": 42,
     "metadata": {},
     "output_type": "execute_result"
    }
   ],
   "source": [
    "#  using the zeroes \n",
    "x2 = np.zeros(5)\n",
    "x2"
   ]
  },
  {
   "cell_type": "code",
   "execution_count": 46,
   "id": "5f3eb1fb",
   "metadata": {},
   "outputs": [
    {
     "data": {
      "text/plain": [
       "array([1., 1., 1., 1.])"
      ]
     },
     "execution_count": 46,
     "metadata": {},
     "output_type": "execute_result"
    }
   ],
   "source": [
    "x2=np.ones(4)\n",
    "x2"
   ]
  },
  {
   "cell_type": "code",
   "execution_count": 49,
   "id": "ddf01d70",
   "metadata": {},
   "outputs": [
    {
     "data": {
      "text/plain": [
       "array([1.        , 1.02040816, 1.04081633, 1.06122449, 1.08163265,\n",
       "       1.10204082, 1.12244898, 1.14285714, 1.16326531, 1.18367347,\n",
       "       1.20408163, 1.2244898 , 1.24489796, 1.26530612, 1.28571429,\n",
       "       1.30612245, 1.32653061, 1.34693878, 1.36734694, 1.3877551 ,\n",
       "       1.40816327, 1.42857143, 1.44897959, 1.46938776, 1.48979592,\n",
       "       1.51020408, 1.53061224, 1.55102041, 1.57142857, 1.59183673,\n",
       "       1.6122449 , 1.63265306, 1.65306122, 1.67346939, 1.69387755,\n",
       "       1.71428571, 1.73469388, 1.75510204, 1.7755102 , 1.79591837,\n",
       "       1.81632653, 1.83673469, 1.85714286, 1.87755102, 1.89795918,\n",
       "       1.91836735, 1.93877551, 1.95918367, 1.97959184, 2.        ])"
      ]
     },
     "execution_count": 49,
     "metadata": {},
     "output_type": "execute_result"
    }
   ],
   "source": [
    "# linespace() generates the values equally spaaced\n",
    "# num is the number of values you want to generate \n",
    "# bydefault it is set to be 50 \n",
    "x2= np.linspace(start =5,stop=10,num=5)\n",
    "x2\n",
    "x2= np.linspace(start=1,stop=2)\n",
    "x2"
   ]
  },
  {
   "cell_type": "code",
   "execution_count": 50,
   "id": "e6f74fc3",
   "metadata": {},
   "outputs": [
    {
     "data": {
      "text/plain": [
       "array([17.        , 17.28571429, 17.57142857, 17.85714286, 18.14285714,\n",
       "       18.42857143, 18.71428571, 19.        , 19.28571429, 19.57142857,\n",
       "       19.85714286, 20.14285714, 20.42857143, 20.71428571, 21.        ,\n",
       "       21.28571429, 21.57142857, 21.85714286, 22.14285714, 22.42857143,\n",
       "       22.71428571, 23.        , 23.28571429, 23.57142857, 23.85714286,\n",
       "       24.14285714, 24.42857143, 24.71428571, 25.        , 25.28571429,\n",
       "       25.57142857, 25.85714286, 26.14285714, 26.42857143, 26.71428571,\n",
       "       27.        , 27.28571429, 27.57142857, 27.85714286, 28.14285714,\n",
       "       28.42857143, 28.71428571, 29.        , 29.28571429, 29.57142857,\n",
       "       29.85714286, 30.14285714, 30.42857143, 30.71428571, 31.        ])"
      ]
     },
     "execution_count": 50,
     "metadata": {},
     "output_type": "execute_result"
    }
   ],
   "source": [
    "x3= np.linspace(start=17,stop=31)\n",
    "x3"
   ]
  },
  {
   "cell_type": "code",
   "execution_count": 52,
   "id": "f398b5b2",
   "metadata": {},
   "outputs": [
    {
     "data": {
      "text/plain": [
       "array([0., 0., 0., 0., 0., 0., 0., 0., 0., 0.])"
      ]
     },
     "execution_count": 52,
     "metadata": {},
     "output_type": "execute_result"
    }
   ],
   "source": [
    "k=np.zeros(10)\n",
    "k"
   ]
  },
  {
   "cell_type": "code",
   "execution_count": 53,
   "id": "1ebd1979",
   "metadata": {},
   "outputs": [
    {
     "data": {
      "text/plain": [
       "1"
      ]
     },
     "execution_count": 53,
     "metadata": {},
     "output_type": "execute_result"
    }
   ],
   "source": [
    "k.ndim"
   ]
  },
  {
   "cell_type": "code",
   "execution_count": 61,
   "id": "e6e2e567",
   "metadata": {},
   "outputs": [
    {
     "data": {
      "text/plain": [
       "array([ 0.,  0.,  0.,  0.,  0.,  0.,  0.,  0.,  0.,  0., 34., 34., 34.,\n",
       "       34., 34., 34.])"
      ]
     },
     "execution_count": 61,
     "metadata": {},
     "output_type": "execute_result"
    }
   ],
   "source": [
    "# it have appended four times as it seems to be we have actually declared and used it more times than we did \n",
    "k=np.append(k,34)\n",
    "k"
   ]
  },
  {
   "cell_type": "code",
   "execution_count": 63,
   "id": "7cca9c67",
   "metadata": {},
   "outputs": [],
   "source": [
    "# k.append(20) not supported by the numpy array "
   ]
  },
  {
   "cell_type": "code",
   "execution_count": 64,
   "id": "29a8d527",
   "metadata": {},
   "outputs": [
    {
     "data": {
      "text/plain": [
       "array([ 0.,  0.,  0.,  0.,  0.,  0.,  0.,  0.,  0.,  0., 34., 34., 34.,\n",
       "       34., 34.])"
      ]
     },
     "execution_count": 64,
     "metadata": {},
     "output_type": "execute_result"
    }
   ],
   "source": [
    "#  deletin  the element from the specific pos \n",
    "np.delete(k,10)"
   ]
  },
  {
   "cell_type": "code",
   "execution_count": 66,
   "id": "f046a094",
   "metadata": {},
   "outputs": [
    {
     "data": {
      "text/plain": [
       "array([ 0.,  0.,  0.,  0.,  0.,  0.,  0.,  0.,  0.,  0., 34., 34., 34.,\n",
       "       34., 34., 34.])"
      ]
     },
     "execution_count": 66,
     "metadata": {},
     "output_type": "execute_result"
    }
   ],
   "source": [
    "np.sort(k)"
   ]
  },
  {
   "cell_type": "code",
   "execution_count": 69,
   "id": "21a18ee5",
   "metadata": {},
   "outputs": [
    {
     "data": {
      "text/plain": [
       "array([   0.,    0.,    0.,    0.,    0.,    0.,    0.,    0.,    0.,\n",
       "          0.,   34.,   34.,   34.,   34.,   34.,   34., -909.])"
      ]
     },
     "execution_count": 69,
     "metadata": {},
     "output_type": "execute_result"
    }
   ],
   "source": [
    "k=np.append(k,-909)\n",
    "k"
   ]
  },
  {
   "cell_type": "code",
   "execution_count": 70,
   "id": "ced17e05",
   "metadata": {},
   "outputs": [
    {
     "data": {
      "text/plain": [
       "array([-909.,    0.,    0.,    0.,    0.,    0.,    0.,    0.,    0.,\n",
       "          0.,    0.,   34.,   34.,   34.,   34.,   34.,   34.])"
      ]
     },
     "execution_count": 70,
     "metadata": {},
     "output_type": "execute_result"
    }
   ],
   "source": [
    "np.sort(k)"
   ]
  },
  {
   "cell_type": "code",
   "execution_count": 71,
   "id": "f94c1e1b",
   "metadata": {},
   "outputs": [],
   "source": [
    "# Reshaping the array \n"
   ]
  },
  {
   "cell_type": "code",
   "execution_count": 72,
   "id": "fe212a2e",
   "metadata": {},
   "outputs": [
    {
     "data": {
      "text/plain": [
       "array([ 0,  1,  2,  3,  4,  5,  6,  7,  8,  9, 10, 11, 12, 13, 14, 15, 16,\n",
       "       17, 18, 19, 20, 21, 22, 23])"
      ]
     },
     "execution_count": 72,
     "metadata": {},
     "output_type": "execute_result"
    }
   ],
   "source": [
    "x4= np.arange(24)\n",
    "x4"
   ]
  },
  {
   "cell_type": "code",
   "execution_count": 75,
   "id": "f62e63b4",
   "metadata": {},
   "outputs": [
    {
     "data": {
      "text/plain": [
       "array([[ 0,  1,  2],\n",
       "       [ 3,  4,  5],\n",
       "       [ 6,  7,  8],\n",
       "       [ 9, 10, 11],\n",
       "       [12, 13, 14],\n",
       "       [15, 16, 17],\n",
       "       [18, 19, 20],\n",
       "       [21, 22, 23]])"
      ]
     },
     "execution_count": 75,
     "metadata": {},
     "output_type": "execute_result"
    }
   ],
   "source": [
    "x4=np.reshape(x4,(8,3))\n",
    "x4"
   ]
  },
  {
   "cell_type": "code",
   "execution_count": 76,
   "id": "cab2e9d4",
   "metadata": {},
   "outputs": [
    {
     "data": {
      "text/plain": [
       "array([[ 0,  1,  2,  3,  4,  5],\n",
       "       [ 6,  7,  8,  9, 10, 11],\n",
       "       [12, 13, 14, 15, 16, 17],\n",
       "       [18, 19, 20, 21, 22, 23]])"
      ]
     },
     "execution_count": 76,
     "metadata": {},
     "output_type": "execute_result"
    }
   ],
   "source": [
    "x4=np.reshape(x4,(4,6))\n",
    "x4"
   ]
  },
  {
   "cell_type": "code",
   "execution_count": 78,
   "id": "e8d1e957",
   "metadata": {},
   "outputs": [
    {
     "data": {
      "text/plain": [
       "6"
      ]
     },
     "execution_count": 78,
     "metadata": {},
     "output_type": "execute_result"
    }
   ],
   "source": [
    "# Python list can also be reshaped \n",
    "x5=[122,232,3,24,43,4,34,3,43,3,2,43,34,3,34,3,3,4]\n",
    "x5.count(3)"
   ]
  },
  {
   "cell_type": "code",
   "execution_count": 81,
   "id": "0dc81fc2",
   "metadata": {},
   "outputs": [
    {
     "data": {
      "text/plain": [
       "array([[122, 232,   3,  24,  43,   4],\n",
       "       [ 34,   3,  43,   3,   2,  43],\n",
       "       [ 34,   3,  34,   3,   3,   4]])"
      ]
     },
     "execution_count": 81,
     "metadata": {},
     "output_type": "execute_result"
    }
   ],
   "source": [
    "x5=np.reshape(x5,(3,6))\n",
    "x5"
   ]
  },
  {
   "cell_type": "code",
   "execution_count": 82,
   "id": "b34c8d32",
   "metadata": {},
   "outputs": [
    {
     "data": {
      "text/plain": [
       "array([[122, 232,   3],\n",
       "       [ 24,  43,   4],\n",
       "       [ 34,   3,  43],\n",
       "       [  3,   2,  43],\n",
       "       [ 34,   3,  34],\n",
       "       [  3,   3,   4]])"
      ]
     },
     "execution_count": 82,
     "metadata": {},
     "output_type": "execute_result"
    }
   ],
   "source": [
    "#  the list must be of the type npArray\n",
    "x5.reshape(6,3)"
   ]
  },
  {
   "cell_type": "code",
   "execution_count": 83,
   "id": "a57fc6f2",
   "metadata": {},
   "outputs": [
    {
     "data": {
      "text/plain": [
       "array([ 2,  3,  7,  8, 10, 12, 13, 22, 23, 25, 41, 46, 54])"
      ]
     },
     "execution_count": 83,
     "metadata": {},
     "output_type": "execute_result"
    }
   ],
   "source": [
    "L = [10, 2, 7, 8, 3, 22, 54, 12, 13, 46, 23, 25, 41]\n",
    "L=np.array(L)\n",
    "L=np.sort(L)\n",
    "L"
   ]
  },
  {
   "cell_type": "code",
   "execution_count": 84,
   "id": "85ff7689",
   "metadata": {},
   "outputs": [
    {
     "data": {
      "text/plain": [
       "numpy.ndarray"
      ]
     },
     "execution_count": 84,
     "metadata": {},
     "output_type": "execute_result"
    }
   ],
   "source": [
    "type(L)"
   ]
  },
  {
   "cell_type": "code",
   "execution_count": 85,
   "id": "39f2cc68",
   "metadata": {},
   "outputs": [
    {
     "data": {
      "text/plain": [
       "array([ 2,  3,  7,  8, 10, 13, 22, 23, 25, 41, 46, 54])"
      ]
     },
     "execution_count": 85,
     "metadata": {},
     "output_type": "execute_result"
    }
   ],
   "source": [
    "L=np.delete(L,5)\n",
    "L"
   ]
  },
  {
   "cell_type": "code",
   "execution_count": 86,
   "id": "839ca5af",
   "metadata": {},
   "outputs": [
    {
     "data": {
      "text/plain": [
       "array([[122, 232,   3],\n",
       "       [ 24,  43,   4],\n",
       "       [ 34,   3,  43],\n",
       "       [  3,   2,  43],\n",
       "       [ 34,   3,  34],\n",
       "       [  3,   3,   4]])"
      ]
     },
     "execution_count": 86,
     "metadata": {},
     "output_type": "execute_result"
    }
   ],
   "source": [
    "x6=x5.reshape(6,3)\n",
    "x6"
   ]
  },
  {
   "cell_type": "code",
   "execution_count": 87,
   "id": "bedd7504",
   "metadata": {},
   "outputs": [
    {
     "data": {
      "text/plain": [
       "array([3, 3, 4])"
      ]
     },
     "execution_count": 87,
     "metadata": {},
     "output_type": "execute_result"
    }
   ],
   "source": [
    "x6[5]"
   ]
  },
  {
   "cell_type": "code",
   "execution_count": 88,
   "id": "0e5ce15a",
   "metadata": {},
   "outputs": [
    {
     "data": {
      "text/plain": [
       "43"
      ]
     },
     "execution_count": 88,
     "metadata": {},
     "output_type": "execute_result"
    }
   ],
   "source": [
    "x6[3][2]"
   ]
  },
  {
   "cell_type": "code",
   "execution_count": 89,
   "id": "c1f8c3fe",
   "metadata": {},
   "outputs": [
    {
     "data": {
      "text/plain": [
       "43"
      ]
     },
     "execution_count": 89,
     "metadata": {},
     "output_type": "execute_result"
    }
   ],
   "source": [
    "x6[3,2]"
   ]
  },
  {
   "cell_type": "code",
   "execution_count": 90,
   "id": "f313f873",
   "metadata": {},
   "outputs": [
    {
     "data": {
      "text/plain": [
       "array([122, 232])"
      ]
     },
     "execution_count": 90,
     "metadata": {},
     "output_type": "execute_result"
    }
   ],
   "source": [
    "x6[0,0:2]"
   ]
  },
  {
   "cell_type": "code",
   "execution_count": 91,
   "id": "5bd6de13",
   "metadata": {},
   "outputs": [
    {
     "data": {
      "text/plain": [
       "array([34,  3, 34])"
      ]
     },
     "execution_count": 91,
     "metadata": {},
     "output_type": "execute_result"
    }
   ],
   "source": [
    "x6[4,:]\n",
    "# bydefault it takes the first and the last value "
   ]
  },
  {
   "cell_type": "code",
   "execution_count": 92,
   "id": "9a972d58",
   "metadata": {},
   "outputs": [
    {
     "data": {
      "text/plain": [
       "array([[122, 232,   3],\n",
       "       [ 24,  43,   4],\n",
       "       [ 34,   3,  43],\n",
       "       [  3,   2,  43],\n",
       "       [ 34,   3,  34],\n",
       "       [  3,   3,   4]])"
      ]
     },
     "execution_count": 92,
     "metadata": {},
     "output_type": "execute_result"
    }
   ],
   "source": [
    "x6[:,:]"
   ]
  },
  {
   "cell_type": "code",
   "execution_count": 94,
   "id": "45f47ca8",
   "metadata": {},
   "outputs": [
    {
     "data": {
      "text/plain": [
       "array([[43,  4],\n",
       "       [ 3, 43],\n",
       "       [ 2, 43]])"
      ]
     },
     "execution_count": 94,
     "metadata": {},
     "output_type": "execute_result"
    }
   ],
   "source": [
    "x6[1:4,1:]"
   ]
  },
  {
   "cell_type": "code",
   "execution_count": 96,
   "id": "2b38b180",
   "metadata": {},
   "outputs": [
    {
     "data": {
      "text/plain": [
       "array([[232],\n",
       "       [ 43],\n",
       "       [  3],\n",
       "       [  2],\n",
       "       [  3],\n",
       "       [  3]])"
      ]
     },
     "execution_count": 96,
     "metadata": {},
     "output_type": "execute_result"
    }
   ],
   "source": [
    "x6[:,1:2]"
   ]
  },
  {
   "cell_type": "code",
   "execution_count": 97,
   "id": "72c6e633",
   "metadata": {},
   "outputs": [
    {
     "data": {
      "text/plain": [
       "array([3, 3, 4])"
      ]
     },
     "execution_count": 97,
     "metadata": {},
     "output_type": "execute_result"
    }
   ],
   "source": [
    "# negetive indexing \n",
    "x6[-1]"
   ]
  },
  {
   "cell_type": "code",
   "execution_count": 101,
   "id": "39336c38",
   "metadata": {},
   "outputs": [
    {
     "data": {
      "text/plain": [
       "array([[ 3, 43],\n",
       "       [ 2, 43]])"
      ]
     },
     "execution_count": 101,
     "metadata": {},
     "output_type": "execute_result"
    }
   ],
   "source": [
    "x6[-4:-2,-2:]"
   ]
  },
  {
   "cell_type": "code",
   "execution_count": 103,
   "id": "4c2cb3a0",
   "metadata": {},
   "outputs": [
    {
     "data": {
      "text/plain": [
       "array([[122, 232,   3],\n",
       "       [ 34,   3,  43],\n",
       "       [ 34,   3,  34]])"
      ]
     },
     "execution_count": 103,
     "metadata": {},
     "output_type": "execute_result"
    }
   ],
   "source": [
    "# striding \n",
    "x6[0::2]\n",
    "# this will print the every secondth row from the beginning "
   ]
  },
  {
   "cell_type": "code",
   "execution_count": 105,
   "id": "0313ddc7",
   "metadata": {},
   "outputs": [
    {
     "data": {
      "text/plain": [
       "array([ 0,  1,  2,  3,  4,  5,  6,  7,  8,  9, 10, 11, 12, 13, 14, 15, 16,\n",
       "       17, 18, 19, 20, 21, 22, 23, 24])"
      ]
     },
     "execution_count": 105,
     "metadata": {},
     "output_type": "execute_result"
    }
   ],
   "source": [
    "x7=np.arange(25)\n",
    "x7"
   ]
  },
  {
   "cell_type": "code",
   "execution_count": 107,
   "id": "f04666b1",
   "metadata": {},
   "outputs": [
    {
     "data": {
      "text/plain": [
       "array([[ 0,  1,  2,  3,  4],\n",
       "       [ 5,  6,  7,  8,  9],\n",
       "       [10, 11, 12, 13, 14],\n",
       "       [15, 16, 17, 18, 19],\n",
       "       [20, 21, 22, 23, 24]])"
      ]
     },
     "execution_count": 107,
     "metadata": {},
     "output_type": "execute_result"
    }
   ],
   "source": [
    "x7=np.reshape(x7,(5,5))\n",
    "x7"
   ]
  },
  {
   "cell_type": "code",
   "execution_count": 112,
   "id": "c857f970",
   "metadata": {},
   "outputs": [
    {
     "data": {
      "text/plain": [
       "array([[ 5,  7,  9],\n",
       "       [15, 17, 19]])"
      ]
     },
     "execution_count": 112,
     "metadata": {},
     "output_type": "execute_result"
    }
   ],
   "source": [
    "x7[1::2,0::2]"
   ]
  },
  {
   "cell_type": "code",
   "execution_count": 117,
   "id": "d45d68bb",
   "metadata": {},
   "outputs": [],
   "source": [
    "# addition within the space given \n",
    "xx=np.arange(10)\n",
    "yy=np.arange(10)\n",
    "zz=[xx + yy for i in range(len(xx))]"
   ]
  },
  {
   "cell_type": "code",
   "execution_count": 120,
   "id": "dd36c883",
   "metadata": {},
   "outputs": [
    {
     "data": {
      "text/plain": [
       "array([ 0,  1,  2,  3,  4,  5,  6,  7,  8,  9, 10, 11, 12, 13, 14, 15, 16,\n",
       "       17, 18, 19, 20, 21, 22, 23, 24, 23, 25])"
      ]
     },
     "execution_count": 120,
     "metadata": {},
     "output_type": "execute_result"
    }
   ],
   "source": [
    "x7=np.append(x7,25)\n",
    "x7"
   ]
  },
  {
   "cell_type": "code",
   "execution_count": 121,
   "id": "f1a6f1a8",
   "metadata": {},
   "outputs": [
    {
     "data": {
      "text/plain": [
       "array([[[ 0,  1,  2],\n",
       "        [ 3,  4,  5],\n",
       "        [ 6,  7,  8]],\n",
       "\n",
       "       [[ 9, 10, 11],\n",
       "        [12, 13, 14],\n",
       "        [15, 16, 17]],\n",
       "\n",
       "       [[18, 19, 20],\n",
       "        [21, 22, 23],\n",
       "        [24, 23, 25]]])"
      ]
     },
     "execution_count": 121,
     "metadata": {},
     "output_type": "execute_result"
    }
   ],
   "source": [
    "# creating a 3d array \n",
    "x7=np.reshape(x7,(3,3,3))\n",
    "x7"
   ]
  },
  {
   "cell_type": "code",
   "execution_count": 123,
   "id": "0d114ae5",
   "metadata": {},
   "outputs": [
    {
     "data": {
      "text/plain": [
       "array([[3, 3, 3, 3, 3, 3],\n",
       "       [3, 3, 3, 3, 3, 3],\n",
       "       [3, 3, 3, 3, 3, 3],\n",
       "       [3, 3, 3, 3, 3, 3],\n",
       "       [3, 3, 3, 3, 3, 3]])"
      ]
     },
     "execution_count": 123,
     "metadata": {},
     "output_type": "execute_result"
    }
   ],
   "source": [
    "x8=np.full((5,6),3)\n",
    "x8"
   ]
  },
  {
   "cell_type": "code",
   "execution_count": 131,
   "id": "1eb96a29",
   "metadata": {},
   "outputs": [],
   "source": [
    "# flatten() and ravel()"
   ]
  },
  {
   "cell_type": "code",
   "execution_count": 136,
   "id": "9445f4e4",
   "metadata": {},
   "outputs": [
    {
     "data": {
      "text/plain": [
       "array([0, 1, 2, 3, 4, 5, 6, 7, 8, 9])"
      ]
     },
     "execution_count": 136,
     "metadata": {},
     "output_type": "execute_result"
    }
   ],
   "source": [
    "x9=np.arange(10)\n",
    "x9"
   ]
  },
  {
   "cell_type": "code",
   "execution_count": 137,
   "id": "e372fe75",
   "metadata": {},
   "outputs": [
    {
     "data": {
      "text/plain": [
       "array([ 0.        ,  0.84147098,  0.90929743,  0.14112001, -0.7568025 ,\n",
       "       -0.95892427, -0.2794155 ,  0.6569866 ,  0.98935825,  0.41211849])"
      ]
     },
     "execution_count": 137,
     "metadata": {},
     "output_type": "execute_result"
    }
   ],
   "source": [
    "np.sin(x9)\n",
    "# array must be one dimension "
   ]
  },
  {
   "cell_type": "code",
   "execution_count": 138,
   "id": "7f572afc",
   "metadata": {},
   "outputs": [
    {
     "data": {
      "text/plain": [
       "array([0.        , 1.        , 1.41421356, 1.73205081, 2.        ,\n",
       "       2.23606798, 2.44948974, 2.64575131, 2.82842712, 3.        ])"
      ]
     },
     "execution_count": 138,
     "metadata": {},
     "output_type": "execute_result"
    }
   ],
   "source": [
    "np.sqrt(x9)"
   ]
  },
  {
   "cell_type": "code",
   "execution_count": 139,
   "id": "6d3b34be",
   "metadata": {},
   "outputs": [
    {
     "data": {
      "text/plain": [
       "array([ True, False, False, False,  True,  True,  True,  True,  True,\n",
       "        True])"
      ]
     },
     "execution_count": 139,
     "metadata": {},
     "output_type": "execute_result"
    }
   ],
   "source": [
    "np.logical_or(x9<1,x9>3)"
   ]
  },
  {
   "cell_type": "code",
   "execution_count": 140,
   "id": "466cc95c",
   "metadata": {},
   "outputs": [
    {
     "data": {
      "text/plain": [
       "array([False, False, False, False, False, False, False, False, False,\n",
       "       False])"
      ]
     },
     "execution_count": 140,
     "metadata": {},
     "output_type": "execute_result"
    }
   ],
   "source": [
    "np.logical_and(x9<1,x9>3)"
   ]
  },
  {
   "cell_type": "code",
   "execution_count": 141,
   "id": "bd00d842",
   "metadata": {},
   "outputs": [
    {
     "data": {
      "text/plain": [
       "False"
      ]
     },
     "execution_count": 141,
     "metadata": {},
     "output_type": "execute_result"
    }
   ],
   "source": [
    "np.array_equal(x9,x8)"
   ]
  },
  {
   "cell_type": "code",
   "execution_count": null,
   "id": "a74a5d29",
   "metadata": {},
   "outputs": [],
   "source": [
    "# https://github.com/dphi-official/Data_Science_Bootcamp/tree/master/Week0\n",
    "# https://github.com/dphi-official/Data_Science_Bootcamp/blob/master/Week0/Numpy_Exercises_Solutions.ipynb"
   ]
  }
 ],
 "metadata": {
  "kernelspec": {
   "display_name": "Python 3 (ipykernel)",
   "language": "python",
   "name": "python3"
  },
  "language_info": {
   "codemirror_mode": {
    "name": "ipython",
    "version": 3
   },
   "file_extension": ".py",
   "mimetype": "text/x-python",
   "name": "python",
   "nbconvert_exporter": "python",
   "pygments_lexer": "ipython3",
   "version": "3.9.7"
  }
 },
 "nbformat": 4,
 "nbformat_minor": 5
}
