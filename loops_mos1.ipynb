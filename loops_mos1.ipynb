{
 "cells": [
  {
   "cell_type": "code",
   "execution_count": null,
   "id": "e4a6ca54",
   "metadata": {},
   "outputs": [],
   "source": [
    "# dealinf with while loop in Py\n",
    "i=1\n",
    "while i<=5:\n",
    "    print(i)\n",
    "    i=i+1\n",
    "print(\"done\")"
   ]
  },
  {
   "cell_type": "code",
   "execution_count": null,
   "id": "bbce0c1f",
   "metadata": {},
   "outputs": [],
   "source": [
    "# GUessing GAME \n",
    "secret_num= 9\n",
    "# i=0\n",
    "guess_count=0\n",
    "guess_limit=3\n",
    "while guess_count<guess_limit:\n",
    "    guess=int(input(\"Guess:\"))\n",
    "    guess_count+=1\n",
    "    if(guess==secret_num):\n",
    "        print(\"you got :\")\n",
    "        break\n",
    "    if(guess_count==guess_limit):\n",
    "        print(\"OOPs you can do it try again  once\")\n",
    "        continue\n",
    "    print(\"sorry You WOn't Try another number\")\n",
    "    \n",
    "    "
   ]
  },
  {
   "cell_type": "code",
   "execution_count": null,
   "id": "b347ebb1",
   "metadata": {},
   "outputs": [],
   "source": [
    "# Commanding it to perform :\n",
    "help='''\n",
    "start: this is to start your automated system\n",
    "quit :to quit your system\n",
    "exit : to close the program \n",
    "'''\n",
    "ex_var = 'EXIT'\n",
    "quit_var= 'QUIT'\n",
    "var=\"\"\n",
    "print(\"help\")\n",
    "while(var!= quit_var and var!= ex_var):\n",
    "    print('go with the flow')\n",
    "    var=input('enter your choice:')\n",
    "    var=var.upper()"
   ]
  },
  {
   "cell_type": "code",
   "execution_count": 3,
   "id": "5b0351b9",
   "metadata": {},
   "outputs": [
    {
     "name": "stdout",
     "output_type": "stream",
     "text": [
      ">stop\n",
      "car is already at rest:\n",
      ">stop\n",
      "car is already at rest:\n",
      ">stop\n",
      "car is already at rest:\n",
      ">stop\n",
      "car is already at rest:\n",
      ">quit\n"
     ]
    }
   ],
   "source": [
    "command=''\n",
    "started = False\n",
    "while True :\n",
    "    command=input(\">\").lower()\n",
    "    if command=='start':\n",
    "        if started:\n",
    "            print(\"car is already started\")\n",
    "        else:\n",
    "            started=True\n",
    "            print(\"car started>>>>>>>\")\n",
    "    elif command=='stop':\n",
    "        if not started:\n",
    "            print(\"car is already at rest:\")\n",
    "        else:\n",
    "            started=False\n",
    "            print(\"car Stopped\")\n",
    "#         print(\"car Stopped<<<<<<<<\")\n",
    "    elif command=='help':\n",
    "        print('''\n",
    "        start: to start the Car\n",
    "        stop: to stop the car\n",
    "        quit to quit the program ''')\n",
    "    elif command =='quit':\n",
    "        break   \n",
    "    else:\n",
    "        print(\"'i don't undestard'\")\n",
    "    "
   ]
  },
  {
   "cell_type": "code",
   "execution_count": 4,
   "id": "f7243c71",
   "metadata": {},
   "outputs": [
    {
     "name": "stdout",
     "output_type": "stream",
     "text": [
      "0\n",
      "1\n",
      "2\n",
      "3\n",
      "4\n",
      "5\n",
      "6\n",
      "7\n",
      "8\n",
      "9\n"
     ]
    }
   ],
   "source": [
    "# for  loops in python \n",
    "for i in range(10):\n",
    "    print(i)\n"
   ]
  },
  {
   "cell_type": "code",
   "execution_count": 5,
   "id": "ee02ef4a",
   "metadata": {},
   "outputs": [
    {
     "name": "stdout",
     "output_type": "stream",
     "text": [
      "5\n",
      "6\n",
      "7\n",
      "8\n",
      "9\n"
     ]
    }
   ],
   "source": [
    "for i in range(5,10):\n",
    "    print(i)\n"
   ]
  },
  {
   "cell_type": "code",
   "execution_count": 6,
   "id": "02f8ef25",
   "metadata": {},
   "outputs": [
    {
     "name": "stdout",
     "output_type": "stream",
     "text": [
      "1\n",
      "4\n",
      "7\n"
     ]
    }
   ],
   "source": [
    "for i in range(1,10,3):\n",
    "    print(i)\n",
    "# 3 as gap here "
   ]
  },
  {
   "cell_type": "code",
   "execution_count": 10,
   "id": "69fb1c4b",
   "metadata": {},
   "outputs": [
    {
     "name": "stdout",
     "output_type": "stream",
     "text": [
      "total price :60\n"
     ]
    }
   ],
   "source": [
    "prices=[10,20,30]\n",
    "price=0\n",
    "for i in prices:\n",
    "    price+=i\n",
    "print(f'total price :{price}')"
   ]
  },
  {
   "cell_type": "code",
   "execution_count": 11,
   "id": "0b3c53b5",
   "metadata": {},
   "outputs": [
    {
     "name": "stdout",
     "output_type": "stream",
     "text": [
      "x\n",
      "xxx\n",
      "xxxxxxxxxxxxxxxxxxxxxxx\n",
      "xxxxxxxxxxxxxxxxxxxxxxxxxxxxxxxxxxxxxxxxxxx\n",
      "xxxxxxxxxxxx\n"
     ]
    }
   ],
   "source": [
    "numbers=[1,3,23,43,12]\n",
    "for i in numbers:\n",
    "    print('x'*i)"
   ]
  },
  {
   "cell_type": "code",
   "execution_count": 12,
   "id": "b07ead24",
   "metadata": {},
   "outputs": [
    {
     "name": "stdout",
     "output_type": "stream",
     "text": [
      "345\n"
     ]
    }
   ],
   "source": [
    "#  max in an array \n",
    "ar=[102,323,3,43,4,3,5,-1233,43,44,35,3,3,43,345]\n",
    "max_=ar[0]\n",
    "for i in ar:\n",
    "    if i>max_:\n",
    "        max_=i\n",
    "print(max_)\n",
    "    "
   ]
  },
  {
   "cell_type": "code",
   "execution_count": 26,
   "id": "30a2b1e6",
   "metadata": {},
   "outputs": [
    {
     "data": {
      "text/plain": [
       "array([-1233,     3,     4,     5,    35,    43,    44,   102,   323,\n",
       "         345])"
      ]
     },
     "execution_count": 26,
     "metadata": {},
     "output_type": "execute_result"
    }
   ],
   "source": [
    "import numpy as np\n",
    "x=np.array(ar)\n",
    "np.sort(x)\n",
    "np.max(x)\n",
    "np.mean(x)\n",
    "np.sum(x)\n",
    "np.unique(ar)"
   ]
  },
  {
   "cell_type": "code",
   "execution_count": 28,
   "id": "9a0fbbf7",
   "metadata": {},
   "outputs": [
    {
     "name": "stdout",
     "output_type": "stream",
     "text": [
      "1:2:3\n"
     ]
    }
   ],
   "source": [
    "# using the toples :\n",
    "coordinates=(1,2,3)\n",
    "x,y,z=coordinates\n",
    "print(f'{x}:{y}:{z}')"
   ]
  },
  {
   "cell_type": "code",
   "execution_count": 30,
   "id": "55544ccf",
   "metadata": {},
   "outputs": [
    {
     "data": {
      "text/plain": [
       "{'name': 'john Doe', 'age': 20, 'birthdate': 'jan 20,2002'}"
      ]
     },
     "execution_count": 30,
     "metadata": {},
     "output_type": "execute_result"
    }
   ],
   "source": [
    "# dictionary \n",
    "di={\n",
    "    'name':\"john Doe\",\n",
    "     'age':20,\n",
    "    'birthdate':'jan 20,2002'\n",
    "}\n",
    "di"
   ]
  },
  {
   "cell_type": "code",
   "execution_count": 37,
   "id": "4d583bbc",
   "metadata": {},
   "outputs": [
    {
     "name": "stdout",
     "output_type": "stream",
     "text": [
      "phone>:10939\n",
      " one ! ! three ! \n"
     ]
    }
   ],
   "source": [
    "x= input('phone>:')\n",
    "phone ={\n",
    "    '1':'one',\n",
    "    '2':'two',\n",
    "    '3':'three',\n",
    "    '4':'four',\n",
    "    '5':'five'\n",
    "}\n",
    "output=\" \"\n",
    "for i in x:\n",
    "    output+=phone.get(i,\"!\")+' '\n",
    "print(output)\n"
   ]
  },
  {
   "cell_type": "code",
   "execution_count": 40,
   "id": "2939fba3",
   "metadata": {},
   "outputs": [
    {
     "name": "stdout",
     "output_type": "stream",
     "text": [
      "i like that :|\n",
      "i like that 😐😐 \n"
     ]
    }
   ],
   "source": [
    "# making the emoji translatter\n",
    "# 1st maKing a list of the string by using .split('delimeter')\n",
    "msg=input()\n",
    "words= msg.split(' ')\n",
    "emojis={\n",
    "    \":)\":\"😃😃\",\n",
    "    \":(\":\"🥲🥲\",\n",
    "    \":|\":\"😐😐\"\n",
    "}\n",
    "output=''\n",
    "for x in words:\n",
    "    output+=emojis.get(x,x)+' '\n",
    "print(output)"
   ]
  },
  {
   "cell_type": "code",
   "execution_count": 41,
   "id": "0d5bd990",
   "metadata": {},
   "outputs": [
    {
     "name": "stdout",
     "output_type": "stream",
     "text": [
      "str\n",
      "hi there how's you doin'\n",
      "this is ab from infinity Tech \n",
      "stop\n"
     ]
    }
   ],
   "source": [
    "def greet_user():\n",
    "    print(\"hi there how's you doin'\")\n",
    "    print(\"this is ab from infinity Tech \")\n",
    "print(\"str\")\n",
    "greet_user()\n",
    "print(\"stop\")\n"
   ]
  },
  {
   "cell_type": "code",
   "execution_count": 45,
   "id": "17207d45",
   "metadata": {},
   "outputs": [
    {
     "name": "stdout",
     "output_type": "stream",
     "text": [
      "str\n",
      "hi marry how's you doin'\n",
      "this is ab from infinity Tech \n",
      "hi admin how's you doin'\n",
      "this is ab from infinity Tech \n",
      "stop\n"
     ]
    }
   ],
   "source": [
    "def greet_user(name=\"admin\"):\n",
    "    print(f\"hi {name} how's you doin'\")\n",
    "    print(\"this is ab from infinity Tech \")\n",
    "print(\"str\")\n",
    "greet_user(\"marry\")\n",
    "greet_user()\n",
    "print(\"stop\")\n"
   ]
  },
  {
   "cell_type": "code",
   "execution_count": null,
   "id": "22015dac",
   "metadata": {},
   "outputs": [],
   "source": [
    "def \n",
    "words= msg.split(' ')\n",
    "emojis={\n",
    "    \":)\":\"😃😃\",\n",
    "    \":(\":\"🥲🥲\",\n",
    "    \":|\":\"😐😐\"\n",
    "}\n",
    "output=''\n",
    "for x in words:\n",
    "    output+=emojis.get(x,x)+' '\n",
    "print(output)\n",
    "msg=input()"
   ]
  },
  {
   "cell_type": "code",
   "execution_count": 47,
   "id": "a30dac26",
   "metadata": {},
   "outputs": [
    {
     "name": "stdout",
     "output_type": "stream",
     "text": [
      "age:0\n",
      "divide by zero check your division operations\n"
     ]
    }
   ],
   "source": [
    "#  exception handling:\n",
    "try:\n",
    "    age=int(input(\"age:\"))\n",
    "    income=100000\n",
    "    risk=income/age\n",
    "    print(age)\n",
    "except ValueError:\n",
    "    print(\"You might have entered different data type somewhere else:\")\n",
    "except ZeroDivisionError:\n",
    "    print(\"divide by zero check your division operations\")\n",
    "    "
   ]
  },
  {
   "cell_type": "code",
   "execution_count": null,
   "id": "81ef533d",
   "metadata": {},
   "outputs": [],
   "source": []
  },
  {
   "cell_type": "code",
   "execution_count": null,
   "id": "c719b3bd",
   "metadata": {},
   "outputs": [],
   "source": []
  },
  {
   "cell_type": "code",
   "execution_count": null,
   "id": "08869337",
   "metadata": {},
   "outputs": [],
   "source": []
  },
  {
   "cell_type": "code",
   "execution_count": null,
   "id": "8edf9454",
   "metadata": {},
   "outputs": [],
   "source": []
  },
  {
   "cell_type": "code",
   "execution_count": null,
   "id": "ad3aba2e",
   "metadata": {},
   "outputs": [],
   "source": []
  },
  {
   "cell_type": "code",
   "execution_count": null,
   "id": "83c6e885",
   "metadata": {},
   "outputs": [],
   "source": []
  },
  {
   "cell_type": "code",
   "execution_count": null,
   "id": "6d1a305f",
   "metadata": {},
   "outputs": [],
   "source": []
  },
  {
   "cell_type": "code",
   "execution_count": null,
   "id": "563ac0b0",
   "metadata": {},
   "outputs": [],
   "source": []
  },
  {
   "cell_type": "code",
   "execution_count": null,
   "id": "4a09cf30",
   "metadata": {},
   "outputs": [],
   "source": []
  },
  {
   "cell_type": "code",
   "execution_count": null,
   "id": "0f485454",
   "metadata": {},
   "outputs": [],
   "source": []
  },
  {
   "cell_type": "code",
   "execution_count": null,
   "id": "1cefae48",
   "metadata": {},
   "outputs": [],
   "source": []
  },
  {
   "cell_type": "code",
   "execution_count": null,
   "id": "33cb9e45",
   "metadata": {},
   "outputs": [],
   "source": []
  },
  {
   "cell_type": "code",
   "execution_count": null,
   "id": "1135e4c5",
   "metadata": {},
   "outputs": [],
   "source": []
  },
  {
   "cell_type": "code",
   "execution_count": null,
   "id": "896ee63d",
   "metadata": {},
   "outputs": [],
   "source": []
  },
  {
   "cell_type": "code",
   "execution_count": null,
   "id": "6e35bd13",
   "metadata": {},
   "outputs": [],
   "source": []
  }
 ],
 "metadata": {
  "kernelspec": {
   "display_name": "Python 3 (ipykernel)",
   "language": "python",
   "name": "python3"
  },
  "language_info": {
   "codemirror_mode": {
    "name": "ipython",
    "version": 3
   },
   "file_extension": ".py",
   "mimetype": "text/x-python",
   "name": "python",
   "nbconvert_exporter": "python",
   "pygments_lexer": "ipython3",
   "version": "3.9.7"
  }
 },
 "nbformat": 4,
 "nbformat_minor": 5
}
