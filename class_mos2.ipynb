{
 "cells": [
  {
   "cell_type": "code",
   "execution_count": 7,
   "id": "21f6bab6",
   "metadata": {},
   "outputs": [
    {
     "name": "stdout",
     "output_type": "stream",
     "text": [
      "move\n",
      "draw\n",
      "10\n",
      "110\n"
     ]
    }
   ],
   "source": [
    "class Point:\n",
    "    def move(self):\n",
    "        print('move')\n",
    "    def draw(self):\n",
    "        print(\"draw\")\n",
    "point1=Point()\n",
    "# created a object up there \n",
    "point1.move()\n",
    "point1.draw()\n",
    "# creating a variable for the instance\n",
    "point1.x=10\n",
    "point1.y=90\n",
    "print(point1.x)\n",
    "\n",
    "#  creating another object \n",
    "point2=Point()\n",
    "point2.x=100\n",
    "point2.y=1234\n",
    "#  dealing with the object directly here\n",
    "print(point1.x+point2.x)\n"
   ]
  },
  {
   "cell_type": "code",
   "execution_count": 10,
   "id": "c2289ff6",
   "metadata": {},
   "outputs": [
    {
     "name": "stdout",
     "output_type": "stream",
     "text": [
      "12\n"
     ]
    }
   ],
   "source": [
    "class Point:\n",
    "    def __init__(self,x,y):\n",
    "        self.x=x\n",
    "        self.y=y\n",
    "    def move(self):\n",
    "        print('move')\n",
    "    def draw(self):\n",
    "        print(\"draw\")\n",
    "p=Point(100,12)\n",
    "p.x=100345\n",
    "print(p.y)"
   ]
  },
  {
   "cell_type": "code",
   "execution_count": 13,
   "id": "52b93531",
   "metadata": {},
   "outputs": [
    {
     "name": "stdout",
     "output_type": "stream",
     "text": [
      "shekhar is talking so finely \n"
     ]
    }
   ],
   "source": [
    "class Person:\n",
    "    def __init__(self,name):\n",
    "        self.name=name\n",
    "    def talk(self):\n",
    "        print(f'{self.name} is talking so finely ')\n",
    "p2=Person(\"shekhar\")\n",
    "p2.talk()"
   ]
  },
  {
   "cell_type": "code",
   "execution_count": null,
   "id": "b49f1737",
   "metadata": {},
   "outputs": [],
   "source": []
  }
 ],
 "metadata": {
  "kernelspec": {
   "display_name": "Python 3 (ipykernel)",
   "language": "python",
   "name": "python3"
  },
  "language_info": {
   "codemirror_mode": {
    "name": "ipython",
    "version": 3
   },
   "file_extension": ".py",
   "mimetype": "text/x-python",
   "name": "python",
   "nbconvert_exporter": "python",
   "pygments_lexer": "ipython3",
   "version": "3.9.7"
  }
 },
 "nbformat": 4,
 "nbformat_minor": 5
}
